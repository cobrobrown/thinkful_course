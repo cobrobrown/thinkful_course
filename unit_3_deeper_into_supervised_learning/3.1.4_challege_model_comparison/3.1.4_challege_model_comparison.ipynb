{
 "cells": [
  {
   "cell_type": "markdown",
   "metadata": {},
   "source": [
    "# Problem Statement\n",
    "Here let's work on regression. Find a data set and build a KNN Regression and an OLS regression. Compare the two. How similar are they? Do they miss in different ways?\n",
    "\n",
    "Create a Jupyter notebook with your models. At the end in a markdown cell write a few paragraphs to describe the models' behaviors and why you favor one model or the other. Try to determine whether there is a situation where you would change your mind, or whether one is unambiguously better than the other. Lastly, try to note what it is about the data that causes the better model to outperform the weaker model. Submit a link to your notebook below.\n",
    "### Outline\n",
    "1. [dataset](#dataset)\n",
    "2. [OLS regression](#ols_regression)\n",
    "3. [KNN regression](#knn_regression)\n",
    "4. [Write-up](#write_up)"
   ]
  },
  {
   "cell_type": "markdown",
   "metadata": {},
   "source": [
    "<a id = 'dataset'></a>\n",
    "# Dataset\n",
    "I'm going to use a movie production dataset from the Opus group. This data contains "
   ]
  },
  {
   "cell_type": "code",
   "execution_count": 1,
   "metadata": {},
   "outputs": [],
   "source": [
    "import pandas as pd\n",
    "import seaborn as sns\n",
    "import matplotlib.pyplot as plt\n",
    "from sklearn import neighbors\n",
    "import statsmodels.formula.api as smf\n",
    "from sklearn import linear_model\n",
    "from sklearn.model_selection import cross_val_score\n",
    "from scipy import stats\n",
    "from sklearn.metrics import mean_squared_error"
   ]
  },
  {
   "cell_type": "code",
   "execution_count": 2,
   "metadata": {},
   "outputs": [
    {
     "data": {
      "text/plain": [
       "(1784, 5)"
      ]
     },
     "metadata": {},
     "output_type": "display_data"
    },
    {
     "data": {
      "text/html": [
       "<div>\n",
       "<style scoped>\n",
       "    .dataframe tbody tr th:only-of-type {\n",
       "        vertical-align: middle;\n",
       "    }\n",
       "\n",
       "    .dataframe tbody tr th {\n",
       "        vertical-align: top;\n",
       "    }\n",
       "\n",
       "    .dataframe thead th {\n",
       "        text-align: right;\n",
       "    }\n",
       "</style>\n",
       "<table border=\"1\" class=\"dataframe\">\n",
       "  <thead>\n",
       "    <tr style=\"text-align: right;\">\n",
       "      <th></th>\n",
       "      <th>movie_name</th>\n",
       "      <th>production_year</th>\n",
       "      <th>production_budget</th>\n",
       "      <th>running_time</th>\n",
       "      <th>international_box_office</th>\n",
       "    </tr>\n",
       "  </thead>\n",
       "  <tbody>\n",
       "    <tr>\n",
       "      <th>0</th>\n",
       "      <td>Peaceful Warrior</td>\n",
       "      <td>2006</td>\n",
       "      <td>10000000</td>\n",
       "      <td>NaN</td>\n",
       "      <td>366513</td>\n",
       "    </tr>\n",
       "    <tr>\n",
       "      <th>1</th>\n",
       "      <td>End of the Spear</td>\n",
       "      <td>2006</td>\n",
       "      <td>10000000</td>\n",
       "      <td>NaN</td>\n",
       "      <td>175380</td>\n",
       "    </tr>\n",
       "    <tr>\n",
       "      <th>2</th>\n",
       "      <td>Krrish</td>\n",
       "      <td>2006</td>\n",
       "      <td>10000000</td>\n",
       "      <td>NaN</td>\n",
       "      <td>31000000</td>\n",
       "    </tr>\n",
       "  </tbody>\n",
       "</table>\n",
       "</div>"
      ],
      "text/plain": [
       "         movie_name  production_year  production_budget  running_time  \\\n",
       "0  Peaceful Warrior             2006           10000000           NaN   \n",
       "1  End of the Spear             2006           10000000           NaN   \n",
       "2            Krrish             2006           10000000           NaN   \n",
       "\n",
       "   international_box_office  \n",
       "0                    366513  \n",
       "1                    175380  \n",
       "2                  31000000  "
      ]
     },
     "metadata": {},
     "output_type": "display_data"
    }
   ],
   "source": [
    "data_path = '../../datasets/opusdata/opusdata.csv'\n",
    "df = pd.read_csv(data_path)[['movie_name', 'production_year', 'production_budget', 'running_time', 'international_box_office']]\n",
    "display(df.shape)\n",
    "display(df.head(3))"
   ]
  },
  {
   "cell_type": "code",
   "execution_count": 3,
   "metadata": {},
   "outputs": [
    {
     "name": "stdout",
     "output_type": "stream",
     "text": [
      "movie_name                    0\n",
      "production_year               0\n",
      "production_budget             0\n",
      "running_time                117\n",
      "international_box_office      0\n",
      "dtype: int64\n"
     ]
    }
   ],
   "source": [
    "df_null = df.isnull()\n",
    "print (df_null.sum())"
   ]
  },
  {
   "cell_type": "code",
   "execution_count": 4,
   "metadata": {},
   "outputs": [
    {
     "data": {
      "text/html": [
       "<style  type=\"text/css\" >\n",
       "    #T_79de97a4_4753_11e8_a70c_b46d835b55earow3_col2 {\n",
       "            background-color:  yellow;\n",
       "        }    #T_79de97a4_4753_11e8_a70c_b46d835b55earow3_col3 {\n",
       "            background-color:  yellow;\n",
       "        }</style>  \n",
       "<table id=\"T_79de97a4_4753_11e8_a70c_b46d835b55ea\" > \n",
       "<thead>    <tr> \n",
       "        <th class=\"blank level0\" ></th> \n",
       "        <th class=\"col_heading level0 col0\" >production_year</th> \n",
       "        <th class=\"col_heading level0 col1\" >production_budget</th> \n",
       "        <th class=\"col_heading level0 col2\" >running_time</th> \n",
       "        <th class=\"col_heading level0 col3\" >international_box_office</th> \n",
       "    </tr></thead> \n",
       "<tbody>    <tr> \n",
       "        <th id=\"T_79de97a4_4753_11e8_a70c_b46d835b55ealevel0_row0\" class=\"row_heading level0 row0\" >count</th> \n",
       "        <td id=\"T_79de97a4_4753_11e8_a70c_b46d835b55earow0_col0\" class=\"data row0 col0\" >1667</td> \n",
       "        <td id=\"T_79de97a4_4753_11e8_a70c_b46d835b55earow0_col1\" class=\"data row0 col1\" >1667</td> \n",
       "        <td id=\"T_79de97a4_4753_11e8_a70c_b46d835b55earow0_col2\" class=\"data row0 col2\" >1667</td> \n",
       "        <td id=\"T_79de97a4_4753_11e8_a70c_b46d835b55earow0_col3\" class=\"data row0 col3\" >1667</td> \n",
       "    </tr>    <tr> \n",
       "        <th id=\"T_79de97a4_4753_11e8_a70c_b46d835b55ealevel0_row1\" class=\"row_heading level0 row1\" >mean</th> \n",
       "        <td id=\"T_79de97a4_4753_11e8_a70c_b46d835b55earow1_col0\" class=\"data row1 col0\" >2011.11</td> \n",
       "        <td id=\"T_79de97a4_4753_11e8_a70c_b46d835b55earow1_col1\" class=\"data row1 col1\" >5.51639e+07</td> \n",
       "        <td id=\"T_79de97a4_4753_11e8_a70c_b46d835b55earow1_col2\" class=\"data row1 col2\" >108.768</td> \n",
       "        <td id=\"T_79de97a4_4753_11e8_a70c_b46d835b55earow1_col3\" class=\"data row1 col3\" >9.81086e+07</td> \n",
       "    </tr>    <tr> \n",
       "        <th id=\"T_79de97a4_4753_11e8_a70c_b46d835b55ealevel0_row2\" class=\"row_heading level0 row2\" >std</th> \n",
       "        <td id=\"T_79de97a4_4753_11e8_a70c_b46d835b55earow2_col0\" class=\"data row2 col0\" >3.1196</td> \n",
       "        <td id=\"T_79de97a4_4753_11e8_a70c_b46d835b55earow2_col1\" class=\"data row2 col1\" >5.43566e+07</td> \n",
       "        <td id=\"T_79de97a4_4753_11e8_a70c_b46d835b55earow2_col2\" class=\"data row2 col2\" >20.6402</td> \n",
       "        <td id=\"T_79de97a4_4753_11e8_a70c_b46d835b55earow2_col3\" class=\"data row2 col3\" >1.59472e+08</td> \n",
       "    </tr>    <tr> \n",
       "        <th id=\"T_79de97a4_4753_11e8_a70c_b46d835b55ealevel0_row3\" class=\"row_heading level0 row3\" >min</th> \n",
       "        <td id=\"T_79de97a4_4753_11e8_a70c_b46d835b55earow3_col0\" class=\"data row3 col0\" >2006</td> \n",
       "        <td id=\"T_79de97a4_4753_11e8_a70c_b46d835b55earow3_col1\" class=\"data row3 col1\" >1e+07</td> \n",
       "        <td id=\"T_79de97a4_4753_11e8_a70c_b46d835b55earow3_col2\" class=\"data row3 col2\" >0</td> \n",
       "        <td id=\"T_79de97a4_4753_11e8_a70c_b46d835b55earow3_col3\" class=\"data row3 col3\" >0</td> \n",
       "    </tr>    <tr> \n",
       "        <th id=\"T_79de97a4_4753_11e8_a70c_b46d835b55ealevel0_row4\" class=\"row_heading level0 row4\" >25%</th> \n",
       "        <td id=\"T_79de97a4_4753_11e8_a70c_b46d835b55earow4_col0\" class=\"data row4 col0\" >2009</td> \n",
       "        <td id=\"T_79de97a4_4753_11e8_a70c_b46d835b55earow4_col1\" class=\"data row4 col1\" >2e+07</td> \n",
       "        <td id=\"T_79de97a4_4753_11e8_a70c_b46d835b55earow4_col2\" class=\"data row4 col2\" >97</td> \n",
       "        <td id=\"T_79de97a4_4753_11e8_a70c_b46d835b55earow4_col3\" class=\"data row4 col3\" >1.02973e+07</td> \n",
       "    </tr>    <tr> \n",
       "        <th id=\"T_79de97a4_4753_11e8_a70c_b46d835b55ealevel0_row5\" class=\"row_heading level0 row5\" >50%</th> \n",
       "        <td id=\"T_79de97a4_4753_11e8_a70c_b46d835b55earow5_col0\" class=\"data row5 col0\" >2011</td> \n",
       "        <td id=\"T_79de97a4_4753_11e8_a70c_b46d835b55earow5_col1\" class=\"data row5 col1\" >3.5e+07</td> \n",
       "        <td id=\"T_79de97a4_4753_11e8_a70c_b46d835b55earow5_col2\" class=\"data row5 col2\" >107</td> \n",
       "        <td id=\"T_79de97a4_4753_11e8_a70c_b46d835b55earow5_col3\" class=\"data row5 col3\" >3.84686e+07</td> \n",
       "    </tr>    <tr> \n",
       "        <th id=\"T_79de97a4_4753_11e8_a70c_b46d835b55ealevel0_row6\" class=\"row_heading level0 row6\" >75%</th> \n",
       "        <td id=\"T_79de97a4_4753_11e8_a70c_b46d835b55earow6_col0\" class=\"data row6 col0\" >2014</td> \n",
       "        <td id=\"T_79de97a4_4753_11e8_a70c_b46d835b55earow6_col1\" class=\"data row6 col1\" >7e+07</td> \n",
       "        <td id=\"T_79de97a4_4753_11e8_a70c_b46d835b55earow6_col2\" class=\"data row6 col2\" >120</td> \n",
       "        <td id=\"T_79de97a4_4753_11e8_a70c_b46d835b55earow6_col3\" class=\"data row6 col3\" >1.06446e+08</td> \n",
       "    </tr>    <tr> \n",
       "        <th id=\"T_79de97a4_4753_11e8_a70c_b46d835b55ealevel0_row7\" class=\"row_heading level0 row7\" >max</th> \n",
       "        <td id=\"T_79de97a4_4753_11e8_a70c_b46d835b55earow7_col0\" class=\"data row7 col0\" >2017</td> \n",
       "        <td id=\"T_79de97a4_4753_11e8_a70c_b46d835b55earow7_col1\" class=\"data row7 col1\" >4.25e+08</td> \n",
       "        <td id=\"T_79de97a4_4753_11e8_a70c_b46d835b55earow7_col2\" class=\"data row7 col2\" >201</td> \n",
       "        <td id=\"T_79de97a4_4753_11e8_a70c_b46d835b55earow7_col3\" class=\"data row7 col3\" >2.02341e+09</td> \n",
       "    </tr></tbody> \n",
       "</table> "
      ],
      "text/plain": [
       "<pandas.io.formats.style.Styler at 0x7fb73b5ace10>"
      ]
     },
     "metadata": {},
     "output_type": "display_data"
    }
   ],
   "source": [
    "df_clean = df.dropna()\n",
    "df_describe = df_clean.describe()\n",
    "def highlight_zeros(val):\n",
    "    if val < 1.0:\n",
    "        return 'background-color: yellow'\n",
    "    else: return ''\n",
    "s = df_describe.style.applymap(highlight_zeros)\n",
    "display(s)"
   ]
  },
  {
   "cell_type": "code",
   "execution_count": 5,
   "metadata": {},
   "outputs": [
    {
     "data": {
      "image/png": "[encoded data removed]",
      "text/plain": [
       "<Figure size 432x288 with 1 Axes>"
      ]
     },
     "metadata": {},
     "output_type": "display_data"
    },
    {
     "name": "stdout",
     "output_type": "stream",
     "text": [
      "                                movie_name  production_year  \\\n",
      "690                                 Avatar             2009   \n",
      "1454                             Furious 7             2014   \n",
      "1601                        Jurassic World             2015   \n",
      "1604  Star Wars Ep. VII: The Force Awakens             2015   \n",
      "1725               The Fate of the Furious             2016   \n",
      "\n",
      "      production_budget  running_time  international_box_office  \n",
      "690           425000000         162.0                2023411357  \n",
      "1454          190000000         137.0                1165715774  \n",
      "1601          215000000         124.0                1019442583  \n",
      "1604          306000000         136.0                1122000000  \n",
      "1725          250000000         136.0                1011701261  \n"
     ]
    }
   ],
   "source": [
    "# plot outcome variable\n",
    "plt.boxplot(df_clean['international_box_office'])\n",
    "plt.title(\"international_box_office Box Plot\")\n",
    "plt.show()\n",
    "print (df_clean[df_clean['international_box_office'] > 1000000000])"
   ]
  },
  {
   "cell_type": "code",
   "execution_count": 6,
   "metadata": {},
   "outputs": [],
   "source": [
    "# define X and Y\n",
    "X = df_clean[['production_year', 'production_budget', 'running_time']]\n",
    "Y = df_clean['international_box_office']"
   ]
  },
  {
   "cell_type": "markdown",
   "metadata": {},
   "source": [
    "<a id = 'ols_regression'></a>\n",
    "# OLS Regression"
   ]
  },
  {
   "cell_type": "code",
   "execution_count": 8,
   "metadata": {},
   "outputs": [
    {
     "name": "stdout",
     "output_type": "stream",
     "text": [
      "R-squared Accuracy: 0.5554 (+/- 0.1529)\n",
      "MSE Accuracy: -5.95e+07 (+/- 2.38e+07)\n",
      "\n",
      "Parameters\n",
      "\n",
      " Intercept           -7.139990e+09\n",
      "production_year      3.522677e+06\n",
      "production_budget    2.212594e+00\n",
      "running_time         2.901373e+05\n",
      "dtype: float64\n",
      "\n",
      "P-values\n",
      "\n",
      " Intercept             8.334221e-06\n",
      "production_year       9.837958e-06\n",
      "production_budget    5.892767e-302\n",
      "running_time          2.056897e-02\n",
      "dtype: float64\n",
      "\n",
      "Confidence Intervals\n"
     ]
    },
    {
     "data": {
      "text/html": [
       "<div>\n",
       "<style scoped>\n",
       "    .dataframe tbody tr th:only-of-type {\n",
       "        vertical-align: middle;\n",
       "    }\n",
       "\n",
       "    .dataframe tbody tr th {\n",
       "        vertical-align: top;\n",
       "    }\n",
       "\n",
       "    .dataframe thead th {\n",
       "        text-align: right;\n",
       "    }\n",
       "</style>\n",
       "<table border=\"1\" class=\"dataframe\">\n",
       "  <thead>\n",
       "    <tr style=\"text-align: right;\">\n",
       "      <th></th>\n",
       "      <th>0</th>\n",
       "      <th>1</th>\n",
       "    </tr>\n",
       "  </thead>\n",
       "  <tbody>\n",
       "    <tr>\n",
       "      <th>Intercept</th>\n",
       "      <td>-1.027265e+10</td>\n",
       "      <td>-4.007333e+09</td>\n",
       "    </tr>\n",
       "    <tr>\n",
       "      <th>production_year</th>\n",
       "      <td>1.964550e+06</td>\n",
       "      <td>5.080804e+06</td>\n",
       "    </tr>\n",
       "    <tr>\n",
       "      <th>production_budget</th>\n",
       "      <td>2.118999e+00</td>\n",
       "      <td>2.306190e+00</td>\n",
       "    </tr>\n",
       "    <tr>\n",
       "      <th>running_time</th>\n",
       "      <td>4.463790e+04</td>\n",
       "      <td>5.356368e+05</td>\n",
       "    </tr>\n",
       "  </tbody>\n",
       "</table>\n",
       "</div>"
      ],
      "text/plain": [
       "                              0             1\n",
       "Intercept         -1.027265e+10 -4.007333e+09\n",
       "production_year    1.964550e+06  5.080804e+06\n",
       "production_budget  2.118999e+00  2.306190e+00\n",
       "running_time       4.463790e+04  5.356368e+05"
      ]
     },
     "metadata": {},
     "output_type": "display_data"
    },
    {
     "data": {
      "image/png": "[encoded data removed]",
      "text/plain": [
       "<Figure size 432x432 with 3 Axes>"
      ]
     },
     "metadata": {},
     "output_type": "display_data"
    },
    {
     "data": {
      "image/png": "[encoded data removed]",
      "text/plain": [
       "<Figure size 432x288 with 2 Axes>"
      ]
     },
     "metadata": {},
     "output_type": "display_data"
    }
   ],
   "source": [
    "# set up OLS linear formula and evaluation function\n",
    "    # all variables as-is\n",
    "linear_formula = \"international_box_office ~ production_year + production_budget + running_time\"\n",
    "lg_model = smf.ols(formula=linear_formula, data=df_clean).fit()\n",
    "# 5 fold cross validation for r-squared\n",
    "sk_lg_model = linear_model.LinearRegression()\n",
    "ols_score = cross_val_score(sk_lg_model, X, Y, cv=5)\n",
    "print(\"R-squared Accuracy: %0.4f (+/- %0.4f)\" % (ols_score.mean(), ols_score.std() * 2))\n",
    "ols_mse_score = cross_val_score(sk_lg_model, X, Y, cv=5, scoring = 'neg_mean_absolute_error')\n",
    "print (\"MSE Accuracy: %0.2e (+/- %0.2e)\" % (ols_mse_score.mean(), ols_mse_score.std() * 2))\n",
    "# check parameters\n",
    "print (\"\\nParameters\\n\\n\", lg_model.params)\n",
    "# verify low p-values and confidence intervals to keep features\n",
    "print (\"\\nP-values\\n\\n\", lg_model.pvalues)\n",
    "print (\"\\nConfidence Intervals\")\n",
    "display(lg_model.conf_int())\n",
    "# residuals\n",
    "ols_ypred = lg_model.predict()\n",
    "ols_residual = ols_ypred - Y\n",
    "\n",
    "sns.jointplot(ols_ypred, ols_residual, kind = 'kde', xlim = [0,100000000], ylim = [-300000000,300000000])\n",
    "plt.show()\n",
    "\n",
    "sns.heatmap(df_clean.corr())\n",
    "plt.show()"
   ]
  },
  {
   "cell_type": "markdown",
   "metadata": {},
   "source": [
    "<a id = 'knn_regression'></a>\n",
    "# KNN Regression"
   ]
  },
  {
   "cell_type": "code",
   "execution_count": 9,
   "metadata": {},
   "outputs": [
    {
     "name": "stdout",
     "output_type": "stream",
     "text": [
      "Nearest neighbors: 5\n",
      "R-squared Accuracy: 0.4741 (+/- 0.1240)\n",
      "MSE Accuracy: -6.16e+07 (+/- 2.29e+07)\n",
      "Nearest neighbors: 15\n",
      "R-squared Accuracy: 0.5252 (+/- 0.0820)\n",
      "MSE Accuracy: -5.74e+07 (+/- 2.22e+07)\n",
      "Nearest neighbors: 25\n",
      "R-squared Accuracy: 0.5295 (+/- 0.0781)\n",
      "MSE Accuracy: -5.72e+07 (+/- 2.45e+07)\n",
      "Nearest neighbors: 35\n",
      "R-squared Accuracy: 0.5205 (+/- 0.0744)\n",
      "MSE Accuracy: -5.78e+07 (+/- 2.54e+07)\n",
      "Nearest neighbors: 45\n",
      "R-squared Accuracy: 0.5233 (+/- 0.0845)\n",
      "MSE Accuracy: -5.76e+07 (+/- 2.52e+07)\n",
      "Nearest neighbors: 55\n",
      "R-squared Accuracy: 0.5164 (+/- 0.0870)\n",
      "MSE Accuracy: -5.78e+07 (+/- 2.53e+07)\n",
      "Nearest neighbors: 65\n",
      "R-squared Accuracy: 0.5138 (+/- 0.0890)\n",
      "MSE Accuracy: -5.79e+07 (+/- 2.53e+07)\n"
     ]
    },
    {
     "data": {
      "image/png": "[encoded data removed]",
      "text/plain": [
       "<Figure size 432x432 with 3 Axes>"
      ]
     },
     "metadata": {},
     "output_type": "display_data"
    }
   ],
   "source": [
    "# Our input data frame will be the z-scores this time instead of raw data.\n",
    "X_norm = X.apply(stats.zscore)\n",
    "for k in range(5,75,10):\n",
    "    knn = neighbors.KNeighborsRegressor(n_neighbors=k, weights='uniform')\n",
    "    knn.fit(X_norm,Y)\n",
    "    knn_ypred = knn.predict(X_norm)\n",
    "    score = cross_val_score(knn, X_norm, Y, cv=5)\n",
    "    print (\"Nearest neighbors: {}\".format(k))\n",
    "    print(\"R-squared Accuracy: %0.4f (+/- %0.4f)\" % (score.mean(), score.std() * 2))\n",
    "    mse_score = cross_val_score(knn, X_norm, Y, cv=5, scoring = 'neg_mean_absolute_error')\n",
    "    print (\"MSE Accuracy: %0.2e (+/- %0.2e)\" % (mse_score.mean(), mse_score.std() * 2))\n",
    "# best k is 25\n",
    "knn = neighbors.KNeighborsRegressor(n_neighbors=k, weights='uniform')\n",
    "knn_score = cross_val_score(knn, X_norm, Y, cv=5)\n",
    "knn_mse_score = cross_val_score(knn, X_norm, Y, cv=5, scoring = 'neg_mean_absolute_error')\n",
    "knn.fit(X_norm,Y)\n",
    "knn_ypred = knn.predict(X_norm)\n",
    "knn_residual = Y - knn_ypred\n",
    "sns.jointplot(knn_ypred, knn_residual, kind = \"kde\")\n",
    "plt.show()"
   ]
  },
  {
   "cell_type": "markdown",
   "metadata": {},
   "source": [
    "<a id = 'write_up'></a>\n",
    "# Write-up\n",
    "All iterations of the KNN regressor do not stack up against the OLS regressor. This may be because the data has a linear nature to it, rather than similar output values being due to similar input values. Although the OLS regressor has a slightly better r-squared, the KNN regressor maintains more consistent scores through cross-validation."
   ]
  },
  {
   "cell_type": "code",
   "execution_count": 13,
   "metadata": {},
   "outputs": [
    {
     "name": "stdout",
     "output_type": "stream",
     "text": [
      "R-squared Scores\tMSE Scores\n",
      "OLS: 0.5554\t\t-5.95e+07\n",
      "KNN: 0.5138\t\t-5.79e+07\n"
     ]
    }
   ],
   "source": [
    "print (\"R-squared Scores\\tMSE Scores\\nOLS: %0.4f\\t\\t%0.2e\\nKNN: %0.4f\\t\\t%0.2e\" % (ols_score.mean(), ols_mse_score.mean(), knn_score.mean(), knn_mse_score.mean()))"
   ]
  },
  {
   "cell_type": "markdown",
   "metadata": {},
   "source": [
    "<br>In choosing an algorithm for predicting international box office sales, I would choose the KNN regressor. It has a comparable R-squared and is homoscedastic. The one unique difference which guides my decision, is the fact that the training set contains outliers, both low (near 0) and high (near 2 billion). Unless given input extremely close to the input that causes these outliers, KNN will not make outlandish predictions for regular data. Here, linear regression may be less robust to outliers. "
   ]
  },
  {
   "cell_type": "code",
   "execution_count": null,
   "metadata": {},
   "outputs": [],
   "source": []
  }
 ],
 "metadata": {
  "kernelspec": {
   "display_name": "Python 3",
   "language": "python",
   "name": "python3"
  },
  "language_info": {
   "codemirror_mode": {
    "name": "ipython",
    "version": 3
   },
   "file_extension": ".py",
   "mimetype": "text/x-python",
   "name": "python",
   "nbconvert_exporter": "python",
   "pygments_lexer": "ipython3",
   "version": "3.6.3"
  }
 },
 "nbformat": 4,
 "nbformat_minor": 2
}
