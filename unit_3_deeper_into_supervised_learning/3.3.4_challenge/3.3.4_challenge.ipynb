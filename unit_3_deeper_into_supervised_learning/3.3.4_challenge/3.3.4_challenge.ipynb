{
 "cells": [
  {
   "cell_type": "markdown",
   "metadata": {},
   "source": [
    "# Problem Statement\n",
    "Now that you have two new regression methods at your fingertips, it's time to give them a spin. In fact, for this challenge, let's put them together! Pick a dataset of your choice with a binary outcome and the potential for at least 15 features. If you're drawing a blank, the crime rates in 2013 dataset has a lot of variables that could be made into a modelable binary outcome.\n",
    "\n",
    "Engineer your features, then create three models. Each model will be run on a training set and a test-set (or multiple test-sets, if you take a folds approach). The models should be:\n",
    "\n",
    "Vanilla logistic regression\n",
    "Ridge logistic regression\n",
    "Lasso logistic regression\n",
    "If you're stuck on how to begin combining your two new modeling skills, here's a hint: the SKlearn LogisticRegression method has a \"penalty\" argument that takes either 'l1' or 'l2' as a value.\n",
    "\n",
    "In your report, evaluate all three models and decide on your best. Be clear about the decisions you made that led to these models (feature selection, regularization parameter selection, model evaluation criteria) and why you think that particular model is the best of the three. Also reflect on the strengths and limitations of regression as a modeling approach. Were there things you couldn't do but you wish you could have done?\n",
    "\n",
    "### Outline\n",
    "1. [Data](#data)\n",
    "2. [Vanilla](#vanilla)\n",
    "3. [Ridge](#ridge)\n",
    "4. [Lasso](#lasso)\n",
    "5. [Write-up](#write_up)"
   ]
  },
  {
   "cell_type": "markdown",
   "metadata": {},
   "source": [
    "<a id = 'data'></a>\n",
    "# Data"
   ]
  },
  {
   "cell_type": "code",
   "execution_count": 1,
   "metadata": {},
   "outputs": [],
   "source": [
    "import pandas as pd\n",
    "import numpy as np\n",
    "current_state = np.random.get_state()\n",
    "np.random.set_state(current_state)\n",
    "from sklearn import linear_model\n",
    "import matplotlib.pyplot as plt\n",
    "import seaborn as sns\n",
    "from scipy import stats\n",
    "from sklearn.model_selection import cross_val_score"
   ]
  },
  {
   "cell_type": "code",
   "execution_count": 2,
   "metadata": {},
   "outputs": [
    {
     "name": "stdout",
     "output_type": "stream",
     "text": [
      "Shape of df: (13129, 250)\n"
     ]
    }
   ],
   "source": [
    "data_path = '../../datasets/fma/echonest_cols.csv'\n",
    "df = pd.read_csv(data_path)\n",
    "df_feat = df.copy()\n",
    "print (\"Shape of df: {}\".format(df_feat.shape))"
   ]
  },
  {
   "cell_type": "code",
   "execution_count": 3,
   "metadata": {},
   "outputs": [],
   "source": [
    "# unhelpful columns\n",
    "df_feat.drop(columns = ['track_id', 'artist_name', 'release'], inplace = True)\n",
    "# collinearity\n",
    "temporal_cols = df_feat.columns[-224:]\n",
    "feat_corr = df_feat.corr()\n",
    "feat_corr = feat_corr.dropna(axis = 0)\n",
    "corr_col = []\n",
    "for col in temporal_cols:\n",
    "    corrs = sorted(abs(feat_corr[col]), reverse = True)\n",
    "    corr_score = corrs[0]+corrs[1]\n",
    "    if corr_score > 1.5:\n",
    "        corr_col.append(col)\n",
    "# drop correlated columns\n",
    "df_feat.drop(columns = corr_col, inplace = True)\n",
    "\n",
    "# nans\n",
    "df_nans = df_feat.isnull().sum()\n",
    "nans_cols = list(df_nans[df_nans > 100].index)\n",
    "df_feat.drop(columns = nans_cols, inplace = True)\n",
    "df_feat.fillna(value = df_feat.median(), inplace = True)\n",
    "# zeros\n",
    "df_zeros = (df_feat == 0).sum()\n",
    "zeros_cols = list(df_zeros[df_zeros > 100].index)\n",
    "df_feat.drop(columns = zeros_cols, inplace = True)"
   ]
  },
  {
   "cell_type": "code",
   "execution_count": 4,
   "metadata": {},
   "outputs": [
    {
     "name": "stdout",
     "output_type": "stream",
     "text": [
      "Shape of X: (13129, 25)\n"
     ]
    },
    {
     "name": "stderr",
     "output_type": "stream",
     "text": [
      "/home/conner/.local/lib/python3.6/site-packages/ipykernel_launcher.py:6: SettingWithCopyWarning: \n",
      "A value is trying to be set on a copy of a slice from a DataFrame\n",
      "\n",
      "See the caveats in the documentation: http://pandas.pydata.org/pandas-docs/stable/indexing.html#indexing-view-versus-copy\n",
      "  \n",
      "/home/conner/.local/lib/python3.6/site-packages/ipykernel_launcher.py:7: SettingWithCopyWarning: \n",
      "A value is trying to be set on a copy of a slice from a DataFrame\n",
      "\n",
      "See the caveats in the documentation: http://pandas.pydata.org/pandas-docs/stable/indexing.html#indexing-view-versus-copy\n",
      "  import sys\n"
     ]
    }
   ],
   "source": [
    "# choose target and input\n",
    "X = df_feat[list(set(list(df_feat.columns)) - set(['artist_familiarity']))]\n",
    "print (\"Shape of X: {}\".format(X.shape))\n",
    "y = df['artist_familiarity']\n",
    "# y >= 0.3 is familiar, y < 0.3 is unfamiliar\n",
    "y[y >= 0.3] = 1\n",
    "y[y < 0.3] = 0"
   ]
  },
  {
   "cell_type": "markdown",
   "metadata": {},
   "source": [
    "<a id = 'vanilla'></a>\n",
    "# Vanilla"
   ]
  },
  {
   "cell_type": "code",
   "execution_count": 5,
   "metadata": {},
   "outputs": [],
   "source": [
    "def evaluate_model(model, X, y):\n",
    "    # Fit the model.\n",
    "    fit = model.fit(X, y)\n",
    "    return cross_val_score(model, X, y, cv = 5), fit.coef_"
   ]
  },
  {
   "cell_type": "code",
   "execution_count": 6,
   "metadata": {},
   "outputs": [],
   "source": [
    "vanilla_model = linear_model.LogisticRegression(C=1e9)\n",
    "vanilla_scores, vanilla_coefs = evaluate_model(vanilla_model, X.apply(stats.zscore, axis = 1), y)"
   ]
  },
  {
   "cell_type": "markdown",
   "metadata": {},
   "source": [
    "<a id = 'ridge'></a>\n",
    "# Ridge"
   ]
  },
  {
   "cell_type": "code",
   "execution_count": 7,
   "metadata": {},
   "outputs": [],
   "source": [
    "ridge_model = linear_model.RidgeClassifier(alpha = 1e-4)\n",
    "ridge_scores, ridge_coefs = evaluate_model(ridge_model, X, y)"
   ]
  },
  {
   "cell_type": "markdown",
   "metadata": {},
   "source": [
    "<a id = 'lasso'></a>\n",
    "# Lasso"
   ]
  },
  {
   "cell_type": "code",
   "execution_count": 8,
   "metadata": {},
   "outputs": [],
   "source": [
    "lasso_model = linear_model.LogisticRegression(penalty = 'l1')\n",
    "lasso_scores, lasso_coefs = evaluate_model(lasso_model, X, y)"
   ]
  },
  {
   "cell_type": "markdown",
   "metadata": {},
   "source": [
    "<a id = 'write_up'></a>\n",
    "# Write-up"
   ]
  },
  {
   "cell_type": "code",
   "execution_count": 9,
   "metadata": {},
   "outputs": [
    {
     "name": "stdout",
     "output_type": "stream",
     "text": [
      "\t\tMean Accuracy\n",
      "Vanilla: \t0.8720 (+/- 0.0216)\n",
      "Ridge: \t\t0.8715 (+/- 0.0206)\n",
      "Lasso: \t\t0.8740 (+/- 0.0207)\n"
     ]
    }
   ],
   "source": [
    "# display accuracy\n",
    "print (\"\\t\\tMean Accuracy\\nVanilla: \\t%0.4f (+/- %0.4f)\" % (vanilla_scores.mean(), vanilla_scores.std()))\n",
    "print (\"Ridge: \\t\\t%0.4f (+/- %0.4f)\" % (ridge_scores.mean(), ridge_scores.std()))\n",
    "print (\"Lasso: \\t\\t%0.4f (+/- %0.4f)\" % (lasso_scores.mean(), lasso_scores.std()))"
   ]
  },
  {
   "cell_type": "code",
   "execution_count": 10,
   "metadata": {},
   "outputs": [
    {
     "data": {
      "text/html": [
       "<div>\n",
       "<style scoped>\n",
       "    .dataframe tbody tr th:only-of-type {\n",
       "        vertical-align: middle;\n",
       "    }\n",
       "\n",
       "    .dataframe tbody tr th {\n",
       "        vertical-align: top;\n",
       "    }\n",
       "\n",
       "    .dataframe thead th {\n",
       "        text-align: right;\n",
       "    }\n",
       "</style>\n",
       "<table border=\"1\" class=\"dataframe\">\n",
       "  <thead>\n",
       "    <tr style=\"text-align: right;\">\n",
       "      <th></th>\n",
       "      <th>vanilla</th>\n",
       "      <th>ridge</th>\n",
       "      <th>lasso</th>\n",
       "    </tr>\n",
       "  </thead>\n",
       "  <tbody>\n",
       "    <tr>\n",
       "      <th>170</th>\n",
       "      <td>0.487390</td>\n",
       "      <td>-0.000615</td>\n",
       "      <td>0.010290</td>\n",
       "    </tr>\n",
       "    <tr>\n",
       "      <th>211</th>\n",
       "      <td>2.966437</td>\n",
       "      <td>-0.001772</td>\n",
       "      <td>-0.026166</td>\n",
       "    </tr>\n",
       "    <tr>\n",
       "      <th>172</th>\n",
       "      <td>0.794032</td>\n",
       "      <td>0.010658</td>\n",
       "      <td>0.044994</td>\n",
       "    </tr>\n",
       "    <tr>\n",
       "      <th>179</th>\n",
       "      <td>-1.185860</td>\n",
       "      <td>-0.010792</td>\n",
       "      <td>-0.007379</td>\n",
       "    </tr>\n",
       "    <tr>\n",
       "      <th>valence</th>\n",
       "      <td>11.231501</td>\n",
       "      <td>0.097486</td>\n",
       "      <td>0.198311</td>\n",
       "    </tr>\n",
       "    <tr>\n",
       "      <th>acousticness</th>\n",
       "      <td>4.370769</td>\n",
       "      <td>0.099916</td>\n",
       "      <td>0.274178</td>\n",
       "    </tr>\n",
       "    <tr>\n",
       "      <th>174</th>\n",
       "      <td>-3.381389</td>\n",
       "      <td>-0.042412</td>\n",
       "      <td>-0.112860</td>\n",
       "    </tr>\n",
       "    <tr>\n",
       "      <th>liveness</th>\n",
       "      <td>-22.268186</td>\n",
       "      <td>-0.092163</td>\n",
       "      <td>-0.423843</td>\n",
       "    </tr>\n",
       "    <tr>\n",
       "      <th>169</th>\n",
       "      <td>0.698824</td>\n",
       "      <td>-0.000840</td>\n",
       "      <td>-0.021400</td>\n",
       "    </tr>\n",
       "    <tr>\n",
       "      <th>181</th>\n",
       "      <td>-0.306313</td>\n",
       "      <td>-0.002400</td>\n",
       "      <td>-0.012609</td>\n",
       "    </tr>\n",
       "    <tr>\n",
       "      <th>188</th>\n",
       "      <td>2.115106</td>\n",
       "      <td>0.014737</td>\n",
       "      <td>0.081809</td>\n",
       "    </tr>\n",
       "    <tr>\n",
       "      <th>tempo</th>\n",
       "      <td>0.191835</td>\n",
       "      <td>-0.000051</td>\n",
       "      <td>0.000028</td>\n",
       "    </tr>\n",
       "    <tr>\n",
       "      <th>191</th>\n",
       "      <td>0.623965</td>\n",
       "      <td>0.003671</td>\n",
       "      <td>0.023040</td>\n",
       "    </tr>\n",
       "    <tr>\n",
       "      <th>artist_hotttnesss</th>\n",
       "      <td>1803.174258</td>\n",
       "      <td>4.822318</td>\n",
       "      <td>39.898783</td>\n",
       "    </tr>\n",
       "    <tr>\n",
       "      <th>176</th>\n",
       "      <td>-1.544057</td>\n",
       "      <td>-0.012313</td>\n",
       "      <td>-0.045267</td>\n",
       "    </tr>\n",
       "    <tr>\n",
       "      <th>artist_discovery</th>\n",
       "      <td>-1203.255402</td>\n",
       "      <td>0.755322</td>\n",
       "      <td>-13.343083</td>\n",
       "    </tr>\n",
       "    <tr>\n",
       "      <th>instrumentalness</th>\n",
       "      <td>2.369419</td>\n",
       "      <td>0.010549</td>\n",
       "      <td>0.071696</td>\n",
       "    </tr>\n",
       "    <tr>\n",
       "      <th>182</th>\n",
       "      <td>0.255641</td>\n",
       "      <td>-0.000286</td>\n",
       "      <td>-0.001843</td>\n",
       "    </tr>\n",
       "    <tr>\n",
       "      <th>danceability</th>\n",
       "      <td>-43.141647</td>\n",
       "      <td>-0.275041</td>\n",
       "      <td>-1.280668</td>\n",
       "    </tr>\n",
       "    <tr>\n",
       "      <th>speechiness</th>\n",
       "      <td>-17.419825</td>\n",
       "      <td>-0.084606</td>\n",
       "      <td>-0.338608</td>\n",
       "    </tr>\n",
       "    <tr>\n",
       "      <th>energy</th>\n",
       "      <td>7.743504</td>\n",
       "      <td>0.102286</td>\n",
       "      <td>0.505353</td>\n",
       "    </tr>\n",
       "    <tr>\n",
       "      <th>186</th>\n",
       "      <td>0.296946</td>\n",
       "      <td>-0.001347</td>\n",
       "      <td>0.000219</td>\n",
       "    </tr>\n",
       "    <tr>\n",
       "      <th>184</th>\n",
       "      <td>0.180698</td>\n",
       "      <td>-0.000106</td>\n",
       "      <td>0.005005</td>\n",
       "    </tr>\n",
       "    <tr>\n",
       "      <th>219</th>\n",
       "      <td>-546.955509</td>\n",
       "      <td>-1.536284</td>\n",
       "      <td>0.000000</td>\n",
       "    </tr>\n",
       "    <tr>\n",
       "      <th>178</th>\n",
       "      <td>1.957861</td>\n",
       "      <td>0.009499</td>\n",
       "      <td>0.043933</td>\n",
       "    </tr>\n",
       "  </tbody>\n",
       "</table>\n",
       "</div>"
      ],
      "text/plain": [
       "                       vanilla     ridge      lasso\n",
       "170                   0.487390 -0.000615   0.010290\n",
       "211                   2.966437 -0.001772  -0.026166\n",
       "172                   0.794032  0.010658   0.044994\n",
       "179                  -1.185860 -0.010792  -0.007379\n",
       "valence              11.231501  0.097486   0.198311\n",
       "acousticness          4.370769  0.099916   0.274178\n",
       "174                  -3.381389 -0.042412  -0.112860\n",
       "liveness            -22.268186 -0.092163  -0.423843\n",
       "169                   0.698824 -0.000840  -0.021400\n",
       "181                  -0.306313 -0.002400  -0.012609\n",
       "188                   2.115106  0.014737   0.081809\n",
       "tempo                 0.191835 -0.000051   0.000028\n",
       "191                   0.623965  0.003671   0.023040\n",
       "artist_hotttnesss  1803.174258  4.822318  39.898783\n",
       "176                  -1.544057 -0.012313  -0.045267\n",
       "artist_discovery  -1203.255402  0.755322 -13.343083\n",
       "instrumentalness      2.369419  0.010549   0.071696\n",
       "182                   0.255641 -0.000286  -0.001843\n",
       "danceability        -43.141647 -0.275041  -1.280668\n",
       "speechiness         -17.419825 -0.084606  -0.338608\n",
       "energy                7.743504  0.102286   0.505353\n",
       "186                   0.296946 -0.001347   0.000219\n",
       "184                   0.180698 -0.000106   0.005005\n",
       "219                -546.955509 -1.536284   0.000000\n",
       "178                   1.957861  0.009499   0.043933"
      ]
     },
     "metadata": {},
     "output_type": "display_data"
    }
   ],
   "source": [
    "# display coefficients\n",
    "coefs = np.transpose([vanilla_coefs[0], np.transpose(ridge_coefs[0]), lasso_coefs[0]])\n",
    "df_coefs = pd.DataFrame(data = coefs, index = X.columns, columns = ['vanilla', 'ridge', 'lasso'])\n",
    "display(df_coefs)"
   ]
  },
  {
   "cell_type": "code",
   "execution_count": null,
   "metadata": {},
   "outputs": [],
   "source": []
  }
 ],
 "metadata": {
  "kernelspec": {
   "display_name": "Python 3",
   "language": "python",
   "name": "python3"
  },
  "language_info": {
   "codemirror_mode": {
    "name": "ipython",
    "version": 3
   },
   "file_extension": ".py",
   "mimetype": "text/x-python",
   "name": "python",
   "nbconvert_exporter": "python",
   "pygments_lexer": "ipython3",
   "version": "3.6.3"
  }
 },
 "nbformat": 4,
 "nbformat_minor": 2
}
