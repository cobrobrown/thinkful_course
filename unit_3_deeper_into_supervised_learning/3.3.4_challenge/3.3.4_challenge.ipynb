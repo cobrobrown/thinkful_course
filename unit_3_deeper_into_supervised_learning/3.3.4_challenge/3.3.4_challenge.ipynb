{
 "cells": [
  {
   "cell_type": "markdown",
   "metadata": {},
   "source": [
    "# Problem Statement\n",
    "Now that you have two new regression methods at your fingertips, it's time to give them a spin. In fact, for this challenge, let's put them together! Pick a dataset of your choice with a binary outcome and the potential for at least 15 features. If you're drawing a blank, the crime rates in 2013 dataset has a lot of variables that could be made into a modelable binary outcome.\n",
    "\n",
    "Engineer your features, then create three models. Each model will be run on a training set and a test-set (or multiple test-sets, if you take a folds approach). The models should be:\n",
    "\n",
    "Vanilla logistic regression\n",
    "Ridge logistic regression\n",
    "Lasso logistic regression\n",
    "If you're stuck on how to begin combining your two new modeling skills, here's a hint: the SKlearn LogisticRegression method has a \"penalty\" argument that takes either 'l1' or 'l2' as a value.\n",
    "\n",
    "In your report, evaluate all three models and decide on your best. Be clear about the decisions you made that led to these models (feature selection, regularization parameter selection, model evaluation criteria) and why you think that particular model is the best of the three. Also reflect on the strengths and limitations of regression as a modeling approach. Were there things you couldn't do but you wish you could have done?\n",
    "\n",
    "### Outline\n",
    "1. [Data](#data)\n",
    "2. [Vanilla](#vanilla)\n",
    "3. [Ridge](#ridge)\n",
    "4. [Lasso](#lasso)\n",
    "5. [Write-up](#write_up)"
   ]
  },
  {
   "cell_type": "markdown",
   "metadata": {},
   "source": [
    "<a id = 'data'></a>\n",
    "# Data"
   ]
  },
  {
   "cell_type": "code",
   "execution_count": 1,
   "metadata": {},
   "outputs": [],
   "source": [
    "import pandas as pd\n",
    "import numpy as np\n",
    "current_state = np.random.get_state()\n",
    "np.random.set_state(current_state)\n",
    "from sklearn import linear_model\n",
    "import matplotlib.pyplot as plt\n",
    "import seaborn as sns\n",
    "from scipy import stats\n",
    "from sklearn.model_selection import cross_val_score"
   ]
  },
  {
   "cell_type": "code",
   "execution_count": 2,
   "metadata": {},
   "outputs": [
    {
     "data": {
      "text/plain": [
       "(13129, 250)"
      ]
     },
     "metadata": {},
     "output_type": "display_data"
    }
   ],
   "source": [
    "data_path = '../../datasets/fma/echonest_cols.csv'\n",
    "df = pd.read_csv(data_path)\n",
    "df_feat = df.copy()\n",
    "display(df_feat.shape)"
   ]
  },
  {
   "cell_type": "code",
   "execution_count": 3,
   "metadata": {},
   "outputs": [],
   "source": [
    "# unhelpful columns\n",
    "df_feat.drop(columns = ['track_id', 'artist_name', 'release'], inplace = True)\n",
    "# collinearity\n",
    "temporal_cols = df_feat.columns[-224:]\n",
    "feat_corr = df_feat.corr()\n",
    "feat_corr = feat_corr.dropna(axis = 0)\n",
    "corr_col = []\n",
    "for col in temporal_cols:\n",
    "    corrs = sorted(abs(feat_corr[col]), reverse = True)\n",
    "    corr_score = corrs[0]+corrs[1]\n",
    "    if corr_score > 1.5:\n",
    "        corr_col.append(col)\n",
    "# drop correlated columns\n",
    "df_feat.drop(columns = corr_col, inplace = True)\n",
    "\n",
    "# nans\n",
    "df_nans = df_feat.isnull().sum()\n",
    "nans_cols = list(df_nans[df_nans > 100].index)\n",
    "df_feat.drop(columns = nans_cols, inplace = True)\n",
    "df_feat.fillna(value = df_feat.median(), inplace = True)\n",
    "# zeros\n",
    "df_zeros = (df_feat == 0).sum()\n",
    "zeros_cols = list(df_zeros[df_zeros > 100].index)\n",
    "df_feat.drop(columns = zeros_cols, inplace = True)"
   ]
  },
  {
   "cell_type": "code",
   "execution_count": 4,
   "metadata": {},
   "outputs": [
    {
     "name": "stderr",
     "output_type": "stream",
     "text": [
      "/home/conner/.local/lib/python3.6/site-packages/ipykernel_launcher.py:5: SettingWithCopyWarning: \n",
      "A value is trying to be set on a copy of a slice from a DataFrame\n",
      "\n",
      "See the caveats in the documentation: http://pandas.pydata.org/pandas-docs/stable/indexing.html#indexing-view-versus-copy\n",
      "  \"\"\"\n",
      "/home/conner/.local/lib/python3.6/site-packages/ipykernel_launcher.py:6: SettingWithCopyWarning: \n",
      "A value is trying to be set on a copy of a slice from a DataFrame\n",
      "\n",
      "See the caveats in the documentation: http://pandas.pydata.org/pandas-docs/stable/indexing.html#indexing-view-versus-copy\n",
      "  \n"
     ]
    }
   ],
   "source": [
    "# choose target and input\n",
    "X = df_feat[list(set(list(df_feat.columns)) - set(['artist_familiarity']))]\n",
    "y = df['artist_familiarity']\n",
    "# y >= 0.3 is familiar, y < 0.3 is unfamiliar\n",
    "y[y >= 0.3] = 1\n",
    "y[y < 0.3] = 0"
   ]
  },
  {
   "cell_type": "markdown",
   "metadata": {},
   "source": [
    "<a id = 'vanilla'></a>\n",
    "# Vanilla"
   ]
  },
  {
   "cell_type": "code",
   "execution_count": 5,
   "metadata": {},
   "outputs": [],
   "source": [
    "def evaluate_model(model, X, y):\n",
    "    # Fit the model.\n",
    "    fit = model.fit(X, y)\n",
    "    return cross_val_score(model, X, y, cv = 5), fit.coef_"
   ]
  },
  {
   "cell_type": "code",
   "execution_count": 13,
   "metadata": {},
   "outputs": [],
   "source": [
    "vanilla_model = linear_model.LogisticRegression(C=1e9)\n",
    "vanilla_scores, vanilla_coefs = evaluate_model(vanilla_model, X.apply(stats.zscore, axis = 1), y)"
   ]
  },
  {
   "cell_type": "markdown",
   "metadata": {},
   "source": [
    "<a id = 'ridge'></a>\n",
    "# Ridge"
   ]
  },
  {
   "cell_type": "code",
   "execution_count": 11,
   "metadata": {},
   "outputs": [
    {
     "name": "stdout",
     "output_type": "stream",
     "text": [
      "0.5314933360005025 0.04496241681232213\n"
     ]
    }
   ],
   "source": [
    "ridge_model = linear_model.Ridge(alpha = 1e-4)\n",
    "ridge_scores, ridge_coefs = evaluate_model(ridge_model, X, y)\n",
    "print (ridge_scores.mean(), ridge_scores.std())"
   ]
  },
  {
   "cell_type": "markdown",
   "metadata": {},
   "source": [
    "<a id = 'lasso'></a>\n",
    "# Lasso"
   ]
  },
  {
   "cell_type": "code",
   "execution_count": 12,
   "metadata": {},
   "outputs": [
    {
     "name": "stdout",
     "output_type": "stream",
     "text": [
      "0.5314933257120503 0.044962440789950806\n"
     ]
    }
   ],
   "source": [
    "lasso_model = linear_model.Lasso(alpha = 1e-7)\n",
    "lasso_scores, lasso_coefs = evaluate_model(lasso_model, X, y)\n",
    "print (lasso_scores.mean(), lasso_scores.std())"
   ]
  },
  {
   "cell_type": "markdown",
   "metadata": {},
   "source": [
    "<a id = 'write_up'></a>\n",
    "# Write-up"
   ]
  },
  {
   "cell_type": "code",
   "execution_count": 14,
   "metadata": {},
   "outputs": [
    {
     "name": "stdout",
     "output_type": "stream",
     "text": [
      "Vanilla\n",
      "Mean: 0.87 (+/- 0.02)\n",
      "Ridge\n",
      "Mean: 0.53 (+/- 0.04)\n",
      "Lasso\n",
      "Mean: 0.53 (+/- 0.04)\n"
     ]
    }
   ],
   "source": [
    "# display accuracy\n",
    "print (\"Vanilla\\nMean: %0.2f (+/- %0.2f)\" % (vanilla_scores.mean(), vanilla_scores.std()))\n",
    "print (\"Ridge\\nMean: %0.2f (+/- %0.2f)\" % (ridge_scores.mean(), ridge_scores.std()))\n",
    "print (\"Lasso\\nMean: %0.2f (+/- %0.2f)\" % (lasso_scores.mean(), lasso_scores.std()))"
   ]
  },
  {
   "cell_type": "code",
   "execution_count": 15,
   "metadata": {},
   "outputs": [
    {
     "data": {
      "text/html": [
       "<div>\n",
       "<style scoped>\n",
       "    .dataframe tbody tr th:only-of-type {\n",
       "        vertical-align: middle;\n",
       "    }\n",
       "\n",
       "    .dataframe tbody tr th {\n",
       "        vertical-align: top;\n",
       "    }\n",
       "\n",
       "    .dataframe thead th {\n",
       "        text-align: right;\n",
       "    }\n",
       "</style>\n",
       "<table border=\"1\" class=\"dataframe\">\n",
       "  <thead>\n",
       "    <tr style=\"text-align: right;\">\n",
       "      <th></th>\n",
       "      <th>vanilla</th>\n",
       "      <th>ridge</th>\n",
       "      <th>lasso</th>\n",
       "    </tr>\n",
       "  </thead>\n",
       "  <tbody>\n",
       "    <tr>\n",
       "      <th>169</th>\n",
       "      <td>0.668407</td>\n",
       "      <td>-0.000420</td>\n",
       "      <td>-0.000420</td>\n",
       "    </tr>\n",
       "    <tr>\n",
       "      <th>artist_discovery</th>\n",
       "      <td>-1295.552394</td>\n",
       "      <td>0.377661</td>\n",
       "      <td>0.377612</td>\n",
       "    </tr>\n",
       "    <tr>\n",
       "      <th>186</th>\n",
       "      <td>0.299681</td>\n",
       "      <td>-0.000674</td>\n",
       "      <td>-0.000674</td>\n",
       "    </tr>\n",
       "    <tr>\n",
       "      <th>170</th>\n",
       "      <td>0.498747</td>\n",
       "      <td>-0.000307</td>\n",
       "      <td>-0.000308</td>\n",
       "    </tr>\n",
       "    <tr>\n",
       "      <th>energy</th>\n",
       "      <td>8.214221</td>\n",
       "      <td>0.051143</td>\n",
       "      <td>0.051141</td>\n",
       "    </tr>\n",
       "    <tr>\n",
       "      <th>172</th>\n",
       "      <td>0.530788</td>\n",
       "      <td>0.005329</td>\n",
       "      <td>0.005329</td>\n",
       "    </tr>\n",
       "    <tr>\n",
       "      <th>211</th>\n",
       "      <td>2.986954</td>\n",
       "      <td>-0.000886</td>\n",
       "      <td>-0.000886</td>\n",
       "    </tr>\n",
       "    <tr>\n",
       "      <th>188</th>\n",
       "      <td>2.112576</td>\n",
       "      <td>0.007368</td>\n",
       "      <td>0.007368</td>\n",
       "    </tr>\n",
       "    <tr>\n",
       "      <th>acousticness</th>\n",
       "      <td>4.579229</td>\n",
       "      <td>0.049958</td>\n",
       "      <td>0.049957</td>\n",
       "    </tr>\n",
       "    <tr>\n",
       "      <th>174</th>\n",
       "      <td>-3.628858</td>\n",
       "      <td>-0.021206</td>\n",
       "      <td>-0.021206</td>\n",
       "    </tr>\n",
       "    <tr>\n",
       "      <th>181</th>\n",
       "      <td>-0.302045</td>\n",
       "      <td>-0.001200</td>\n",
       "      <td>-0.001200</td>\n",
       "    </tr>\n",
       "    <tr>\n",
       "      <th>219</th>\n",
       "      <td>-545.172986</td>\n",
       "      <td>-0.768142</td>\n",
       "      <td>-0.767294</td>\n",
       "    </tr>\n",
       "    <tr>\n",
       "      <th>liveness</th>\n",
       "      <td>-22.424403</td>\n",
       "      <td>-0.046081</td>\n",
       "      <td>-0.046073</td>\n",
       "    </tr>\n",
       "    <tr>\n",
       "      <th>178</th>\n",
       "      <td>1.908040</td>\n",
       "      <td>0.004750</td>\n",
       "      <td>0.004749</td>\n",
       "    </tr>\n",
       "    <tr>\n",
       "      <th>tempo</th>\n",
       "      <td>0.199104</td>\n",
       "      <td>-0.000025</td>\n",
       "      <td>-0.000025</td>\n",
       "    </tr>\n",
       "    <tr>\n",
       "      <th>danceability</th>\n",
       "      <td>-42.029052</td>\n",
       "      <td>-0.137520</td>\n",
       "      <td>-0.137515</td>\n",
       "    </tr>\n",
       "    <tr>\n",
       "      <th>instrumentalness</th>\n",
       "      <td>2.488435</td>\n",
       "      <td>0.005274</td>\n",
       "      <td>0.005271</td>\n",
       "    </tr>\n",
       "    <tr>\n",
       "      <th>184</th>\n",
       "      <td>0.204170</td>\n",
       "      <td>-0.000053</td>\n",
       "      <td>-0.000053</td>\n",
       "    </tr>\n",
       "    <tr>\n",
       "      <th>182</th>\n",
       "      <td>0.265268</td>\n",
       "      <td>-0.000143</td>\n",
       "      <td>-0.000143</td>\n",
       "    </tr>\n",
       "    <tr>\n",
       "      <th>179</th>\n",
       "      <td>-1.261259</td>\n",
       "      <td>-0.005396</td>\n",
       "      <td>-0.005395</td>\n",
       "    </tr>\n",
       "    <tr>\n",
       "      <th>176</th>\n",
       "      <td>-1.448117</td>\n",
       "      <td>-0.006157</td>\n",
       "      <td>-0.006156</td>\n",
       "    </tr>\n",
       "    <tr>\n",
       "      <th>valence</th>\n",
       "      <td>10.410262</td>\n",
       "      <td>0.048743</td>\n",
       "      <td>0.048738</td>\n",
       "    </tr>\n",
       "    <tr>\n",
       "      <th>artist_hotttnesss</th>\n",
       "      <td>1893.764946</td>\n",
       "      <td>2.411159</td>\n",
       "      <td>2.411195</td>\n",
       "    </tr>\n",
       "    <tr>\n",
       "      <th>speechiness</th>\n",
       "      <td>-17.918265</td>\n",
       "      <td>-0.042303</td>\n",
       "      <td>-0.042297</td>\n",
       "    </tr>\n",
       "    <tr>\n",
       "      <th>191</th>\n",
       "      <td>0.606551</td>\n",
       "      <td>0.001835</td>\n",
       "      <td>0.001836</td>\n",
       "    </tr>\n",
       "  </tbody>\n",
       "</table>\n",
       "</div>"
      ],
      "text/plain": [
       "                       vanilla     ridge     lasso\n",
       "169                   0.668407 -0.000420 -0.000420\n",
       "artist_discovery  -1295.552394  0.377661  0.377612\n",
       "186                   0.299681 -0.000674 -0.000674\n",
       "170                   0.498747 -0.000307 -0.000308\n",
       "energy                8.214221  0.051143  0.051141\n",
       "172                   0.530788  0.005329  0.005329\n",
       "211                   2.986954 -0.000886 -0.000886\n",
       "188                   2.112576  0.007368  0.007368\n",
       "acousticness          4.579229  0.049958  0.049957\n",
       "174                  -3.628858 -0.021206 -0.021206\n",
       "181                  -0.302045 -0.001200 -0.001200\n",
       "219                -545.172986 -0.768142 -0.767294\n",
       "liveness            -22.424403 -0.046081 -0.046073\n",
       "178                   1.908040  0.004750  0.004749\n",
       "tempo                 0.199104 -0.000025 -0.000025\n",
       "danceability        -42.029052 -0.137520 -0.137515\n",
       "instrumentalness      2.488435  0.005274  0.005271\n",
       "184                   0.204170 -0.000053 -0.000053\n",
       "182                   0.265268 -0.000143 -0.000143\n",
       "179                  -1.261259 -0.005396 -0.005395\n",
       "176                  -1.448117 -0.006157 -0.006156\n",
       "valence              10.410262  0.048743  0.048738\n",
       "artist_hotttnesss  1893.764946  2.411159  2.411195\n",
       "speechiness         -17.918265 -0.042303 -0.042297\n",
       "191                   0.606551  0.001835  0.001836"
      ]
     },
     "metadata": {},
     "output_type": "display_data"
    }
   ],
   "source": [
    "# display coefficients\n",
    "coefs = np.transpose([vanilla_coefs[0], ridge_coefs, lasso_coefs])\n",
    "df_coefs = pd.DataFrame(data = coefs, index = X.columns, columns = ['vanilla', 'ridge', 'lasso'])\n",
    "display(df_coefs)"
   ]
  },
  {
   "cell_type": "code",
   "execution_count": null,
   "metadata": {},
   "outputs": [],
   "source": []
  }
 ],
 "metadata": {
  "kernelspec": {
   "display_name": "Python 3",
   "language": "python",
   "name": "python3"
  },
  "language_info": {
   "codemirror_mode": {
    "name": "ipython",
    "version": 3
   },
   "file_extension": ".py",
   "mimetype": "text/x-python",
   "name": "python",
   "nbconvert_exporter": "python",
   "pygments_lexer": "ipython3",
   "version": "3.6.3"
  }
 },
 "nbformat": 4,
 "nbformat_minor": 2
}
