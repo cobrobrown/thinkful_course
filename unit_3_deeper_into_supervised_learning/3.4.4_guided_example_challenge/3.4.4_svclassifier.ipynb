{
 "cells": [
  {
   "cell_type": "code",
   "execution_count": 1,
   "metadata": {
    "_cell_guid": "b1076dfc-b9ad-4769-8c92-a6c4dae69d19",
    "_uuid": "8f2839f25d086af736a60e9eeb907d3b93b6e0e5"
   },
   "outputs": [],
   "source": [
    "import numpy as np # linear algebra\n",
    "import pandas as pd # data processing, CSV file I/O (e.g. pd.read_csv)\n",
    "from sklearn import svm\n",
    "import matplotlib.pyplot as plt\n",
    "import seaborn as sns\n",
    "import time\n",
    "from sklearn.model_selection import cross_val_score"
   ]
  },
  {
   "cell_type": "code",
   "execution_count": 2,
   "metadata": {
    "_cell_guid": "79c7e3d0-c299-4dcb-8224-4455121ee9b0",
    "_uuid": "d629ff2d2480ee46fbb7e2d37f6b5fab8052498a"
   },
   "outputs": [
    {
     "data": {
      "text/html": [
       "<div>\n",
       "<style scoped>\n",
       "    .dataframe tbody tr th:only-of-type {\n",
       "        vertical-align: middle;\n",
       "    }\n",
       "\n",
       "    .dataframe tbody tr th {\n",
       "        vertical-align: top;\n",
       "    }\n",
       "\n",
       "    .dataframe thead th {\n",
       "        text-align: right;\n",
       "    }\n",
       "</style>\n",
       "<table border=\"1\" class=\"dataframe\">\n",
       "  <thead>\n",
       "    <tr style=\"text-align: right;\">\n",
       "      <th></th>\n",
       "      <th>title</th>\n",
       "      <th>rating</th>\n",
       "      <th>calories</th>\n",
       "      <th>protein</th>\n",
       "      <th>fat</th>\n",
       "      <th>sodium</th>\n",
       "      <th>#cakeweek</th>\n",
       "      <th>#wasteless</th>\n",
       "      <th>22-minute meals</th>\n",
       "      <th>3-ingredient recipes</th>\n",
       "      <th>...</th>\n",
       "      <th>yellow squash</th>\n",
       "      <th>yogurt</th>\n",
       "      <th>yonkers</th>\n",
       "      <th>yuca</th>\n",
       "      <th>zucchini</th>\n",
       "      <th>cookbooks</th>\n",
       "      <th>leftovers</th>\n",
       "      <th>snack</th>\n",
       "      <th>snack week</th>\n",
       "      <th>turkey</th>\n",
       "    </tr>\n",
       "  </thead>\n",
       "  <tbody>\n",
       "    <tr>\n",
       "      <th>0</th>\n",
       "      <td>Lentil, Apple, and Turkey Wrap</td>\n",
       "      <td>2.500</td>\n",
       "      <td>426.0</td>\n",
       "      <td>30.0</td>\n",
       "      <td>7.0</td>\n",
       "      <td>559.0</td>\n",
       "      <td>0.0</td>\n",
       "      <td>0.0</td>\n",
       "      <td>0.0</td>\n",
       "      <td>0.0</td>\n",
       "      <td>...</td>\n",
       "      <td>0.0</td>\n",
       "      <td>0.0</td>\n",
       "      <td>0.0</td>\n",
       "      <td>0.0</td>\n",
       "      <td>0.0</td>\n",
       "      <td>0.0</td>\n",
       "      <td>0.0</td>\n",
       "      <td>0.0</td>\n",
       "      <td>0.0</td>\n",
       "      <td>1.0</td>\n",
       "    </tr>\n",
       "    <tr>\n",
       "      <th>1</th>\n",
       "      <td>Boudin Blanc Terrine with Red Onion Confit</td>\n",
       "      <td>4.375</td>\n",
       "      <td>403.0</td>\n",
       "      <td>18.0</td>\n",
       "      <td>23.0</td>\n",
       "      <td>1439.0</td>\n",
       "      <td>0.0</td>\n",
       "      <td>0.0</td>\n",
       "      <td>0.0</td>\n",
       "      <td>0.0</td>\n",
       "      <td>...</td>\n",
       "      <td>0.0</td>\n",
       "      <td>0.0</td>\n",
       "      <td>0.0</td>\n",
       "      <td>0.0</td>\n",
       "      <td>0.0</td>\n",
       "      <td>0.0</td>\n",
       "      <td>0.0</td>\n",
       "      <td>0.0</td>\n",
       "      <td>0.0</td>\n",
       "      <td>0.0</td>\n",
       "    </tr>\n",
       "    <tr>\n",
       "      <th>2</th>\n",
       "      <td>Potato and Fennel Soup Hodge</td>\n",
       "      <td>3.750</td>\n",
       "      <td>165.0</td>\n",
       "      <td>6.0</td>\n",
       "      <td>7.0</td>\n",
       "      <td>165.0</td>\n",
       "      <td>0.0</td>\n",
       "      <td>0.0</td>\n",
       "      <td>0.0</td>\n",
       "      <td>0.0</td>\n",
       "      <td>...</td>\n",
       "      <td>0.0</td>\n",
       "      <td>0.0</td>\n",
       "      <td>0.0</td>\n",
       "      <td>0.0</td>\n",
       "      <td>0.0</td>\n",
       "      <td>0.0</td>\n",
       "      <td>0.0</td>\n",
       "      <td>0.0</td>\n",
       "      <td>0.0</td>\n",
       "      <td>0.0</td>\n",
       "    </tr>\n",
       "  </tbody>\n",
       "</table>\n",
       "<p>3 rows × 680 columns</p>\n",
       "</div>"
      ],
      "text/plain": [
       "                                         title  rating  calories  protein  \\\n",
       "0              Lentil, Apple, and Turkey Wrap    2.500     426.0     30.0   \n",
       "1  Boudin Blanc Terrine with Red Onion Confit    4.375     403.0     18.0   \n",
       "2                Potato and Fennel Soup Hodge    3.750     165.0      6.0   \n",
       "\n",
       "    fat  sodium  #cakeweek  #wasteless  22-minute meals  3-ingredient recipes  \\\n",
       "0   7.0   559.0        0.0         0.0              0.0                   0.0   \n",
       "1  23.0  1439.0        0.0         0.0              0.0                   0.0   \n",
       "2   7.0   165.0        0.0         0.0              0.0                   0.0   \n",
       "\n",
       "    ...    yellow squash  yogurt  yonkers  yuca  zucchini  cookbooks  \\\n",
       "0   ...              0.0     0.0      0.0   0.0       0.0        0.0   \n",
       "1   ...              0.0     0.0      0.0   0.0       0.0        0.0   \n",
       "2   ...              0.0     0.0      0.0   0.0       0.0        0.0   \n",
       "\n",
       "   leftovers  snack  snack week  turkey  \n",
       "0        0.0    0.0         0.0     1.0  \n",
       "1        0.0    0.0         0.0     0.0  \n",
       "2        0.0    0.0         0.0     0.0  \n",
       "\n",
       "[3 rows x 680 columns]"
      ]
     },
     "execution_count": 2,
     "metadata": {},
     "output_type": "execute_result"
    }
   ],
   "source": [
    "df = pd.read_csv('../../datasets/recipes/epi_r.csv')\n",
    "df.head(3)"
   ]
  },
  {
   "cell_type": "code",
   "execution_count": 3,
   "metadata": {
    "_cell_guid": "51c8be5d-40ee-450c-a4c1-a1961ffa40e2",
    "_uuid": "f37bbb80f8fea67ff9993bd5a3739524d0a1a234"
   },
   "outputs": [],
   "source": [
    "X = df[list(set(list(df.columns)) - set(['rating', 'title']))]\n",
    "y = df['rating']"
   ]
  },
  {
   "cell_type": "code",
   "execution_count": 4,
   "metadata": {
    "_cell_guid": "44dce895-af63-4628-a07a-7df83f1a1eb9",
    "_uuid": "d22e677125bd4d0f6c4018cb9a60534abc7a6726"
   },
   "outputs": [
    {
     "data": {
      "text/plain": [
       "1.0    10738\n",
       "0.0     9314\n",
       "Name: rating, dtype: int64"
      ]
     },
     "execution_count": 4,
     "metadata": {},
     "output_type": "execute_result"
    }
   ],
   "source": [
    "# y_class classifies high ratings (>4) and low raings (<4)\n",
    "y_class = y.copy()\n",
    "y_class[y_class < 4] = 0\n",
    "y_class[y_class > 4] = 1\n",
    "y_class.value_counts()"
   ]
  },
  {
   "cell_type": "code",
   "execution_count": 5,
   "metadata": {
    "_cell_guid": "8da77d66-155a-4a56-b549-2d3eddd1e681",
    "_uuid": "05a1c50e6a3521e5d789b4a0c3f76f6c85b1f445"
   },
   "outputs": [
    {
     "name": "stdout",
     "output_type": "stream",
     "text": [
      "Dropping 4 columns due to NaNs\n",
      "['calories', 'fat', 'protein', 'sodium']\n"
     ]
    }
   ],
   "source": [
    "# reduce feature space to 30\n",
    "# drop nan columns\n",
    "X_null = X.isnull().sum()\n",
    "null_cols = list(X_null[X_null > 0].index)\n",
    "print (\"Dropping {} columns due to NaNs\\n{}\".format(len(null_cols), null_cols))\n",
    "X_feat = X.drop(columns = null_cols)"
   ]
  },
  {
   "cell_type": "code",
   "execution_count": 6,
   "metadata": {
    "_cell_guid": "6320c3c0-c88a-46b9-96bb-13f6c1e04ef4",
    "_uuid": "7f77e3308bd05ed693bd605fc722abf1d260a10e"
   },
   "outputs": [
    {
     "name": "stdout",
     "output_type": "stream",
     "text": [
      "Dropping 648 columns due to insignificant mean\n",
      "['#wasteless', 'hazelnut', 'no-cook', 'backyard bbq', 'plum', 'coffee grinder', 'minneapolis', 'snapper', 'long beach', 'pennsylvania', 'cuba', 'aspen', 'marscarpone', 'sherry', 'bulgaria', 'carrot', 'egg', 'frozen dessert', 'kitchen olympics', 'mustard greens', 'peanut butter', 'juicer', 'labor day', 'créme de cacao', 'liqueur', 'honeydew', 'england', 'raw', 'roast', 'bon app��tit', 'low fat', \"mother's day\", 'new york', 'tangerine', 'squash', 'wedding', 'herb', 'fourth of july', 'rhode island', 'artichoke', 'lime', 'clove', 'asian pear', 'marsala', 'triple sec', 'pacific palisades', 'tuna', 'goose', 'beer', 'halibut', 'poker/game night', 'alcoholic', 'israel', 'lychee', 'westwood', 'muffin', 'oat', 'georgia', 'atlanta', 'poppy', 'arizona', 'oktoberfest', 'picnic', 'ramekin', 'red wine', 'florida', 'lunch', 'tailgating', 'st. louis', 'chestnut', 'tapioca', 'butternut squash', 'sausage', 'bell pepper', 'chile', 'grill', 'orange juice', 'saffron', 'shellfish', 'mixer', 'pineapple', 'passover', 'grapefruit', 'oyster', 'pork chop', 'organic', 'soufflé/meringue', 'apple juice', 'drink', 'bastille day', 'corn', 'sukkot', 'snack', 'watermelon', 'parsnip', 'rub', 'no meat, no problem', 'potluck', 'washington, d.c.', 'cornmeal', 'beef tenderloin', 'sour cream', 'non-alcoholic', 'purim', 'lentil', 'peanut', 'lettuce', 'fish', 'bran', 'paleo', 'pancake', 'cookies', 'rice', 'steak', 'beef rib', 'quince', 'camping', 'champagne', 'epi + ushg', 'peach', 'healdsburg', 'soy sauce', 'basil', 'quiche', 'hominy/cornmeal/masa', 'sesame oil', 'octopus', 'sandwich theory', 'cookie', 'meatloaf', 'super bowl', 'thanksgiving', 'omelet', 'cr��me de cacao', 'new hampshire', 'wine', 'cake', 'windsor', 'sourdough', 'vanilla', 'seafood', 'pomegranate', 'clam', 'graduation', 'waffle', 'phyllo/puff pastry dough', 'caraway', 'ice cream machine', 'yuca', 'christmas eve', 'santa monica', 'kirsch', 'custard', 'molasses', 'drinks', 'thyme', 'stuffing/dressing', 'marinate', 'dried fruit', 'wisconsin', 'wok', 'kwanzaa', 'tilapia', 'nebraska', 'double boiler', 'spinach', 'pork', 'slow cooker', 'pasadena', 'maryland', 'cilantro', 'low carb', 'brussel sprout', 'mezcal', 'pork tenderloin', 'easter', 'low cholesterol', 'tomatillo', 'leftovers', 'calvados', 'hollywood', 'caviar', 'cookbook critic', 'cranberry', 'crab', 'low cal', 'colorado', 'salsa', 'grappa', 'raisin', 'marshmallow', 'smoker', 'lobster', 'engagement party', 'cupcake', 'cucumber', 'pine nut', 'dominican republic', 'chill', 'fennel', 'utah', 'potato salad', 'mango', 'parade', 'beet', 'ricotta', 'salmon', 'zucchini', 'maple syrup', 'vermont', 'candy thermometer', 'kumquat', 'shower', 'washington', 'hot drink', 'butter', 'edible gift', 'pizza', 'halloween', 'white wine', 'mayonnaise', 'strawberry', 'microwave', 'seattle', 'pastry', 'cabbage', 'hawaii', 'cocktail party', 'back to school', 'mushroom', 'new jersey', 'sorbet', 'tropical fruit', 'cottage cheese', 'broil', 'leek', 'boston', 'pittsburgh', 'persimmon', 'epi loves the microwave', 'beef', 'veal', 'meatball', 'flat bread', 'mexico', 'arugula', 'paprika', 'cashew', 'nut', 'blue cheese', 'oklahoma', 'massachusetts', 'sake', 'duck', 'houston', 'smoothie', 'stir-fry', 'horseradish', 'ireland', 'oatmeal', 'orzo', 'pernod', 'australia', 'kansas', 'maine', 'jerusalem artichoke', 'lime juice', 'watercress', 'low/no sugar', 'dairy', 'lemon juice', 'sesame', 'spritzer', 'switzerland', 'oregano', 'pear', 'prune', 'collard greens', 'brisket', 'macadamia nut', 'providence', \"new year's day\", 'oregon', 'cambridge', 'cinnamon', \"valentine's day\", 'trout', 'dallas', 'eggplant', 'ground lamb', 'pomegranate juice', 'couscous', 'minnesota', 'ice cream', 'apple', 'guam', 'lamb', 'potato', 'condiment/spread', 'cookbooks', 'pasta', 'italy', 'venison', 'celery', 'pork rib', 'kale', 'brooklyn', 'sandwich', 'chambord', 'garlic', 'spain', 'birthday', 'brine', 'leafy green', 'escarole', 'poblano', 'rosemary', 'yogurt', 'mustard', 'idaho', 'party', 'ramadan', 'root vegetable', 'bulgur', 'brownie', 'diwali', 'lemongrass', 'skewer', 'salad', 'tequila', 'egypt', 'sugar snap pea', 'cod', 'chile pepper', 'new orleans', 'vermouth', 'fritter', 'ginger', 'nancy silverton', 'green bean', 'parmesan', 'rack of lamb', 'semolina', 'pistachio', 'hot pepper', 'chicken', 'texas', 'costa mesa', 'campari', 'lima bean', 'wild rice', 'portland', 'michigan', 'breakfast', 'barley', 'turnip', 'grill/barbecue', 'missouri', 'indiana', 'germany', 'pea', 'melon', 'ground beef', 'poultry sausage', 'tarragon', 'blender', 'parsley', 'anise', 'legume', 'casserole/gratin', 'pressure cooker', 'biscuit', 'cherry', 'punch', 'squid', 'stew', 'california', 'egg nog', 'poach', 'bacon', 'candy', 'france', 'fry', 'currant', 'harpercollins', 'radish', \"new year's eve\", 'lamb chop', 'house & garden', 'vegan', 'dill', 'scallop', 'grape', 'swordfish', 'broccoli', 'kentucky', '22-minute meals', 'mississippi', 'simmer', 'cinco de mayo', 'granola', 'jalapeño', 'kentucky derby', 'sauce', 'lunar new year', 'alaska', 'monterey jack', 'grains', 'illinois', 'whole wheat', 'kansas city', 'lemon', 'anniversary', 'house cocktail', 'brunch', 'banana', 'midori', 'plantain', 'vodka', 'jícama', 'shallot', 'nutmeg', 'chartreuse', 'green onion/scallion', 'papaya', \"hors d'oeuvre\", 'chickpea', 'hanukkah', 'sangria', 'columbus', 'iced tea', 'hummus', 'denver', 'oscars', 'milk/cream', 'burrito', 'sweet potato/yam', 'coffee', 'crêpe', 'dip', 'olive', 'taco', 'appetizer', 'bok choy', 'poultry', 'jam or jelly', 'paris', 'north carolina', 'buffalo', 'cardamom', 'tree nut', 'mardi gras', 'guava', 'food processor', 'meat', 'spring', 'freeze/chill', 'curry', 'kid-friendly', 'kosher for passover', 'tamarind', 'apricot', 'coconut', 'blueberry', 'flaming hot summer', 'turkey', 'eau de vie', 'deep-fry', 'date', 'steam', 'swiss cheese', 'louisiana', 'asparagus', 'fruit', 'dorie greenspan', 'tea', 'connecticut', 'chive', 'iced coffee', 'nectarine', 'quinoa', 'shrimp', 'feta', 'walnut', 'cumin', 'fat free', 'seed', 'butterscotch/caramel', 'lingonberry', 'braise', 'jamaica', 'bread', 'cranberry sauce', 'mortar and pestle', 'one-pot meal', 'new mexico', 'berry', 'prosciutto', 'bitters', 'entertaining', 'fortified wine', 'rye', 'pecan', 'margarita', 'bass', 'las vegas', 'sardine', 'gouda', 'cobbler/crumble', 'cauliflower', 'chard', 'chili', 'cantaloupe', 'condiment', 'yellow squash', 'ham', 'anchovy', 'peru', 'tart', 'orange', 'aperitif', 'london', 'mussel', 'tofu', 'beverly hills', 'almond', 'haiti', 'lamb shank', 'mandoline', 'los angeles', '3-ingredient recipes', 'pickles', 'raspberry', 'blackberry', 'port', 'soy', 'pasta maker', 'scotch', 'christmas', 'buttermilk', 'lancaster', 'citrus', 'spice', 'grand marnier', 'bourbon', 'pumpkin', 'rosh hashanah/yom kippur', 'tortillas', 'emeril lagasse', 'rabbit', 'family reunion', 'pan-fry', 'marinade', 'chocolate', 'fontina', 'kiwi', 'cook like a diner', 'broccoli rabe', '30 days of groceries', 'mint', 'quick and healthy', 'mozzarella', 'brandy', 'rum', 'vinegar', 'sparkling wine', 'fruit juice', 'rutabaga', 'anthony bourdain', 'persian new year', 'amaretto', 'south carolina', 'spirit', 'freezer food', 'miami', 'coriander', 'iowa', 'friendsgiving', 'tested & improved', 'bean', 'philippines', 'japan', 'cheddar', 'high fiber', 'snack week', 'brown rice', 'buffet', 'cheese', 'whiskey', 'alabama', 'salad dressing', 'weelicious', 'cream cheese', 'okra', \"st. patrick's day\", 'west virginia', 'cocktail', 'game', 'ohio', 'louisville', 'frankenrecipe', 'self', 'noodle', 'yonkers', 'lasagna', 'tennessee', 'shavuot', 'honey', 'goat cheese', 'gin', 'rosé', 'endive', 'quail', 'hamburger', 'passion fruit', 'low sugar', 'radicchio', 'fig', 'san francisco', 'brie', 'virginia', 'canada', 'avocado', 'kahlúa', \"father's day\", 'sage', 'capers', 'macaroni and cheese', 'advance prep required', '#cakeweek', 'boil', 'frangelico', 'low sodium', 'pepper', 'beef shank', 'digestif', 'chicago', 'pot pie', 'frittata', 'martini', 'suzanne goin', 'soup/stew', 'cognac/armagnac', 'pie', 'stock', 'wasabi', 'rhubarb', 'breadcrumbs']\n"
     ]
    }
   ],
   "source": [
    "# drop heavily skewed binaries\n",
    "low_means = []\n",
    "for col in X_feat.columns:\n",
    "    if X_feat[col].mean() < 0.1:\n",
    "        low_means.append(col)\n",
    "print (\"Dropping {} columns due to insignificant mean\\n{}\".format(len(low_means), low_means))\n",
    "X_feat = X_feat.drop(columns = low_means)"
   ]
  },
  {
   "cell_type": "code",
   "execution_count": 7,
   "metadata": {
    "_cell_guid": "af104c70-3bf4-4b6a-9eef-1b187bf25627",
    "_uuid": "cd8c68384a4bf3aad604fe35444d600bd1e4f208"
   },
   "outputs": [
    {
     "name": "stdout",
     "output_type": "stream",
     "text": [
      "Number of features: 26\n"
     ]
    }
   ],
   "source": [
    "# feature list\n",
    "print (\"Number of features: {}\".format(len(X_feat.columns)))"
   ]
  },
  {
   "cell_type": "markdown",
   "metadata": {
    "_cell_guid": "c85fb175-d996-4d89-83ca-c6c90c8e288a",
    "_uuid": "4c1f4f3086af7cb2e5b5f6793bcfa8682803f1af"
   },
   "source": [
    "# SVClassifier"
   ]
  },
  {
   "cell_type": "code",
   "execution_count": 8,
   "metadata": {
    "_cell_guid": "ba3f9327-e0e2-41b5-961a-ccd7254d8e26",
    "_uuid": "9afedf2e9ed29a5b71eab7085c823dc6aad28e3e"
   },
   "outputs": [
    {
     "name": "stdout",
     "output_type": "stream",
     "text": [
      "Runtime: 47.07441711425781\n"
     ]
    }
   ],
   "source": [
    "# may take some time to run, try running once and performing other actions in other code blocks\n",
    "start = time.time()\n",
    "svc_model = svm.SVC()\n",
    "fit = svc_model.fit(X_feat, y_class)\n",
    "y_pred = svc_model.predict(X_feat)\n",
    "print (\"Runtime: %0.2f seconds\" % (time.time() - start))"
   ]
  },
  {
   "cell_type": "code",
   "execution_count": 18,
   "metadata": {
    "_cell_guid": "d95370c6-9945-432c-8137-69e557fd3001",
    "_uuid": "180d838a3dbf1e00113e91bd9ae503d04336d0a3",
    "scrolled": true
   },
   "outputs": [
    {
     "name": "stdout",
     "output_type": "stream",
     "text": [
      "Runtime: 18.71\n",
      "Baseline Score: 0.579\n"
     ]
    }
   ],
   "source": [
    "start = time.time()\n",
    "svc_score = svc_model.score(X_feat, y_class)\n",
    "print (\"Runtime: %0.2f seconds\" % (time.time() - start))\n",
    "print (\"Baseline Score: %0.3f\" % (svc_score))"
   ]
  },
  {
   "cell_type": "markdown",
   "metadata": {
    "_cell_guid": "3e2ed4e9-fb47-431b-a3d4-ee84d0e17d5e",
    "_uuid": "14b4780368b47ce6555dd95c560105ed253fc0ef"
   },
   "source": [
    "# Iterate and improve"
   ]
  },
  {
   "cell_type": "code",
   "execution_count": 19,
   "metadata": {
    "_cell_guid": "813a9be4-6325-4cf0-b61f-e2b6c49eed51",
    "_uuid": "7ba51a5771fde111d1c8abbc987cf27db5f9c168"
   },
   "outputs": [
    {
     "name": "stdout",
     "output_type": "stream",
     "text": [
      "Runtime: 0.00\n"
     ]
    }
   ],
   "source": [
    "start = time.time()\n",
    "svc_iter_model = svm.SVC(C = 100)\n",
    "print (\"Runtime: %0.2f seconds\" % (time.time() - start))"
   ]
  },
  {
   "cell_type": "code",
   "execution_count": 20,
   "metadata": {
    "_cell_guid": "d88dc262-d2a3-4a7e-b769-654e91b8cf12",
    "_uuid": "00ce66bcc3605a3df2b422643f1e93a019969ad3",
    "scrolled": true
   },
   "outputs": [
    {
     "name": "stderr",
     "output_type": "stream",
     "text": [
      "/home/conner/.local/lib/python3.6/site-packages/ipykernel_launcher.py:3: SettingWithCopyWarning: \n",
      "A value is trying to be set on a copy of a slice from a DataFrame\n",
      "\n",
      "See the caveats in the documentation: http://pandas.pydata.org/pandas-docs/stable/indexing.html#indexing-view-versus-copy\n",
      "  This is separate from the ipykernel package so we can avoid doing imports until\n"
     ]
    }
   ],
   "source": [
    "# add nutritional information, imputing nulls with median\n",
    "X_nut = df[list(set(list(df.columns)) - set(['rating', 'title']))]\n",
    "X_nut.drop(columns = low_means, inplace = True)\n",
    "X_nut = X_nut.fillna(X_nut.median())"
   ]
  },
  {
   "cell_type": "code",
   "execution_count": 21,
   "metadata": {
    "_cell_guid": "b14f1438-3a28-49bf-a0c4-84b64d2b719f",
    "_uuid": "cdd0ec7ced59c5daf6d0ace949649fb529c549d2"
   },
   "outputs": [
    {
     "name": "stdout",
     "output_type": "stream",
     "text": [
      "Runtime: 332.28\n",
      "Mean Accuracy: 0.603 (+/- 0.007)\n"
     ]
    }
   ],
   "source": [
    "start = time.time()\n",
    "svc_iter_cross_val_scores = cross_val_score(svc_iter_model, X_nut, y_class, cv=5)\n",
    "print (\"Runtime: %0.2f seconds\" % (time.time() - start))\n",
    "print (\"Mean Accuracy: %0.3f (+/- %0.3f)\" % (svc_iter_cross_val_scores.mean(), svc_iter_cross_val_scores.std()))"
   ]
  },
  {
   "cell_type": "code",
   "execution_count": 22,
   "metadata": {
    "_cell_guid": "cffeeaf2-835e-4939-b3c8-6ec42a6d9da0",
    "_uuid": "4bb5af6d67592569e99da277ce86a41f1a58c053"
   },
   "outputs": [
    {
     "name": "stdout",
     "output_type": "stream",
     "text": [
      "Runtime: 0.00\n"
     ]
    }
   ],
   "source": [
    "# try different kernals\n",
    "start = time.time()\n",
    "svc_linear_model = svm.SVC(kernel = 'linear')\n",
    "svc_poly_model = svm.SVC(kernel = 'poly')\n",
    "svc_sigmoid_model = svm.SVC(kernel = 'sigmoid')\n",
    "print (\"Runtime: %0.2f seconds\" % (time.time() - start))"
   ]
  },
  {
   "cell_type": "code",
   "execution_count": null,
   "metadata": {
    "_cell_guid": "66bc0d6f-7709-4b18-bc3b-ad636a5726c2",
    "_uuid": "fd3058f6fc1374436912d2ef68d9371359bc8046"
   },
   "outputs": [],
   "source": [
    "start = time.time()\n",
    "svc_linear_cross_val_scores = cross_val_score(svc_linear_model, X_nut, y_class, cv=5)\n",
    "print (\"Runtime: %0.2f seconds\" % (time.time() - start))\n",
    "print (\"Mean Accuracy: %0.3f (+/- %0.3f)\" % (svc_linear_cross_val_scores.mean(), svc_linear_cross_val_scores.std()))"
   ]
  },
  {
   "cell_type": "code",
   "execution_count": 15,
   "metadata": {
    "_cell_guid": "cd5cbf60-7678-4c40-99a4-d141f26107b6",
    "_uuid": "c4e9b76f76bd8d05ce0d39c029d8cab006905101"
   },
   "outputs": [],
   "source": [
    "'''\n",
    "start = time.time()\n",
    "svc_poly_cross_val_scores = cross_val_score(svc_poly_model, X_nut, y_class, cv=5)\n",
    "print (\"Runtime: %0.2f seconds\" % (time.time() - start))\n",
    "print (\"Mean Accuracy: %0.3f (+/- %0.3f)\" % (svc_poly_cross_val_scores.mean(), svc_poly_cross_val_scores.std()))\n",
    "''';"
   ]
  },
  {
   "cell_type": "code",
   "execution_count": 16,
   "metadata": {
    "_cell_guid": "898f3256-55e7-4611-886a-33cf2e70c2fe",
    "_uuid": "5b8da142734a2646447886a670433872e4370a2c"
   },
   "outputs": [],
   "source": [
    "'''\n",
    "start = time.time()\n",
    "svc_sigmoid_cross_val_scores = cross_val_score(svc_sigmoid_model, X_nut, y_class, cv=5)\n",
    "print (\"Runtime: %0.2f seconds\" % (time.time() - start))\n",
    "print (\"Mean Accuracy: %0.3f (+/- %0.3f)\" % (svc_sigmoid_cross_val_scores.mean(), svc_sigmoid_cross_val_scores.std()))\n",
    "''';"
   ]
  },
  {
   "cell_type": "code",
   "execution_count": null,
   "metadata": {
    "_cell_guid": "3d01e795-6e41-441b-b9a0-dcac55b7514f",
    "_uuid": "10727236804d33322e5cc862a4e879258f25f4c9"
   },
   "outputs": [],
   "source": []
  }
 ],
 "metadata": {
  "kernelspec": {
   "display_name": "Python 3",
   "language": "python",
   "name": "python3"
  },
  "language_info": {
   "codemirror_mode": {
    "name": "ipython",
    "version": 3
   },
   "file_extension": ".py",
   "mimetype": "text/x-python",
   "name": "python",
   "nbconvert_exporter": "python",
   "pygments_lexer": "ipython3",
   "version": "3.6.3"
  }
 },
 "nbformat": 4,
 "nbformat_minor": 1
}
