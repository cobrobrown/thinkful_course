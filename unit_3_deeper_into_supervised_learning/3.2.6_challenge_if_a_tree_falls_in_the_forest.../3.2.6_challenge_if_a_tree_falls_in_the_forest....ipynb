{
 "cells": [
  {
   "cell_type": "markdown",
   "metadata": {},
   "source": [
    "# Problem Statement\n",
    "Now that you've learned about random forests and decision trees let's do an exercise in accuracy. You know that random forests are basically a collection of decision trees. But how do the accuracies of the two models compare?\n",
    "\n",
    "So here's what you should do. Pick a dataset. It could be one you've worked with before or it could be a new one. Then build the best decision tree you can.\n",
    "\n",
    "Now try to match that with the simplest random forest you can. For our purposes measure simplicity with runtime. Compare that to the runtime of the decision tree. This is imperfect but just go with it.\n",
    "\n",
    "Hopefully out of this you'll see the power of random forests, but also their potential costs. Remember, in the real world you won't necessarily be dealing with thousands of rows. It could be millions, billions, or even more."
   ]
  },
  {
   "cell_type": "code",
   "execution_count": 1,
   "metadata": {},
   "outputs": [],
   "source": [
    "import pandas as pd\n",
    "import numpy as np\n",
    "import seaborn as sns\n",
    "from sklearn import ensemble # random forest model\n",
    "from sklearn.model_selection import cross_val_score\n",
    "from sklearn import tree # decision tree model\n",
    "from IPython.display import Image # display tree\n",
    "import pydotplus # render tree\n",
    "import graphviz # render tree\n",
    "import time"
   ]
  },
  {
   "cell_type": "code",
   "execution_count": 11,
   "metadata": {},
   "outputs": [
    {
     "name": "stdout",
     "output_type": "stream",
     "text": [
      "(1784, 10)\n"
     ]
    },
    {
     "data": {
      "text/html": [
       "<div>\n",
       "<style scoped>\n",
       "    .dataframe tbody tr th:only-of-type {\n",
       "        vertical-align: middle;\n",
       "    }\n",
       "\n",
       "    .dataframe tbody tr th {\n",
       "        vertical-align: top;\n",
       "    }\n",
       "\n",
       "    .dataframe thead th {\n",
       "        text-align: right;\n",
       "    }\n",
       "</style>\n",
       "<table border=\"1\" class=\"dataframe\">\n",
       "  <thead>\n",
       "    <tr style=\"text-align: right;\">\n",
       "      <th></th>\n",
       "      <th>production_year</th>\n",
       "      <th>production_budget</th>\n",
       "      <th>international_box_office</th>\n",
       "      <th>rating</th>\n",
       "      <th>creative_type</th>\n",
       "      <th>source</th>\n",
       "      <th>production_method</th>\n",
       "      <th>genre</th>\n",
       "      <th>sequel</th>\n",
       "      <th>running_time</th>\n",
       "    </tr>\n",
       "  </thead>\n",
       "  <tbody>\n",
       "    <tr>\n",
       "      <th>0</th>\n",
       "      <td>2006</td>\n",
       "      <td>10000000</td>\n",
       "      <td>366513</td>\n",
       "      <td>PG-13</td>\n",
       "      <td>Dramatization</td>\n",
       "      <td>Based on Fiction Book/Short Story</td>\n",
       "      <td>Live Action</td>\n",
       "      <td>Drama</td>\n",
       "      <td>0</td>\n",
       "      <td>NaN</td>\n",
       "    </tr>\n",
       "    <tr>\n",
       "      <th>1</th>\n",
       "      <td>2006</td>\n",
       "      <td>10000000</td>\n",
       "      <td>175380</td>\n",
       "      <td>PG-13</td>\n",
       "      <td>Historical Fiction</td>\n",
       "      <td>Original Screenplay</td>\n",
       "      <td>Live Action</td>\n",
       "      <td>Drama</td>\n",
       "      <td>0</td>\n",
       "      <td>NaN</td>\n",
       "    </tr>\n",
       "    <tr>\n",
       "      <th>2</th>\n",
       "      <td>2006</td>\n",
       "      <td>10000000</td>\n",
       "      <td>31000000</td>\n",
       "      <td>Not Rated</td>\n",
       "      <td>Science Fiction</td>\n",
       "      <td>Original Screenplay</td>\n",
       "      <td>Live Action</td>\n",
       "      <td>Action</td>\n",
       "      <td>1</td>\n",
       "      <td>NaN</td>\n",
       "    </tr>\n",
       "    <tr>\n",
       "      <th>3</th>\n",
       "      <td>2006</td>\n",
       "      <td>10000000</td>\n",
       "      <td>62581</td>\n",
       "      <td>PG-13</td>\n",
       "      <td>Contemporary Fiction</td>\n",
       "      <td>Based on Play</td>\n",
       "      <td>Live Action</td>\n",
       "      <td>Comedy</td>\n",
       "      <td>1</td>\n",
       "      <td>NaN</td>\n",
       "    </tr>\n",
       "    <tr>\n",
       "      <th>4</th>\n",
       "      <td>2006</td>\n",
       "      <td>10000000</td>\n",
       "      <td>9920000</td>\n",
       "      <td>PG-13</td>\n",
       "      <td>Contemporary Fiction</td>\n",
       "      <td>Original Screenplay</td>\n",
       "      <td>Live Action</td>\n",
       "      <td>Comedy</td>\n",
       "      <td>0</td>\n",
       "      <td>108.0</td>\n",
       "    </tr>\n",
       "  </tbody>\n",
       "</table>\n",
       "</div>"
      ],
      "text/plain": [
       "   production_year  production_budget  international_box_office     rating  \\\n",
       "0             2006           10000000                    366513      PG-13   \n",
       "1             2006           10000000                    175380      PG-13   \n",
       "2             2006           10000000                  31000000  Not Rated   \n",
       "3             2006           10000000                     62581      PG-13   \n",
       "4             2006           10000000                   9920000      PG-13   \n",
       "\n",
       "          creative_type                             source production_method  \\\n",
       "0         Dramatization  Based on Fiction Book/Short Story       Live Action   \n",
       "1    Historical Fiction                Original Screenplay       Live Action   \n",
       "2       Science Fiction                Original Screenplay       Live Action   \n",
       "3  Contemporary Fiction                      Based on Play       Live Action   \n",
       "4  Contemporary Fiction                Original Screenplay       Live Action   \n",
       "\n",
       "    genre  sequel  running_time  \n",
       "0   Drama       0           NaN  \n",
       "1   Drama       0           NaN  \n",
       "2  Action       1           NaN  \n",
       "3  Comedy       1           NaN  \n",
       "4  Comedy       0         108.0  "
      ]
     },
     "metadata": {},
     "output_type": "display_data"
    }
   ],
   "source": [
    "data_path = '../../datasets/opusdata/opusdata.csv'\n",
    "df = pd.read_csv(data_path)\n",
    "df.drop(['movie_name', 'movie_odid', 'domestic_box_office'], axis = 1, inplace = True)\n",
    "X = df.drop(['sequel'], axis = 1)\n",
    "X = pd.get_dummies(X)\n",
    "Y = df['sequel']\n",
    "print (df.shape)\n",
    "display(df.head())"
   ]
  },
  {
   "cell_type": "code",
   "execution_count": 12,
   "metadata": {},
   "outputs": [
    {
     "data": {
      "text/plain": [
       "running_time    117\n",
       "dtype: int64"
      ]
     },
     "metadata": {},
     "output_type": "display_data"
    }
   ],
   "source": [
    "# clean data\n",
    "X_null = X.isnull().sum()\n",
    "display(X_null[X_null > 0])\n",
    "# impute running time with median\n",
    "X.fillna(value = X['running_time'].median(skipna = True), axis = 0, inplace = True)"
   ]
  },
  {
   "cell_type": "code",
   "execution_count": 7,
   "metadata": {},
   "outputs": [
    {
     "data": {
      "text/plain": [
       "array([0.85195531, 0.85154062, 0.85434174, 0.84550562, 0.3258427 ])"
      ]
     },
     "metadata": {},
     "output_type": "display_data"
    },
    {
     "name": "stdout",
     "output_type": "stream",
     "text": [
      "Decision Tree runtime: 0.03255772590637207\n"
     ]
    }
   ],
   "source": [
    "# decision tree\n",
    "# Initialize and train our tree.\n",
    "dt_start_time = time.time()\n",
    "decision_tree = tree.DecisionTreeClassifier(\n",
    "    criterion='entropy',\n",
    "    max_features=2,\n",
    "    max_depth=5,\n",
    "    random_state = 1337\n",
    ")\n",
    "decision_tree.fit(X, Y)\n",
    "display(cross_val_score(decision_tree, X, Y, cv = 5))\n",
    "print (\"Decision Tree runtime: {}\".format(time.time() - dt_start_time))\n",
    "'''\n",
    "# Render our tree.\n",
    "dot_data = tree.export_graphviz(\n",
    "    decision_tree, out_file=None,\n",
    "    feature_names=X.columns,\n",
    "    class_names=['Not Returning', 'Returning'],\n",
    "    filled=True\n",
    ")\n",
    "graph = pydotplus.graph_from_dot_data(dot_data)\n",
    "Image(graph.create_png())\n",
    "''';"
   ]
  },
  {
   "cell_type": "code",
   "execution_count": 8,
   "metadata": {},
   "outputs": [
    {
     "data": {
      "text/plain": [
       "array([0.86592179, 0.86554622, 0.87114846, 0.8258427 , 0.49719101])"
      ]
     },
     "metadata": {},
     "output_type": "display_data"
    },
    {
     "name": "stdout",
     "output_type": "stream",
     "text": [
      "Random Forest runtime: 0.13008785247802734\n"
     ]
    }
   ],
   "source": [
    "# random forest\n",
    "rf_start_time = time.time()\n",
    "rfc = ensemble.RandomForestClassifier()\n",
    "display(cross_val_score(rfc, X, Y, cv=5))\n",
    "print (\"Random Forest runtime: {}\".format(time.time() - rf_start_time))"
   ]
  },
  {
   "cell_type": "markdown",
   "metadata": {},
   "source": [
    "# write-up\n",
    "From a simple evaluation we can see that the random forest takes 10x longer to run than the simple decision tree at the cost of a 1% increase in accuracy."
   ]
  },
  {
   "cell_type": "code",
   "execution_count": null,
   "metadata": {},
   "outputs": [],
   "source": []
  }
 ],
 "metadata": {
  "kernelspec": {
   "display_name": "Python 3",
   "language": "python",
   "name": "python3"
  },
  "language_info": {
   "codemirror_mode": {
    "name": "ipython",
    "version": 3
   },
   "file_extension": ".py",
   "mimetype": "text/x-python",
   "name": "python",
   "nbconvert_exporter": "python",
   "pygments_lexer": "ipython3",
   "version": "3.6.3"
  }
 },
 "nbformat": 4,
 "nbformat_minor": 2
}
