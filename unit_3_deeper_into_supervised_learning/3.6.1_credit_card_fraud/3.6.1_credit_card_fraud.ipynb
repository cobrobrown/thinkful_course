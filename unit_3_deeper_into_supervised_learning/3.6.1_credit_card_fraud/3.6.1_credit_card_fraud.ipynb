{
 "cells": [
  {
   "cell_type": "markdown",
   "metadata": {
    "_cell_guid": "7339ff9d-dba6-4c5c-8525-04b7583c47db",
    "_uuid": "ccb9d6411e0440b97e760453fa23e2691daf08d6"
   },
   "source": [
    "# Credit Card Fraud (Thinkful Assignment 3.6.1)\n",
    "### Problem Statement\n",
    "Using this credit card fraud dataset develop an algorithm to predict fraud. Prioritize correctly finding fraud rather than correctly labeling non-fraudulent transactions.\n",
    "\n",
    "### Outline\n",
    "1. [Data Exploration](#data)\n",
    "2. [Feature Engineering](#feature)\n",
    "3. [Model Building](#model)\n",
    "4. [Evaluation](#evaluation)"
   ]
  },
  {
   "cell_type": "code",
   "execution_count": 1,
   "metadata": {
    "_cell_guid": "b1076dfc-b9ad-4769-8c92-a6c4dae69d19",
    "_uuid": "8f2839f25d086af736a60e9eeb907d3b93b6e0e5"
   },
   "outputs": [],
   "source": [
    "# tools\n",
    "import numpy as np # linear algebra\n",
    "current_state = np.random.get_state()\n",
    "np.random.set_state(current_state)\n",
    "import pandas as pd # data processing, CSV file I/O (e.g. pd.read_csv)\n",
    "import seaborn as sns\n",
    "import matplotlib.pyplot as plt\n",
    "from scipy import stats\n",
    "import time\n",
    "from sklearn import metrics\n",
    "import random\n",
    "# models\n",
    "from sklearn.naive_bayes import BernoulliNB # Naive Bayes\n",
    "from sklearn.neighbors import KNeighborsClassifier # KNN Classifier\n",
    "from sklearn import ensemble # RandomForestClassifier(), GradientBoostingClassifier()\n",
    "from sklearn import linear_model # LogisticRegression(penalty = 'l1') OLS, RidgeClassifier(), LogisticRegression(penalty = 'l2') Lasso Classifier\n",
    "from sklearn import svm # SVC()\n",
    "from sklearn.model_selection import cross_val_score"
   ]
  },
  {
   "cell_type": "code",
   "execution_count": 2,
   "metadata": {
    "_cell_guid": "79c7e3d0-c299-4dcb-8224-4455121ee9b0",
    "_uuid": "d629ff2d2480ee46fbb7e2d37f6b5fab8052498a"
   },
   "outputs": [],
   "source": [
    "'''\n",
    "#### Naive Bayes\n",
    "bnb = BernoulliNB()\n",
    "cross_val_score(bnb, X, Y, cv=10)\n",
    "\n",
    "#### KNN Classifier\n",
    "neighbors = KNeighborsClassifier(n_neighbors=1)\n",
    "cross_val_score(neighbors, X, Y, cv=10)\n",
    "\n",
    "#### RandomForestClassifier \n",
    "rfc = ensemble.RandomForestClassifier()\n",
    "X = y2015.drop('loan_status', 1)\n",
    "Y = y2015['loan_status']\n",
    "X = pd.get_dummies(X)\n",
    "cross_val_score(rfc, X, Y, cv=10)\n",
    "\n",
    "#### Logistic Regression\n",
    "vanilla_model = linear_model.LogisticRegression(penalty = 'l2', C=1e9)\n",
    "cross_val_score(vanilla_model, X.apply(stats.zscore, axis = 1), y, cv = 5)\n",
    "\n",
    "#### Ridge Classifier\n",
    "ridge_model = linear_model.RidgeClassifier(alpha = 1e-4)\n",
    "cross_val_score(ridge_model, X, y, cv = 5)\n",
    "\n",
    "#### Lasso Classifier\n",
    "lasso_model = linear_model.LogisticRegression(penalty = 'l1')\n",
    "cross_val_score(lasso_model, X, y, cv = 5)\n",
    "\n",
    "#### SVClassifier\n",
    "svc_model = svm.SVC(C = 100, kernel = 'rbf')\n",
    "cross_val_score(svc_model, X, y, cv = 5)\n",
    "\n",
    "#### Gradient Boost Classifier\n",
    "params = {'n_estimators': 500,\n",
    "          'max_depth': 2,\n",
    "          'subsample': 0.5,\n",
    "          'learning_rate': 0.001,\n",
    "          'loss': 'deviance'}\n",
    "clf = ensemble.GradientBoostingClassifier(**params)\n",
    "cross_val_score(clf, X, y, cv = 5)\n",
    "''';"
   ]
  },
  {
   "cell_type": "markdown",
   "metadata": {
    "_cell_guid": "ceedb46a-b106-44e0-bd9b-933c87094783",
    "_uuid": "ecd93587f60cfaa9df05ba308feb61b98094dc68"
   },
   "source": [
    "<a id = 'data'></a>\n",
    "# 1. Data Exploration"
   ]
  },
  {
   "cell_type": "code",
   "execution_count": 3,
   "metadata": {
    "_cell_guid": "694c2d19-12be-4f66-8ee9-771839faac44",
    "_uuid": "924fa50cfe4800fd3de11380a17d181ab5786786"
   },
   "outputs": [
    {
     "name": "stdout",
     "output_type": "stream",
     "text": [
      "Shape of Data: (284807, 31)\n"
     ]
    }
   ],
   "source": [
    "# load data\n",
    "data_path = '../../datasets/credit_card_fraud/credit_card_fraud.csv'\n",
    "df = pd.read_csv(data_path)\n",
    "print (\"Shape of Data: {}\".format(df.shape))\n",
    "df_norm = (df - df.mean()) / (df.max() - df.min())\n",
    "# input/outcome variables\n",
    "X = df_norm[list(set(list(df_norm.columns)) - set(['Class']))]\n",
    "Y = df['Class']"
   ]
  },
  {
   "cell_type": "code",
   "execution_count": 4,
   "metadata": {
    "_cell_guid": "c5b5a3de-abb6-4f2b-990c-0123aa837083",
    "_uuid": "bc5bb977153211787368d8903731b6a5354e39d1"
   },
   "outputs": [],
   "source": [
    "# distributions by Class\n",
    "# df_norm.boxplot(by = 'Class', figsize=(20,20));\n"
   ]
  },
  {
   "cell_type": "markdown",
   "metadata": {
    "_cell_guid": "4b444e9f-017e-4f9f-b0d4-f7afb92fee6d",
    "_uuid": "58c1d5780e5f1b2dfc2294d0406da8bde982b3a8"
   },
   "source": [
    "<a id = 'feature'></a>\n",
    "# 2. Feature Engineering"
   ]
  },
  {
   "cell_type": "code",
   "execution_count": 5,
   "metadata": {
    "_cell_guid": "7b0086f3-3bfb-4bc2-b85f-6af5a7542ed5",
    "_uuid": "d80132ea41f3efce69781acd7cde62d06ceb0c0e"
   },
   "outputs": [],
   "source": [
    "# ??? ideas ???"
   ]
  },
  {
   "cell_type": "markdown",
   "metadata": {
    "_cell_guid": "e336c89f-a798-4b16-94bf-b243d59af9e0",
    "_uuid": "9fa1831bc5e197d39b9d30eaf552573e39405c34"
   },
   "source": [
    "<a id = 'model'></a>\n",
    "# 3. Model Building"
   ]
  },
  {
   "cell_type": "code",
   "execution_count": 6,
   "metadata": {
    "_cell_guid": "442acc6d-8d61-4196-a2b8-7a29a65d3cd0",
    "_uuid": "6aa0693d24753af2f6e442c5be076228b907ca51"
   },
   "outputs": [],
   "source": [
    "df_acc = pd.DataFrame()\n",
    "df_auc = pd.DataFrame()\n",
    "# holdout 30%: maintain unbalanced classes\n",
    "fraud_idx = list(Y[Y == 1].index)\n",
    "random.shuffle(fraud_idx)\n",
    "non_fraud_idx = list(set(Y.index) - set(fraud_idx))\n",
    "random.shuffle(non_fraud_idx)\n",
    "fraud_train_idx = fraud_idx[:int(0.7 * len(fraud_idx))]\n",
    "fraud_test_idx = fraud_idx[int(0.7 * len(fraud_idx)):]\n",
    "non_fraud_train_idx = non_fraud_idx[:int(0.7 * len(non_fraud_idx))]\n",
    "non_fraud_test_idx = non_fraud_idx[int(0.7 * len(non_fraud_idx)):]\n",
    "train_idx = fraud_train_idx + non_fraud_train_idx\n",
    "test_idx = fraud_test_idx + non_fraud_test_idx\n",
    "# make holdout groups\n",
    "X_train = X.iloc[train_idx]\n",
    "X_test = X.iloc[test_idx]\n",
    "Y_train = Y.iloc[train_idx]\n",
    "Y_test = Y.iloc[test_idx]"
   ]
  },
  {
   "cell_type": "code",
   "execution_count": 7,
   "metadata": {
    "_cell_guid": "e34238d3-0c21-415b-8445-db09029d6910",
    "_uuid": "93ada941a67ef169d2d0baae6cff3d516f5fdb6e"
   },
   "outputs": [
    {
     "name": "stdout",
     "output_type": "stream",
     "text": [
      "Runtime 0.28\n"
     ]
    }
   ],
   "source": [
    "# runtime ~ 0.24 seconds\n",
    "#### Naive Bayes\n",
    "start = time.time()\n",
    "bnb = BernoulliNB()\n",
    "bnb.fit(X_train,Y_train)\n",
    "bnb_pred = bnb.predict(X_test)\n",
    "print (\"Runtime %0.2f\" % (time.time() - start))\n",
    "def evaluate(model_name, Y_pred):\n",
    "    acc = []\n",
    "    cross_tab = pd.crosstab(Y_test, Y_pred)\n",
    "    acc.append((cross_tab.iloc[0,0] + cross_tab.iloc[1,1]) / (cross_tab.sum().sum()))\n",
    "    df_acc[model_name] = acc\n",
    "    fpr, tpr, thresholds = metrics.roc_curve(Y_test, Y_pred, pos_label=1)\n",
    "    auc = metrics.auc(fpr, tpr)\n",
    "    df_auc[model_name] = [auc]\n",
    "evaluate('Naive Bayes', bnb_pred)"
   ]
  },
  {
   "cell_type": "code",
   "execution_count": 20,
   "metadata": {
    "_cell_guid": "96b3c055-aee8-406f-b83f-3bf98a5e7a28",
    "_uuid": "8b916017435afe09c1e7659e75ee2242a63b7a13"
   },
   "outputs": [
    {
     "name": "stdout",
     "output_type": "stream",
     "text": [
      "Runtime 472.02\n"
     ]
    }
   ],
   "source": [
    "# runtime ~ 447.93 seconds\n",
    "#### KNN Classifier\n",
    "start = time.time()\n",
    "knn_model = KNeighborsClassifier(n_neighbors=1, algorithm='ball_tree', n_jobs = 3)\n",
    "knn_model.fit(X_train, Y_train)\n",
    "knn_pred = knn_model.predict(X_test)\n",
    "print (\"Runtime %0.2f\" % (time.time() - start))\n",
    "evaluate('KNN k = 1',knn_pred)"
   ]
  },
  {
   "cell_type": "code",
   "execution_count": 21,
   "metadata": {},
   "outputs": [
    {
     "name": "stdout",
     "output_type": "stream",
     "text": [
      "Runtime 519.71\n"
     ]
    }
   ],
   "source": [
    "start = time.time()\n",
    "knn_model = KNeighborsClassifier(n_neighbors=4, algorithm='ball_tree', n_jobs = 3)\n",
    "knn_model.fit(X_train, Y_train)\n",
    "knn_pred = knn_model.predict(X_test)\n",
    "print (\"Runtime %0.2f\" % (time.time() - start))\n",
    "evaluate('KNN k = 4',knn_pred)"
   ]
  },
  {
   "cell_type": "code",
   "execution_count": 22,
   "metadata": {},
   "outputs": [
    {
     "name": "stdout",
     "output_type": "stream",
     "text": [
      "Runtime 552.73\n"
     ]
    }
   ],
   "source": [
    "start = time.time()\n",
    "knn_model = KNeighborsClassifier(n_neighbors=10, algorithm='ball_tree', n_jobs = 3)\n",
    "knn_model.fit(X_train, Y_train)\n",
    "knn_pred = knn_model.predict(X_test)\n",
    "print (\"Runtime %0.2f\" % (time.time() - start))\n",
    "evaluate('KNN k = 10',knn_pred)"
   ]
  },
  {
   "cell_type": "code",
   "execution_count": 23,
   "metadata": {},
   "outputs": [
    {
     "name": "stdout",
     "output_type": "stream",
     "text": [
      "Runtime 602.52\n"
     ]
    }
   ],
   "source": [
    "start = time.time()\n",
    "knn_model = KNeighborsClassifier(n_neighbors=50, algorithm='ball_tree', n_jobs = 3)\n",
    "knn_model.fit(X_train, Y_train)\n",
    "knn_pred = knn_model.predict(X_test)\n",
    "print (\"Runtime %0.2f\" % (time.time() - start))\n",
    "evaluate('KNN k = 50',knn_pred)"
   ]
  },
  {
   "cell_type": "code",
   "execution_count": 9,
   "metadata": {
    "_cell_guid": "a14c8724-d592-47ae-b399-0617fff10059",
    "_uuid": "d111a7560260b37cdf2b6dc13295bdbca25cc92a"
   },
   "outputs": [
    {
     "name": "stdout",
     "output_type": "stream",
     "text": [
      "Runtime 8.54\n"
     ]
    }
   ],
   "source": [
    "# runtime ~ 7.58 seconds\n",
    "#### RandomForestClassifier \n",
    "start = time.time()\n",
    "rfc = ensemble.RandomForestClassifier(n_jobs = 3)\n",
    "rfc.fit(X_train, Y_train)\n",
    "rfc_pred = rfc.predict(X_test)\n",
    "print (\"Runtime %0.2f\" % (time.time() - start))\n",
    "evaluate('Random Forest', rfc_pred)"
   ]
  },
  {
   "cell_type": "code",
   "execution_count": 10,
   "metadata": {
    "_cell_guid": "d9433213-f71b-4a74-a1db-a0e8485f6010",
    "_uuid": "fd27106f6ef61257645f54b9100dd508f58dc901"
   },
   "outputs": [
    {
     "name": "stderr",
     "output_type": "stream",
     "text": [
      "/home/conner/.local/lib/python3.6/site-packages/sklearn/linear_model/logistic.py:1228: UserWarning: 'n_jobs' > 1 does not have any effect when 'solver' is set to 'liblinear'. Got 'n_jobs' = 3.\n",
      "  \" = {}.\".format(self.n_jobs))\n"
     ]
    },
    {
     "name": "stdout",
     "output_type": "stream",
     "text": [
      "Runtime 3.39\n"
     ]
    }
   ],
   "source": [
    "# runtime ~ 4.91 seconds\n",
    "#### Logistic Regression\n",
    "start = time.time()\n",
    "log_reg_model = linear_model.LogisticRegression(penalty = 'l2', C=1e9)\n",
    "log_reg_model.fit(X_train, Y_train)\n",
    "log_reg_pred = log_reg_model.predict(X_test)\n",
    "print (\"Runtime %0.2f\" % (time.time() - start))\n",
    "evaluate('Logistic Regression', log_reg_pred)"
   ]
  },
  {
   "cell_type": "code",
   "execution_count": 11,
   "metadata": {
    "_cell_guid": "d627c9d1-d6b8-475e-ac78-af834bdd6ee8",
    "_uuid": "54599d4d32c00f3e837b25b8d8fcd7d7fe956a81"
   },
   "outputs": [
    {
     "name": "stdout",
     "output_type": "stream",
     "text": [
      "Runtime 0.22\n"
     ]
    }
   ],
   "source": [
    "# runtime ~ 0.21 seconds\n",
    "#### Ridge Classifier\n",
    "start = time.time()\n",
    "ridge_model = linear_model.RidgeClassifier(alpha = 1e-4)\n",
    "ridge_model.fit(X_train, Y_train)\n",
    "ridge_pred = ridge_model.predict(X_test)\n",
    "print (\"Runtime %0.2f\" % (time.time() - start))\n",
    "evaluate('Ridge Regression', ridge_pred)"
   ]
  },
  {
   "cell_type": "code",
   "execution_count": 12,
   "metadata": {
    "_cell_guid": "32bce0e0-5b7f-4d15-b1f5-9b69b8489b5c",
    "_uuid": "fde520db55518b5afa2aea7914d4b1b5ae55a0bd"
   },
   "outputs": [
    {
     "name": "stderr",
     "output_type": "stream",
     "text": [
      "/home/conner/.local/lib/python3.6/site-packages/sklearn/linear_model/logistic.py:1228: UserWarning: 'n_jobs' > 1 does not have any effect when 'solver' is set to 'liblinear'. Got 'n_jobs' = 3.\n",
      "  \" = {}.\".format(self.n_jobs))\n"
     ]
    },
    {
     "name": "stdout",
     "output_type": "stream",
     "text": [
      "Runtime 1.17\n"
     ]
    }
   ],
   "source": [
    "# runtime ~ 1.21 seconds\n",
    "#### Lasso Classifier\n",
    "start = time.time()\n",
    "lasso_model = linear_model.LogisticRegression(penalty = 'l1')\n",
    "lasso_model.fit(X_train, Y_train)\n",
    "lasso_pred = lasso_model.predict(X_test)\n",
    "print (\"Runtime %0.2f\" % (time.time() - start))\n",
    "evaluate('Lasso Regression', lasso_pred)"
   ]
  },
  {
   "cell_type": "code",
   "execution_count": 15,
   "metadata": {
    "_cell_guid": "f1619208-c52f-492d-bc90-8e6e25daea3a",
    "_uuid": "eed8a0f8404faa1f233f25c85c288bea3a60e58a"
   },
   "outputs": [
    {
     "ename": "TypeError",
     "evalue": "__init__() got an unexpected keyword argument 'n_jobs'",
     "output_type": "error",
     "traceback": [
      "\u001b[0;31m---------------------------------------------------------------------------\u001b[0m",
      "\u001b[0;31mTypeError\u001b[0m                                 Traceback (most recent call last)",
      "\u001b[0;32m<ipython-input-15-24fa56fe4baa>\u001b[0m in \u001b[0;36m<module>\u001b[0;34m()\u001b[0m\n\u001b[1;32m      2\u001b[0m \u001b[0;31m#### SVClassifier\u001b[0m\u001b[0;34m\u001b[0m\u001b[0;34m\u001b[0m\u001b[0m\n\u001b[1;32m      3\u001b[0m \u001b[0mstart\u001b[0m \u001b[0;34m=\u001b[0m \u001b[0mtime\u001b[0m\u001b[0;34m.\u001b[0m\u001b[0mtime\u001b[0m\u001b[0;34m(\u001b[0m\u001b[0;34m)\u001b[0m\u001b[0;34m\u001b[0m\u001b[0m\n\u001b[0;32m----> 4\u001b[0;31m \u001b[0msvc_model\u001b[0m \u001b[0;34m=\u001b[0m \u001b[0msvm\u001b[0m\u001b[0;34m.\u001b[0m\u001b[0mSVC\u001b[0m\u001b[0;34m(\u001b[0m\u001b[0mC\u001b[0m \u001b[0;34m=\u001b[0m \u001b[0;36m100\u001b[0m\u001b[0;34m,\u001b[0m \u001b[0mkernel\u001b[0m \u001b[0;34m=\u001b[0m \u001b[0;34m'rbf'\u001b[0m\u001b[0;34m,\u001b[0m \u001b[0mn_jobs\u001b[0m \u001b[0;34m=\u001b[0m \u001b[0;36m3\u001b[0m\u001b[0;34m)\u001b[0m\u001b[0;34m\u001b[0m\u001b[0m\n\u001b[0m\u001b[1;32m      5\u001b[0m \u001b[0msvc_model\u001b[0m\u001b[0;34m.\u001b[0m\u001b[0mfit\u001b[0m\u001b[0;34m(\u001b[0m\u001b[0mX_train\u001b[0m\u001b[0;34m,\u001b[0m \u001b[0mY_train\u001b[0m\u001b[0;34m)\u001b[0m\u001b[0;34m\u001b[0m\u001b[0m\n\u001b[1;32m      6\u001b[0m \u001b[0msvc_pred\u001b[0m \u001b[0;34m=\u001b[0m \u001b[0msvc_model\u001b[0m\u001b[0;34m.\u001b[0m\u001b[0mpredict\u001b[0m\u001b[0;34m(\u001b[0m\u001b[0mX_test\u001b[0m\u001b[0;34m)\u001b[0m\u001b[0;34m\u001b[0m\u001b[0m\n",
      "\u001b[0;31mTypeError\u001b[0m: __init__() got an unexpected keyword argument 'n_jobs'"
     ]
    }
   ],
   "source": [
    "# runtime ~ 13.47 seconds\n",
    "#### SVClassifier\n",
    "start = time.time()\n",
    "svc_model = svm.SVC(C = 100, kernel = 'rbf')\n",
    "svc_model.fit(X_train, Y_train)\n",
    "svc_pred = svc_model.predict(X_test)\n",
    "print (\"Runtime %0.2f\" % (time.time() - start))\n",
    "evaluate('SVM', svc_pred)"
   ]
  },
  {
   "cell_type": "code",
   "execution_count": 16,
   "metadata": {
    "_cell_guid": "387d35db-749a-43de-8c3c-a7ecdff463dc",
    "_uuid": "19bbf86a04b5c0e144c10b82f1c14c1cea176670"
   },
   "outputs": [
    {
     "name": "stdout",
     "output_type": "stream",
     "text": [
      "Runtime 189.53\n"
     ]
    }
   ],
   "source": [
    "# runtime ~ 183.14 seconds\n",
    "#### Gradient Boost Classifier\n",
    "start = time.time()\n",
    "params = {'n_estimators': 500,\n",
    "          'max_depth': 2,\n",
    "          'subsample': 0.5,\n",
    "          'learning_rate': 0.001,\n",
    "          'loss': 'deviance'}\n",
    "gbc = ensemble.GradientBoostingClassifier(**params)\n",
    "gbc.fit(X_train, Y_train)\n",
    "gbc_pred = gbc.predict(X_test)\n",
    "print (\"Runtime %0.2f\" % (time.time() - start))\n",
    "evaluate('Gradient Boost', gbc_pred)"
   ]
  },
  {
   "cell_type": "markdown",
   "metadata": {
    "_cell_guid": "ad4ed5c4-3a8e-405d-9798-faa4ef7a4a60",
    "_uuid": "2d93ad9161442d14f9b146aad8cbd41320f4ced1"
   },
   "source": [
    "<a id = 'evaluation'></a>\n",
    "# 4. Evaluation"
   ]
  },
  {
   "cell_type": "code",
   "execution_count": 17,
   "metadata": {
    "_uuid": "4c026b2dd880d2dac019c1a0de16b796755ad685",
    "scrolled": true
   },
   "outputs": [
    {
     "name": "stdout",
     "output_type": "stream",
     "text": [
      "Baseline Accuracy: 0.9983\n"
     ]
    }
   ],
   "source": [
    "# Baseline Accuracy: guess 0\n",
    "print (\"Baseline Accuracy: %0.4f\" % ((Y == 0).sum() / len(Y)))"
   ]
  },
  {
   "cell_type": "code",
   "execution_count": 24,
   "metadata": {
    "_cell_guid": "66e9f8b9-6083-41f1-938a-723f03bcd42e",
    "_uuid": "6ee6c3f747f70db7f3808b8f664e7e0d66b3e115",
    "scrolled": true
   },
   "outputs": [
    {
     "data": {
      "text/html": [
       "<div>\n",
       "<style scoped>\n",
       "    .dataframe tbody tr th:only-of-type {\n",
       "        vertical-align: middle;\n",
       "    }\n",
       "\n",
       "    .dataframe tbody tr th {\n",
       "        vertical-align: top;\n",
       "    }\n",
       "\n",
       "    .dataframe thead th {\n",
       "        text-align: right;\n",
       "    }\n",
       "</style>\n",
       "<table border=\"1\" class=\"dataframe\">\n",
       "  <thead>\n",
       "    <tr style=\"text-align: right;\">\n",
       "      <th></th>\n",
       "      <th>Naive Bayes</th>\n",
       "      <th>Random Forest</th>\n",
       "      <th>Logistic Regression</th>\n",
       "      <th>Ridge Regression</th>\n",
       "      <th>Lasso Regression</th>\n",
       "      <th>SVM</th>\n",
       "      <th>Gradient Boost</th>\n",
       "      <th>KNN k = 1</th>\n",
       "      <th>KNN k = 4</th>\n",
       "      <th>KNN k = 10</th>\n",
       "      <th>KNN k = 50</th>\n",
       "    </tr>\n",
       "  </thead>\n",
       "  <tbody>\n",
       "    <tr>\n",
       "      <th>0</th>\n",
       "      <td>0.999052</td>\n",
       "      <td>0.999415</td>\n",
       "      <td>0.999216</td>\n",
       "      <td>0.998818</td>\n",
       "      <td>0.999169</td>\n",
       "      <td>0.999274</td>\n",
       "      <td>0.998373</td>\n",
       "      <td>0.999333</td>\n",
       "      <td>0.999403</td>\n",
       "      <td>0.999321</td>\n",
       "      <td>0.999146</td>\n",
       "    </tr>\n",
       "  </tbody>\n",
       "</table>\n",
       "</div>"
      ],
      "text/plain": [
       "   Naive Bayes  Random Forest  Logistic Regression  Ridge Regression  \\\n",
       "0     0.999052       0.999415             0.999216          0.998818   \n",
       "\n",
       "   Lasso Regression       SVM  Gradient Boost  KNN k = 1  KNN k = 4  \\\n",
       "0          0.999169  0.999274        0.998373   0.999333   0.999403   \n",
       "\n",
       "   KNN k = 10  KNN k = 50  \n",
       "0    0.999321    0.999146  "
      ]
     },
     "metadata": {},
     "output_type": "display_data"
    }
   ],
   "source": [
    "# Accuracy scores\n",
    "display(df_acc)"
   ]
  },
  {
   "cell_type": "code",
   "execution_count": 25,
   "metadata": {
    "_cell_guid": "6593f41f-b7e0-4078-bc9d-331084011307",
    "_uuid": "2815503d1f0dc7e97169310f57af9f061c9017e1"
   },
   "outputs": [
    {
     "data": {
      "text/html": [
       "<div>\n",
       "<style scoped>\n",
       "    .dataframe tbody tr th:only-of-type {\n",
       "        vertical-align: middle;\n",
       "    }\n",
       "\n",
       "    .dataframe tbody tr th {\n",
       "        vertical-align: top;\n",
       "    }\n",
       "\n",
       "    .dataframe thead th {\n",
       "        text-align: right;\n",
       "    }\n",
       "</style>\n",
       "<table border=\"1\" class=\"dataframe\">\n",
       "  <thead>\n",
       "    <tr style=\"text-align: right;\">\n",
       "      <th></th>\n",
       "      <th>Naive Bayes</th>\n",
       "      <th>Random Forest</th>\n",
       "      <th>Logistic Regression</th>\n",
       "      <th>Ridge Regression</th>\n",
       "      <th>Lasso Regression</th>\n",
       "      <th>SVM</th>\n",
       "      <th>Gradient Boost</th>\n",
       "      <th>KNN k = 1</th>\n",
       "      <th>KNN k = 4</th>\n",
       "      <th>KNN k = 10</th>\n",
       "      <th>KNN k = 50</th>\n",
       "    </tr>\n",
       "  </thead>\n",
       "  <tbody>\n",
       "    <tr>\n",
       "      <th>0</th>\n",
       "      <td>0.797174</td>\n",
       "      <td>0.871551</td>\n",
       "      <td>0.807374</td>\n",
       "      <td>0.695881</td>\n",
       "      <td>0.797233</td>\n",
       "      <td>0.888344</td>\n",
       "      <td>0.530405</td>\n",
       "      <td>0.87151</td>\n",
       "      <td>0.861428</td>\n",
       "      <td>0.841152</td>\n",
       "      <td>0.800594</td>\n",
       "    </tr>\n",
       "  </tbody>\n",
       "</table>\n",
       "</div>"
      ],
      "text/plain": [
       "   Naive Bayes  Random Forest  Logistic Regression  Ridge Regression  \\\n",
       "0     0.797174       0.871551             0.807374          0.695881   \n",
       "\n",
       "   Lasso Regression       SVM  Gradient Boost  KNN k = 1  KNN k = 4  \\\n",
       "0          0.797233  0.888344        0.530405    0.87151   0.861428   \n",
       "\n",
       "   KNN k = 10  KNN k = 50  \n",
       "0    0.841152    0.800594  "
      ]
     },
     "metadata": {},
     "output_type": "display_data"
    }
   ],
   "source": [
    "# AUC, because very imbalanced outcomes\n",
    "display(df_auc)"
   ]
  },
  {
   "cell_type": "code",
   "execution_count": null,
   "metadata": {
    "_uuid": "9e496769d930e910e5a665b66f83d746f1564e24"
   },
   "outputs": [],
   "source": []
  }
 ],
 "metadata": {
  "kernelspec": {
   "display_name": "Python 3",
   "language": "python",
   "name": "python3"
  },
  "language_info": {
   "codemirror_mode": {
    "name": "ipython",
    "version": 3
   },
   "file_extension": ".py",
   "mimetype": "text/x-python",
   "name": "python",
   "nbconvert_exporter": "python",
   "pygments_lexer": "ipython3",
   "version": "3.6.3"
  }
 },
 "nbformat": 4,
 "nbformat_minor": 1
}
