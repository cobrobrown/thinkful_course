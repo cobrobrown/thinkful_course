{
 "cells": [
  {
   "cell_type": "markdown",
   "metadata": {},
   "source": [
    "# Problem statement\n",
    "Statistical tests are useful for making sure a model is a good fit to the test data, and that all the features are useful to the model. However, to make sure a model has good predictive validity for new data, it is necessary to assess the performance of the model on new datasets.\n",
    "\n",
    "The procedure is the same as what you learned in the Naive Bayes lesson – the holdout method and cross-validation method are both available. You've already had experience writing code to run these kinds of validation models for Naive Bayes: now you can try it again with linear regression. In this case, your goal is to achieve a model with a consistent R2 and only statistically significant parameters across multiple samples.\n",
    "\n",
    "We'll use the property crime model you've been working on with, based on the FBI:UCR data. Since your model formulation to date has used the entire New York State 2013 dataset, you'll need to validate it using some of the other crime datasets available at the FBI:UCR website. Options include other states crime rates in 2013 or crime rates in New York State in other years or a combination of these.\n",
    "\n",
    "Iterate\n",
    "Based on the results of your validation test, create a revised model, and then test both old and new models on a new holdout or set of folds.\n",
    "\n",
    "Include your model(s) and a brief writeup of the reasoning behind the validation method you chose and the changes you made to submit and review with your mentor.\n",
    "### Outline \n",
    "1. [Baseline](#baseline)\n",
    "2. [Holdout](#holdout)\n",
    "3. [Cross-validation](#cross_validation)\n",
    "4. [Transfer model](#transfer_model)"
   ]
  },
  {
   "cell_type": "code",
   "execution_count": 1,
   "metadata": {},
   "outputs": [],
   "source": [
    "import numpy as np\n",
    "import pandas as pd\n",
    "import matplotlib.pyplot as plt\n",
    "import seaborn as sns\n",
    "from sklearn.model_selection import train_test_split\n",
    "import statsmodels.formula.api as smf\n",
    "from statsmodels.sandbox.regression.predstd import wls_prediction_std\n",
    "\n",
    "\n",
    "import warnings\n",
    "warnings.filterwarnings(\"ignore\")"
   ]
  },
  {
   "cell_type": "code",
   "execution_count": 2,
   "metadata": {},
   "outputs": [
    {
     "name": "stdout",
     "output_type": "stream",
     "text": [
      "Number of rows: 348\n"
     ]
    }
   ],
   "source": [
    "# import data and set-up model (2.4.4)\n",
    "data_path = '../../datasets/table_8_offenses_known_to_law_enforcement_new_york_by_city_2013/property_crime_new_york_prep.csv'\n",
    "data = pd.read_csv(data_path, index_col = 0)\n",
    "print (\"Number of rows: {}\".format(len(data.index)))"
   ]
  },
  {
   "cell_type": "code",
   "execution_count": 3,
   "metadata": {},
   "outputs": [],
   "source": [
    "data['log_population'] = data['population'].apply(np.log)\n",
    "data['log_property_crime'] = data['property_crime'].apply(np.log)\n",
    "X = data[['log_population', 'population_squared', 'murder', 'robbery']]\n",
    "Y = data['log_property_crime']\n",
    "trans_data = data.drop(['population', 'property_crime'], axis = 1)"
   ]
  },
  {
   "cell_type": "code",
   "execution_count": 4,
   "metadata": {},
   "outputs": [
    {
     "name": "stdout",
     "output_type": "stream",
     "text": [
      "R squared:  0.8135358194856065\n",
      "\n",
      "Parameters\n",
      "\n",
      " Intercept            -3.246125e+00\n",
      "log_population        8.243027e-01\n",
      "population_squared    9.592131e-11\n",
      "murder                1.859710e-01\n",
      "robbery               9.021088e-01\n",
      "dtype: float64\n",
      "\n",
      "P-values\n",
      "\n",
      " Intercept             9.098893e-13\n",
      "log_population        7.309871e-41\n",
      "population_squared    1.407975e-01\n",
      "murder                1.212391e-01\n",
      "robbery               1.762389e-21\n",
      "dtype: float64\n",
      "\n",
      "Confidence Intervals\n"
     ]
    },
    {
     "data": {
      "text/html": [
       "<div>\n",
       "<style scoped>\n",
       "    .dataframe tbody tr th:only-of-type {\n",
       "        vertical-align: middle;\n",
       "    }\n",
       "\n",
       "    .dataframe tbody tr th {\n",
       "        vertical-align: top;\n",
       "    }\n",
       "\n",
       "    .dataframe thead th {\n",
       "        text-align: right;\n",
       "    }\n",
       "</style>\n",
       "<table border=\"1\" class=\"dataframe\">\n",
       "  <thead>\n",
       "    <tr style=\"text-align: right;\">\n",
       "      <th></th>\n",
       "      <th>0</th>\n",
       "      <th>1</th>\n",
       "    </tr>\n",
       "  </thead>\n",
       "  <tbody>\n",
       "    <tr>\n",
       "      <th>Intercept</th>\n",
       "      <td>-4.106224e+00</td>\n",
       "      <td>-2.386026e+00</td>\n",
       "    </tr>\n",
       "    <tr>\n",
       "      <th>log_population</th>\n",
       "      <td>7.187058e-01</td>\n",
       "      <td>9.298996e-01</td>\n",
       "    </tr>\n",
       "    <tr>\n",
       "      <th>population_squared</th>\n",
       "      <td>-3.188196e-11</td>\n",
       "      <td>2.237246e-10</td>\n",
       "    </tr>\n",
       "    <tr>\n",
       "      <th>murder</th>\n",
       "      <td>-4.949741e-02</td>\n",
       "      <td>4.214395e-01</td>\n",
       "    </tr>\n",
       "    <tr>\n",
       "      <th>robbery</th>\n",
       "      <td>7.279971e-01</td>\n",
       "      <td>1.076220e+00</td>\n",
       "    </tr>\n",
       "  </tbody>\n",
       "</table>\n",
       "</div>"
      ],
      "text/plain": [
       "                               0             1\n",
       "Intercept          -4.106224e+00 -2.386026e+00\n",
       "log_population      7.187058e-01  9.298996e-01\n",
       "population_squared -3.188196e-11  2.237246e-10\n",
       "murder             -4.949741e-02  4.214395e-01\n",
       "robbery             7.279971e-01  1.076220e+00"
      ]
     },
     "metadata": {},
     "output_type": "display_data"
    },
    {
     "name": "stdout",
     "output_type": "stream",
     "text": [
      "The r squared signifies a good relationship between the features and the target variable. The first indication that not all of our features are needed is that the population_squared feature has a parameter close to 0. The p-values for both population_squared and murder are very high and the confidence interval of both parameters contains 0. For further modeling I will drop these two features.\n"
     ]
    }
   ],
   "source": [
    "linear_formula = 'log_property_crime ~ log_population + population_squared + murder + robbery'\n",
    "\n",
    "# Fit the model to our data using the formula.\n",
    "lg_model = smf.ols(formula=linear_formula, data=data).fit()\n",
    "print (\"R squared: \", lg_model.rsquared)\n",
    "print (\"\\nParameters\\n\\n\", lg_model.params)\n",
    "print (\"\\nP-values\\n\\n\", lg_model.pvalues)\n",
    "print (\"\\nConfidence Intervals\")\n",
    "display(lg_model.conf_int())\n",
    "# discussion\n",
    "print (\"The r squared signifies a good relationship between the features and the target variable. The first indication that not all of our features are needed is that the population_squared feature has a parameter close to 0. The p-values for both population_squared and murder are very high and the confidence interval of both parameters contains 0. For further modeling I will drop these two features.\")"
   ]
  },
  {
   "cell_type": "code",
   "execution_count": 5,
   "metadata": {},
   "outputs": [],
   "source": [
    "comparison_columns = ['Intercept', 'log_population', 'robbery']\n",
    "params_df = pd.DataFrame(columns = comparison_columns)\n",
    "pvalues_df = pd.DataFrame(columns = comparison_columns)\n",
    "rsquared_series = pd.Series()"
   ]
  },
  {
   "cell_type": "markdown",
   "metadata": {},
   "source": [
    "<a id = 'baseline'></a>\n",
    "### 1. Baseline\n",
    "Train and test on the whole dataset."
   ]
  },
  {
   "cell_type": "code",
   "execution_count": 6,
   "metadata": {},
   "outputs": [
    {
     "data": {
      "image/png": "[encoded data removed]",
      "text/plain": [
       "<Figure size 432x432 with 3 Axes>"
      ]
     },
     "metadata": {},
     "output_type": "display_data"
    }
   ],
   "source": [
    "# Write out the model formula.\n",
    "# Your dependent variable on the right, independent variables on the left\n",
    "# Use a ~ to represent an '=' from the functional form\n",
    "linear_formula = 'log_property_crime ~ log_population + robbery'\n",
    "\n",
    "# Fit the model to our data using the formula.\n",
    "lg_model = smf.ols(formula=linear_formula, data=data).fit()\n",
    "params_df = params_df.append(lg_model.params, ignore_index = True)\n",
    "pvalues_df = pvalues_df.append(lg_model.pvalues, ignore_index = True)\n",
    "rsquared_series = rsquared_series.append(pd.Series(lg_model.rsquared))\n",
    "# residual\n",
    "baseline_ypred = lg_model.predict()\n",
    "baseline_residual = baseline_ypred - Y\n",
    "\n",
    "sns.jointplot(Y, baseline_residual, kind = 'kde')\n",
    "plt.show()"
   ]
  },
  {
   "cell_type": "markdown",
   "metadata": {},
   "source": [
    "<a id = 'holdout'></a>\n",
    "### 2. Holdout\n",
    "Train on 30% and test on 70% of the data."
   ]
  },
  {
   "cell_type": "code",
   "execution_count": 7,
   "metadata": {},
   "outputs": [
    {
     "data": {
      "image/png": "[encoded data removed]",
      "text/plain": [
       "<Figure size 432x432 with 3 Axes>"
      ]
     },
     "metadata": {},
     "output_type": "display_data"
    }
   ],
   "source": [
    "# Use train_test_split to create the necessary training and test groups\n",
    "X_train, X_test, Y_train, Y_test = train_test_split(data[['log_population', 'robbery']], data['log_property_crime'], test_size=0.7, random_state=20)\n",
    "holdout_df = pd.concat([X_train, Y_train], axis = 1)\n",
    "# fit and get model values\n",
    "lg_holdout_model = smf.ols(formula=linear_formula, data=holdout_df).fit()\n",
    "params_df = params_df.append(lg_holdout_model.params, ignore_index = True)\n",
    "pvalues_df = pvalues_df.append(lg_holdout_model.pvalues, ignore_index = True)\n",
    "rsquared_series = rsquared_series.append(pd.Series(lg_holdout_model.rsquared))\n",
    "\n",
    "# residual\n",
    "holdout_ypred = lg_holdout_model.predict(X_test)\n",
    "holdout_residual = holdout_ypred - Y\n",
    "sns.jointplot(Y, holdout_residual, kind = 'kde')\n",
    "plt.show()"
   ]
  },
  {
   "cell_type": "markdown",
   "metadata": {},
   "source": [
    "<a id = 'cross_validation'></a>\n",
    "### 3. Cross-validation\n",
    "Train on data, test on fold. Perform 5 folds and find mean and standard deviation of the scores."
   ]
  },
  {
   "cell_type": "code",
   "execution_count": 8,
   "metadata": {},
   "outputs": [],
   "source": [
    "# adapted from 2.3.3_in_sample_evaluation_and_cross_validation.ipynb\n",
    "total_points = data.shape[0]\n",
    "folds = 5\n",
    "fold_size = int(total_points / folds)\n",
    "from sklearn.metrics import confusion_matrix\n",
    "\n",
    "for fold in range(folds):\n",
    "    test_vals = list(range(fold * fold_size,(fold + 1) * fold_size))\n",
    "    train_vals = list(range(total_points))\n",
    "    train_vals = list(set(train_vals) - set(test_vals))\n",
    "    fold_X_train = X.iloc[train_vals]\n",
    "    fold_X_test = X.iloc[test_vals]\n",
    "    fold_Y_train = Y.iloc[train_vals]\n",
    "    fold_Y_test = Y.iloc[test_vals]\n",
    "    cross_val_df = pd.concat([fold_X_train, fold_Y_train], axis = 1)\n",
    "    # fit and get model values\n",
    "    lg_cross_val_model = smf.ols(formula=linear_formula, data=cross_val_df).fit()\n",
    "    params_df = params_df.append(lg_cross_val_model.params, ignore_index = True)\n",
    "    pvalues_df = pvalues_df.append(lg_cross_val_model.pvalues, ignore_index = True)\n",
    "    rsquared_series = rsquared_series.append(pd.Series(lg_cross_val_model.rsquared))\n",
    "    # residual\n",
    "    cross_val_ypred = lg_cross_val_model.predict(fold_X_test)\n",
    "    cross_val_residual = cross_val_ypred - Y"
   ]
  },
  {
   "cell_type": "markdown",
   "metadata": {},
   "source": [
    "<a id = 'transfer_model'></a>\n",
    "### 4. Transfer model\n",
    "Train on New York 2013 data, test on New York 2014 data. Evaluate what transferred well, what transferred poorly."
   ]
  },
  {
   "cell_type": "code",
   "execution_count": 9,
   "metadata": {},
   "outputs": [
    {
     "data": {
      "text/html": [
       "<div>\n",
       "<style scoped>\n",
       "    .dataframe tbody tr th:only-of-type {\n",
       "        vertical-align: middle;\n",
       "    }\n",
       "\n",
       "    .dataframe tbody tr th {\n",
       "        vertical-align: top;\n",
       "    }\n",
       "\n",
       "    .dataframe thead th {\n",
       "        text-align: right;\n",
       "    }\n",
       "</style>\n",
       "<table border=\"1\" class=\"dataframe\">\n",
       "  <thead>\n",
       "    <tr style=\"text-align: right;\">\n",
       "      <th></th>\n",
       "      <th>Population</th>\n",
       "      <th>Robbery</th>\n",
       "      <th>Property crime</th>\n",
       "    </tr>\n",
       "  </thead>\n",
       "  <tbody>\n",
       "    <tr>\n",
       "      <th>0</th>\n",
       "      <td>1,851</td>\n",
       "      <td>0</td>\n",
       "      <td>11</td>\n",
       "    </tr>\n",
       "    <tr>\n",
       "      <th>1</th>\n",
       "      <td>2,568</td>\n",
       "      <td>1</td>\n",
       "      <td>49</td>\n",
       "    </tr>\n",
       "    <tr>\n",
       "      <th>2</th>\n",
       "      <td>820</td>\n",
       "      <td>0</td>\n",
       "      <td>1</td>\n",
       "    </tr>\n",
       "  </tbody>\n",
       "</table>\n",
       "</div>"
      ],
      "text/plain": [
       "  Population Robbery Property crime\n",
       "0      1,851       0             11\n",
       "1      2,568       1             49\n",
       "2        820       0              1"
      ]
     },
     "metadata": {},
     "output_type": "display_data"
    }
   ],
   "source": [
    "# read data into a dataframe\n",
    "data_2014_path = '../../datasets/Table_8_Offenses_Known_to_Law_Enforcement_by_New_York_by_City_2014/Table_8_Offenses_Known_to_Law_Enforcement_by_New_York_by_City_2014.csv'\n",
    "data_2014 = pd.read_csv(data_2014_path, usecols = ['Population', 'Robbery', 'Property crime'])\n",
    "display(data_2014.head(3))"
   ]
  },
  {
   "cell_type": "code",
   "execution_count": 10,
   "metadata": {},
   "outputs": [],
   "source": [
    "# format data, use same transformations as 2013 data (log_population, binary murder and robbery, population_squared and log_property_crime)\n",
    "data_2014.dropna(axis = 0, inplace = True)\n",
    "X_2014 = pd.DataFrame(columns = ['population', 'robbery'])\n",
    "X_2014['population'] = data_2014['Population'].str.replace(',','').astype(int)\n",
    "X_2014['log_population'] = X_2014['population'].apply(np.log)\n",
    "X_2014.drop(['population'], axis = 1, inplace = True)\n",
    "X_2014['robbery'] = data_2014['Robbery'].str.replace(',','').astype(int)\n",
    "X_2014['robbery'] = (X_2014['robbery'] > 0).astype(int)\n",
    "\n",
    "Y_2014 = data_2014['Property crime'].str.replace(',','').astype(float)\n",
    "Y_2014 = (Y_2014 + 1.0).apply(np.log)\n",
    "Y_2014 = Y_2014.rename('log_property_crime');"
   ]
  },
  {
   "cell_type": "code",
   "execution_count": 11,
   "metadata": {},
   "outputs": [],
   "source": [
    "# implement model on 2014 data\n",
    "lg_transfer_model = smf.ols(formula=linear_formula, data=pd.concat([X_2014, Y_2014], axis = 1)).fit()\n",
    "params_df = params_df.append(lg_transfer_model.params, ignore_index = True)\n",
    "pvalues_df = pvalues_df.append(lg_transfer_model.pvalues, ignore_index = True)\n",
    "rsquared_series = rsquared_series.append(pd.Series(lg_transfer_model.rsquared))"
   ]
  },
  {
   "cell_type": "markdown",
   "metadata": {},
   "source": [
    "### Results\n"
   ]
  },
  {
   "cell_type": "code",
   "execution_count": 12,
   "metadata": {},
   "outputs": [
    {
     "data": {
      "text/html": [
       "<div>\n",
       "<style scoped>\n",
       "    .dataframe tbody tr th:only-of-type {\n",
       "        vertical-align: middle;\n",
       "    }\n",
       "\n",
       "    .dataframe tbody tr th {\n",
       "        vertical-align: top;\n",
       "    }\n",
       "\n",
       "    .dataframe thead th {\n",
       "        text-align: right;\n",
       "    }\n",
       "</style>\n",
       "<table border=\"1\" class=\"dataframe\">\n",
       "  <thead>\n",
       "    <tr style=\"text-align: right;\">\n",
       "      <th></th>\n",
       "      <th>Intercept</th>\n",
       "      <th>log_population</th>\n",
       "      <th>robbery</th>\n",
       "    </tr>\n",
       "  </thead>\n",
       "  <tbody>\n",
       "    <tr>\n",
       "      <th>Baseline</th>\n",
       "      <td>-3.936661</td>\n",
       "      <td>0.910056</td>\n",
       "      <td>0.886176</td>\n",
       "    </tr>\n",
       "    <tr>\n",
       "      <th>Holdout</th>\n",
       "      <td>-4.005510</td>\n",
       "      <td>0.923325</td>\n",
       "      <td>0.790968</td>\n",
       "    </tr>\n",
       "    <tr>\n",
       "      <th>CV 1</th>\n",
       "      <td>-3.545851</td>\n",
       "      <td>0.870223</td>\n",
       "      <td>0.883977</td>\n",
       "    </tr>\n",
       "    <tr>\n",
       "      <th>CV 2</th>\n",
       "      <td>-4.142109</td>\n",
       "      <td>0.935404</td>\n",
       "      <td>0.847031</td>\n",
       "    </tr>\n",
       "    <tr>\n",
       "      <th>CV 3</th>\n",
       "      <td>-3.931502</td>\n",
       "      <td>0.912060</td>\n",
       "      <td>0.882593</td>\n",
       "    </tr>\n",
       "    <tr>\n",
       "      <th>CV 4</th>\n",
       "      <td>-3.855598</td>\n",
       "      <td>0.897379</td>\n",
       "      <td>0.905103</td>\n",
       "    </tr>\n",
       "    <tr>\n",
       "      <th>CV 5</th>\n",
       "      <td>-4.171839</td>\n",
       "      <td>0.931149</td>\n",
       "      <td>0.911428</td>\n",
       "    </tr>\n",
       "    <tr>\n",
       "      <th>Transfer</th>\n",
       "      <td>-4.713786</td>\n",
       "      <td>0.978395</td>\n",
       "      <td>0.855024</td>\n",
       "    </tr>\n",
       "  </tbody>\n",
       "</table>\n",
       "</div>"
      ],
      "text/plain": [
       "          Intercept  log_population   robbery\n",
       "Baseline  -3.936661        0.910056  0.886176\n",
       "Holdout   -4.005510        0.923325  0.790968\n",
       "CV 1      -3.545851        0.870223  0.883977\n",
       "CV 2      -4.142109        0.935404  0.847031\n",
       "CV 3      -3.931502        0.912060  0.882593\n",
       "CV 4      -3.855598        0.897379  0.905103\n",
       "CV 5      -4.171839        0.931149  0.911428\n",
       "Transfer  -4.713786        0.978395  0.855024"
      ]
     },
     "metadata": {},
     "output_type": "display_data"
    },
    {
     "data": {
      "text/html": [
       "<div>\n",
       "<style scoped>\n",
       "    .dataframe tbody tr th:only-of-type {\n",
       "        vertical-align: middle;\n",
       "    }\n",
       "\n",
       "    .dataframe tbody tr th {\n",
       "        vertical-align: top;\n",
       "    }\n",
       "\n",
       "    .dataframe thead th {\n",
       "        text-align: right;\n",
       "    }\n",
       "</style>\n",
       "<table border=\"1\" class=\"dataframe\">\n",
       "  <thead>\n",
       "    <tr style=\"text-align: right;\">\n",
       "      <th></th>\n",
       "      <th>Intercept</th>\n",
       "      <th>log_population</th>\n",
       "      <th>robbery</th>\n",
       "    </tr>\n",
       "  </thead>\n",
       "  <tbody>\n",
       "    <tr>\n",
       "      <th>Baseline</th>\n",
       "      <td>7.991378e-29</td>\n",
       "      <td>9.666733e-73</td>\n",
       "      <td>4.197490e-21</td>\n",
       "    </tr>\n",
       "    <tr>\n",
       "      <th>Holdout</th>\n",
       "      <td>1.973506e-09</td>\n",
       "      <td>5.021567e-22</td>\n",
       "      <td>1.637054e-05</td>\n",
       "    </tr>\n",
       "    <tr>\n",
       "      <th>CV 1</th>\n",
       "      <td>8.290079e-19</td>\n",
       "      <td>5.115697e-53</td>\n",
       "      <td>1.924715e-16</td>\n",
       "    </tr>\n",
       "    <tr>\n",
       "      <th>CV 2</th>\n",
       "      <td>6.477577e-26</td>\n",
       "      <td>8.354102e-62</td>\n",
       "      <td>3.347423e-16</td>\n",
       "    </tr>\n",
       "    <tr>\n",
       "      <th>CV 3</th>\n",
       "      <td>3.424594e-24</td>\n",
       "      <td>3.363306e-60</td>\n",
       "      <td>7.248582e-17</td>\n",
       "    </tr>\n",
       "    <tr>\n",
       "      <th>CV 4</th>\n",
       "      <td>8.872013e-23</td>\n",
       "      <td>6.648723e-58</td>\n",
       "      <td>2.395243e-18</td>\n",
       "    </tr>\n",
       "    <tr>\n",
       "      <th>CV 5</th>\n",
       "      <td>1.558720e-25</td>\n",
       "      <td>2.883618e-60</td>\n",
       "      <td>2.604431e-18</td>\n",
       "    </tr>\n",
       "    <tr>\n",
       "      <th>Transfer</th>\n",
       "      <td>1.745351e-30</td>\n",
       "      <td>1.539187e-65</td>\n",
       "      <td>3.842908e-12</td>\n",
       "    </tr>\n",
       "  </tbody>\n",
       "</table>\n",
       "</div>"
      ],
      "text/plain": [
       "             Intercept  log_population       robbery\n",
       "Baseline  7.991378e-29    9.666733e-73  4.197490e-21\n",
       "Holdout   1.973506e-09    5.021567e-22  1.637054e-05\n",
       "CV 1      8.290079e-19    5.115697e-53  1.924715e-16\n",
       "CV 2      6.477577e-26    8.354102e-62  3.347423e-16\n",
       "CV 3      3.424594e-24    3.363306e-60  7.248582e-17\n",
       "CV 4      8.872013e-23    6.648723e-58  2.395243e-18\n",
       "CV 5      1.558720e-25    2.883618e-60  2.604431e-18\n",
       "Transfer  1.745351e-30    1.539187e-65  3.842908e-12"
      ]
     },
     "metadata": {},
     "output_type": "display_data"
    },
    {
     "data": {
      "text/plain": [
       "Baseline    0.809652\n",
       "Holdout     0.811938\n",
       "CV 1        0.794224\n",
       "CV 2        0.818128\n",
       "CV 3        0.817995\n",
       "CV 4        0.802250\n",
       "CV 5        0.816952\n",
       "Transfer    0.760216\n",
       "dtype: float64"
      ]
     },
     "metadata": {},
     "output_type": "display_data"
    }
   ],
   "source": [
    "comparison_index = ['Baseline', 'Holdout', 'CV 1', 'CV 2', 'CV 3', 'CV 4', 'CV 5', 'Transfer']\n",
    "params_df.index = comparison_index\n",
    "pvalues_df.index = comparison_index\n",
    "rsquared_series.index = comparison_index\n",
    "display(params_df)\n",
    "display(pvalues_df)\n",
    "display(rsquared_series)"
   ]
  },
  {
   "cell_type": "code",
   "execution_count": null,
   "metadata": {},
   "outputs": [],
   "source": []
  }
 ],
 "metadata": {
  "kernelspec": {
   "display_name": "Python 3",
   "language": "python",
   "name": "python3"
  },
  "language_info": {
   "codemirror_mode": {
    "name": "ipython",
    "version": 3
   },
   "file_extension": ".py",
   "mimetype": "text/x-python",
   "name": "python",
   "nbconvert_exporter": "python",
   "pygments_lexer": "ipython3",
   "version": "3.6.3"
  }
 },
 "nbformat": 4,
 "nbformat_minor": 2
}
