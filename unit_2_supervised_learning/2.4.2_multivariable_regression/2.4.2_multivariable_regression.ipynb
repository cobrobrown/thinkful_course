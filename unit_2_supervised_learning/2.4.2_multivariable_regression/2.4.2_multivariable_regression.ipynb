{
 "cells": [
  {
   "cell_type": "markdown",
   "metadata": {},
   "source": [
    "### Problem Statement\n",
    "[Download the Excel file here](https://ucr.fbi.gov/crime-in-the-u.s/2013/crime-in-the-u.s.-2013/tables/table-8/table-8-state-cuts/table_8_offenses_known_to_law_enforcement_new_york_by_city_2013.xls) on crime data in New York State in 2013, provided by the FBI: UCR (Thinkful mirror).\n",
    "\n",
    "Prepare this data to model with multivariable regression (including data cleaning if necessary) according to this specification:\n",
    "\n",
    "Propertycrime=α+Population+Population2+Murder+Robbery\n",
    " \n",
    "The 'population' variable is already set for you, but you will need to create the last three features. Robbery and Murder are currently continuous variables. For this model, please use these variables to create categorical features where values greater than 0 are coded 1, and values equal to 0 are coded 0. You'll use this data and model in a later assignment- for now, just write the code you need to get the data ready. Don't forget basic data cleaning procedures, either! Do some graphing to see if there are any anomalous cases, and decide how you want to deal with them.\n",
    "### Outline\n",
    "1. Data preparation\n",
    "2. Visualization"
   ]
  },
  {
   "cell_type": "code",
   "execution_count": 1,
   "metadata": {},
   "outputs": [],
   "source": [
    "import numpy as np\n",
    "import pandas as pd\n",
    "pd.options.mode.chained_assignment = None  # default='warn'\n",
    "import matplotlib.pyplot as plt\n",
    "import seaborn as sns"
   ]
  },
  {
   "cell_type": "code",
   "execution_count": 2,
   "metadata": {},
   "outputs": [
    {
     "name": "stdout",
     "output_type": "stream",
     "text": [
      "348\n",
      "                       city population  murder robbery property_crime\n",
      "0             Adams Village      1,861       0       0             12\n",
      "1  Addison Town and Village      2,577       0       0             24\n",
      "2             Akron Village      2,846       0       0             16\n"
     ]
    }
   ],
   "source": [
    "data_PATH = 'data/table_8_offenses_known_to_law_enforcement_new_york_by_city_2013.csv'\n",
    "df = pd.read_csv(data_PATH)\n",
    "cols_to_keep = ['City', 'Population', 'Murder and\\nnonnegligent\\nmanslaughter', 'Robbery', 'Property\\ncrime']\n",
    "df_prop_crime = df[cols_to_keep]\n",
    "new_cols = ['city', 'population', 'murder', 'robbery', 'property_crime']\n",
    "df_prop_crime.columns = new_cols\n",
    "print (len(df_prop_crime.index))\n",
    "print (df_prop_crime.head(3))"
   ]
  },
  {
   "cell_type": "code",
   "execution_count": 3,
   "metadata": {},
   "outputs": [
    {
     "name": "stdout",
     "output_type": "stream",
     "text": [
      "city              0\n",
      "population        0\n",
      "murder            0\n",
      "robbery           0\n",
      "property_crime    0\n",
      "dtype: int64\n",
      "city                0\n",
      "population          0\n",
      "murder            299\n",
      "robbery             0\n",
      "property_crime      0\n",
      "dtype: int64\n",
      "city              object\n",
      "population        object\n",
      "murder             int64\n",
      "robbery           object\n",
      "property_crime    object\n",
      "dtype: object\n"
     ]
    }
   ],
   "source": [
    "df_nans = df_prop_crime.isnull().sum()\n",
    "df_zeros = (df_prop_crime == 0).sum()\n",
    "print (df_nans)\n",
    "print (df_zeros)\n",
    "print (df_prop_crime.dtypes)"
   ]
  },
  {
   "cell_type": "code",
   "execution_count": 4,
   "metadata": {},
   "outputs": [],
   "source": [
    "df_prop_crime['population'] = df_prop_crime['population'].str.replace(',','')\n",
    "df_prop_crime['robbery'] = df_prop_crime['robbery'].str.replace(',','')\n",
    "df_prop_crime['property_crime'] = df_prop_crime['property_crime'].str.replace(',','')\n",
    "\n",
    "df_prop_crime['population'] = df_prop_crime['population'].astype(float)\n",
    "df_prop_crime['robbery'] = df_prop_crime['robbery'].astype(float)\n",
    "df_prop_crime['property_crime'] = df_prop_crime['property_crime'].astype(float)"
   ]
  },
  {
   "cell_type": "code",
   "execution_count": 5,
   "metadata": {},
   "outputs": [],
   "source": [
    "df_prop_crime['murder'] = np.array(df_prop_crime['murder'] > 0, dtype = int)\n",
    "df_prop_crime['robbery'] = np.array(df_prop_crime['robbery'] > 0, dtype = int)"
   ]
  },
  {
   "cell_type": "code",
   "execution_count": 6,
   "metadata": {},
   "outputs": [
    {
     "data": {
      "image/png": "[encoded data removed]",
      "text/plain": [
       "<Figure size 432x288 with 4 Axes>"
      ]
     },
     "metadata": {},
     "output_type": "display_data"
    },
    {
     "name": "stdout",
     "output_type": "stream",
     "text": [
      "The features murder and robbery show binomial distributions. Where robbery slighlty skewed towards 1, murder is heavily skewed towards 0. This asymmetry may affect our model, so it is important to note it here. \n",
      "The bottom two plots show serious outliers, ones that skew the boxplot to a thin line.\n"
     ]
    }
   ],
   "source": [
    "# distributions of bimodals murder and robbery and normals population and property_crime\n",
    "fig_dist, ax_dist = plt.subplots(2,2)\n",
    "df_prop_crime['murder'].hist(ax = ax_dist[0,0])\n",
    "df_prop_crime['robbery'].hist(ax = ax_dist[0,1])\n",
    "sns.boxplot(data = df_prop_crime['population'], ax = ax_dist[1,0])\n",
    "sns.boxplot(data = df_prop_crime['property_crime'], ax = ax_dist[1,1])\n",
    "plt.show()\n",
    "# discussion\n",
    "print (\"The features murder and robbery show binomial distributions. Where robbery slighlty skewed towards 1, murder is heavily skewed towards 0. This asymmetry may affect our model, so it is important to note it here. \\nThe bottom two plots show serious outliers, ones that skew the boxplot to a thin line.\")"
   ]
  },
  {
   "cell_type": "code",
   "execution_count": 7,
   "metadata": {},
   "outputs": [
    {
     "data": {
      "image/png": "[encoded data removed]",
      "text/plain": [
       "<Figure size 432x288 with 1 Axes>"
      ]
     },
     "metadata": {},
     "output_type": "display_data"
    },
    {
     "data": {
      "image/png": "[encoded data removed]",
      "text/plain": [
       "<Figure size 432x288 with 1 Axes>"
      ]
     },
     "metadata": {},
     "output_type": "display_data"
    },
    {
     "name": "stdout",
     "output_type": "stream",
     "text": [
      "After winsorizing, the data is much more manageable. THe data is still skewed more towards lower values, but the outliers are not as extreme. Since there may actually be a way to indicate the high property crime from similarly high population, then the high-valued outliers may be able to positively influence our model.\n"
     ]
    }
   ],
   "source": [
    "# winsorize population, property crime and population_squared\n",
    "from scipy.stats.mstats import winsorize\n",
    "df_prop_crime['population'] = winsorize(df_prop_crime['population'], limits = [0.05, 0.05])\n",
    "df_prop_crime['property_crime'] = winsorize(df_prop_crime['property_crime'], limits = [0.05, 0.05])\n",
    "sns.boxplot(data = df_prop_crime['population'])\n",
    "plt.title('population')\n",
    "plt.show()\n",
    "sns.boxplot(data = df_prop_crime['property_crime'])\n",
    "plt.title('property_crime')\n",
    "plt.show()\n",
    "# discussion\n",
    "print (\"After winsorizing, the data is much more manageable. THe data is still skewed more towards lower values, but the outliers are not as extreme. Since there may actually be a way to indicate the high property crime from similarly high population, then the high-valued outliers may be able to positively influence our model.\")"
   ]
  },
  {
   "cell_type": "code",
   "execution_count": 8,
   "metadata": {},
   "outputs": [],
   "source": [
    "df_prop_crime['population_squared'] = df_prop_crime['population']**2"
   ]
  },
  {
   "cell_type": "code",
   "execution_count": 9,
   "metadata": {},
   "outputs": [
    {
     "data": {
      "text/html": [
       "<div>\n",
       "<style scoped>\n",
       "    .dataframe tbody tr th:only-of-type {\n",
       "        vertical-align: middle;\n",
       "    }\n",
       "\n",
       "    .dataframe tbody tr th {\n",
       "        vertical-align: top;\n",
       "    }\n",
       "\n",
       "    .dataframe thead th {\n",
       "        text-align: right;\n",
       "    }\n",
       "</style>\n",
       "<table border=\"1\" class=\"dataframe\">\n",
       "  <thead>\n",
       "    <tr style=\"text-align: right;\">\n",
       "      <th></th>\n",
       "      <th>population</th>\n",
       "      <th>murder</th>\n",
       "      <th>robbery</th>\n",
       "      <th>property_crime</th>\n",
       "      <th>population_squared</th>\n",
       "    </tr>\n",
       "  </thead>\n",
       "  <tbody>\n",
       "    <tr>\n",
       "      <th>count</th>\n",
       "      <td>348.000000</td>\n",
       "      <td>348.000000</td>\n",
       "      <td>348.000000</td>\n",
       "      <td>348.000000</td>\n",
       "      <td>3.480000e+02</td>\n",
       "    </tr>\n",
       "    <tr>\n",
       "      <th>mean</th>\n",
       "      <td>13620.954023</td>\n",
       "      <td>0.140805</td>\n",
       "      <td>0.600575</td>\n",
       "      <td>280.491379</td>\n",
       "      <td>4.168966e+08</td>\n",
       "    </tr>\n",
       "    <tr>\n",
       "      <th>std</th>\n",
       "      <td>15232.628855</td>\n",
       "      <td>0.348321</td>\n",
       "      <td>0.490486</td>\n",
       "      <td>376.367198</td>\n",
       "      <td>8.327466e+08</td>\n",
       "    </tr>\n",
       "    <tr>\n",
       "      <th>min</th>\n",
       "      <td>1350.000000</td>\n",
       "      <td>0.000000</td>\n",
       "      <td>0.000000</td>\n",
       "      <td>8.000000</td>\n",
       "      <td>1.822500e+06</td>\n",
       "    </tr>\n",
       "    <tr>\n",
       "      <th>25%</th>\n",
       "      <td>3003.000000</td>\n",
       "      <td>0.000000</td>\n",
       "      <td>0.000000</td>\n",
       "      <td>40.500000</td>\n",
       "      <td>9.018117e+06</td>\n",
       "    </tr>\n",
       "    <tr>\n",
       "      <th>50%</th>\n",
       "      <td>7233.500000</td>\n",
       "      <td>0.000000</td>\n",
       "      <td>1.000000</td>\n",
       "      <td>112.500000</td>\n",
       "      <td>5.232568e+07</td>\n",
       "    </tr>\n",
       "    <tr>\n",
       "      <th>75%</th>\n",
       "      <td>18427.500000</td>\n",
       "      <td>0.000000</td>\n",
       "      <td>1.000000</td>\n",
       "      <td>341.000000</td>\n",
       "      <td>3.397536e+08</td>\n",
       "    </tr>\n",
       "    <tr>\n",
       "      <th>max</th>\n",
       "      <td>57559.000000</td>\n",
       "      <td>1.000000</td>\n",
       "      <td>1.000000</td>\n",
       "      <td>1391.000000</td>\n",
       "      <td>3.313038e+09</td>\n",
       "    </tr>\n",
       "  </tbody>\n",
       "</table>\n",
       "</div>"
      ],
      "text/plain": [
       "         population      murder     robbery  property_crime  \\\n",
       "count    348.000000  348.000000  348.000000      348.000000   \n",
       "mean   13620.954023    0.140805    0.600575      280.491379   \n",
       "std    15232.628855    0.348321    0.490486      376.367198   \n",
       "min     1350.000000    0.000000    0.000000        8.000000   \n",
       "25%     3003.000000    0.000000    0.000000       40.500000   \n",
       "50%     7233.500000    0.000000    1.000000      112.500000   \n",
       "75%    18427.500000    0.000000    1.000000      341.000000   \n",
       "max    57559.000000    1.000000    1.000000     1391.000000   \n",
       "\n",
       "       population_squared  \n",
       "count        3.480000e+02  \n",
       "mean         4.168966e+08  \n",
       "std          8.327466e+08  \n",
       "min          1.822500e+06  \n",
       "25%          9.018117e+06  \n",
       "50%          5.232568e+07  \n",
       "75%          3.397536e+08  \n",
       "max          3.313038e+09  "
      ]
     },
     "execution_count": 9,
     "metadata": {},
     "output_type": "execute_result"
    }
   ],
   "source": [
    "df_prop_crime.describe()"
   ]
  },
  {
   "cell_type": "code",
   "execution_count": null,
   "metadata": {},
   "outputs": [],
   "source": []
  }
 ],
 "metadata": {
  "kernelspec": {
   "display_name": "Python 3",
   "language": "python",
   "name": "python3"
  },
  "language_info": {
   "codemirror_mode": {
    "name": "ipython",
    "version": 3
   },
   "file_extension": ".py",
   "mimetype": "text/x-python",
   "name": "python",
   "nbconvert_exporter": "python",
   "pygments_lexer": "ipython3",
   "version": "3.6.3"
  }
 },
 "nbformat": 4,
 "nbformat_minor": 2
}
