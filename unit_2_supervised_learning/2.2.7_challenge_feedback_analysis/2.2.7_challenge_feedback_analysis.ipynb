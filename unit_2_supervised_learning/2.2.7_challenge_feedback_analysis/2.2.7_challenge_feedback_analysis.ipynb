{
 "cells": [
  {
   "cell_type": "markdown",
   "metadata": {},
   "source": [
    "# Problem Statement\n",
    "Now that you've spent some time tinkering with an example Naive Bayes Classifier, it's time to build your own.\n",
    "\n",
    "We've mentioned that Naive Bayes is particularly good for text classification problems. Before we made a spam filter. Now we'll perform a sentiment analysis, classifying whether feedback left on a website is either positive or negative.\n",
    "\n",
    "Again the UCI Machine Learning database has a nice labeled [dataset of sentiment labelled sentences](https://archive.ics.uci.edu/ml/datasets/Sentiment+Labelled+Sentences) for us to use. This dataset was created for the paper [From Group to Individual Labels using Deep Features](http://mdenil.com/media/papers/2015-deep-multi-instance-learning.pdf), Kotzias et. al., KDD 2015.\n",
    "\n",
    "Pick one of the company data files and build your own classifier. When you're satisfied with its performance (at this point just using the accuracy measure shown in the example), test it on one of the other datasets to see how well these kinds of classifiers translate from one context to another.\n",
    "### Outline\n",
    "1. First Model: imdb\n",
    "2. Transfer Model: yelp\n",
    "3. Write-up"
   ]
  },
  {
   "cell_type": "markdown",
   "metadata": {},
   "source": [
    "### 1. First Model: imdb"
   ]
  },
  {
   "cell_type": "code",
   "execution_count": 1,
   "metadata": {},
   "outputs": [],
   "source": [
    "# prepare the environment\n",
    "import numpy as np\n",
    "import pandas as pd\n",
    "import seaborn as sns"
   ]
  },
  {
   "cell_type": "code",
   "execution_count": 2,
   "metadata": {},
   "outputs": [],
   "source": [
    "# Grab and process the raw data.\n",
    "data_path = \"data/imdb_labelled.txt\"\n",
    "reviews_raw = pd.read_csv(data_path, delimiter= '\\t', header=None)\n",
    "reviews_raw.columns = ['review', 'positive']"
   ]
  },
  {
   "cell_type": "code",
   "execution_count": 3,
   "metadata": {},
   "outputs": [],
   "source": [
    "keywords = ['superb', 'amazing', 'interesting', 'good', 'great', 'best', 'love', 'perfect', 'masterpiece', 'beautiful', 'excellent', 'wonderful', 'art', 'like', 'liked', 'enjoy', 'enjoyed']\n",
    "\n",
    "for key in keywords:\n",
    "    # Note that we add spaces around the key so that we're getting the word,\n",
    "    # not just pattern matching.\n",
    "    reviews_raw[str(key)] = reviews_raw.review.str.contains(\n",
    "        ' ' + str(key) + ' ',\n",
    "        case=False\n",
    "    )"
   ]
  },
  {
   "cell_type": "code",
   "execution_count": 4,
   "metadata": {},
   "outputs": [
    {
     "name": "stdout",
     "output_type": "stream",
     "text": [
      "Ideally, Naive Bayes will be used when our features are completely independent. However, realistically, there will be some independence. Here there is a moderate correlation between 'masterpiece'/'perfect' and 'enjoy'/'beautiful'. If this decreases our performance than we could remove one of the features.\n"
     ]
    },
    {
     "data": {
      "image/png": "[encoded data removed]",
      "text/plain": [
       "<Figure size 432x288 with 2 Axes>"
      ]
     },
     "metadata": {},
     "output_type": "display_data"
    }
   ],
   "source": [
    "sns.heatmap(reviews_raw.corr())\n",
    "# discussion\n",
    "print (\"Ideally, Naive Bayes will be used when our features are completely independent. However, realistically, there will be some independence. Here there is a moderate correlation between 'masterpiece'/'perfect' and 'enjoy'/'beautiful'. If this decreases our performance than we could remove one of the features.\")"
   ]
  },
  {
   "cell_type": "code",
   "execution_count": 5,
   "metadata": {},
   "outputs": [],
   "source": [
    "# create our data and target sets\n",
    "data = reviews_raw[keywords]\n",
    "target = reviews_raw['positive']"
   ]
  },
  {
   "cell_type": "code",
   "execution_count": 6,
   "metadata": {},
   "outputs": [
    {
     "name": "stdout",
     "output_type": "stream",
     "text": [
      "Number of mislabeled points out of a total 748 points : 286\n",
      "Our Naive Bayes classifier only predicts the correct outcome 61.8% of the time. This is not a very good classifier as is. Consider adding keywords to our feature list.\n"
     ]
    }
   ],
   "source": [
    "# Code snippet from Thinkful 2.2.6\n",
    "# Our data is binary / boolean, so we're importing the Bernoulli classifier.\n",
    "from sklearn.naive_bayes import BernoulliNB\n",
    "\n",
    "# Instantiate our model and store it in a new variable.\n",
    "bnb = BernoulliNB()\n",
    "\n",
    "# Fit our model to the data.\n",
    "bnb.fit(data, target)\n",
    "\n",
    "# Classify, storing the result in a new variable.\n",
    "y_pred = bnb.predict(data)\n",
    "\n",
    "# Display our results.\n",
    "total_points = data.shape[0]\n",
    "mislabeled_points = (target != y_pred).sum()\n",
    "print(\"Number of mislabeled points out of a total {} points : {}\".format(\n",
    "    total_points,\n",
    "    mislabeled_points\n",
    "))\n",
    "# discussion\n",
    "print (\"Our Naive Bayes classifier only predicts the correct outcome {}% of the time. This is not a very good classifier as is. Consider adding keywords to our feature list.\".format(round((1 - mislabeled_points / total_points) * 100.0, 1)))"
   ]
  },
  {
   "cell_type": "markdown",
   "metadata": {},
   "source": [
    "### 2. Transfer Model: yelp"
   ]
  },
  {
   "cell_type": "code",
   "execution_count": 7,
   "metadata": {},
   "outputs": [],
   "source": [
    "# get the yelp data\n",
    "yelp_path = 'data/yelp_labelled.txt'\n",
    "yelp_reviews_raw = pd.read_csv(yelp_path, delimiter= '\\t', header=None)\n",
    "yelp_reviews_raw.columns = ['review', 'positive']\n",
    "\n",
    "# add the same keyword features as imdb set\n",
    "for key in keywords:\n",
    "    # Note that we add spaces around the key so that we're getting the word,\n",
    "    # not just pattern matching.\n",
    "    yelp_reviews_raw[str(key)] = yelp_reviews_raw.review.str.contains(\n",
    "        ' ' + str(key) + ' ',\n",
    "        case=False\n",
    "    )\n",
    "\n",
    "# set up data and target sets\n",
    "yelp_data = yelp_reviews_raw[keywords]\n",
    "yelp_target = yelp_reviews_raw['positive']"
   ]
  },
  {
   "cell_type": "code",
   "execution_count": 8,
   "metadata": {},
   "outputs": [],
   "source": [
    "# Instantiate our model and store it in a new variable.\n",
    "yelp_bnb = BernoulliNB()\n",
    "\n",
    "# Fit our model to the data.\n",
    "yelp_bnb.fit(yelp_data, yelp_target)\n",
    "\n",
    "yelp_pred = yelp_bnb.predict(yelp_data)"
   ]
  },
  {
   "cell_type": "code",
   "execution_count": 9,
   "metadata": {},
   "outputs": [
    {
     "name": "stdout",
     "output_type": "stream",
     "text": [
      "Number of mislabeled points out of a total 1000 points : 386\n",
      "The transfered model predicts the correct outcome 61.4% of the time. This shows that reviews for different topics may be classified by similar keywords.\n"
     ]
    }
   ],
   "source": [
    "# display results\n",
    "yelp_total_points = yelp_data.shape[0]\n",
    "yelp_mislabeled_points = (yelp_target != yelp_pred).sum()\n",
    "print(\"Number of mislabeled points out of a total {} points : {}\".format(\n",
    "    yelp_total_points,\n",
    "    yelp_mislabeled_points\n",
    "))\n",
    "# discussion\n",
    "print (\"The transfered model predicts the correct outcome {}% of the time. This shows that reviews for different topics may be classified by similar keywords.\".format(round((1 - yelp_mislabeled_points / yelp_total_points)*100.0, 1)))"
   ]
  },
  {
   "cell_type": "markdown",
   "metadata": {},
   "source": [
    "### 3. Write-up\n",
    "Our Naive Bayes classifier achieved 61.6% average accuracy for classifying sentiment across two separate datasets. First, the model was trained on the imdb data, using keywords to tune the accuracy. Then, the same keywords were used as features for the yelp data. The imdb predictor achieved 61.8% accuracy while the yelp predictor achieved 61.4% accuracy. The slightly higher imdb predictor score may be due to tuning the keywords for that data. Honestly, I am surprised that the scores are so similar. It seems like the sentiment of a review left on most topics will be accurately classified if trained on a single dataset."
   ]
  },
  {
   "cell_type": "code",
   "execution_count": null,
   "metadata": {},
   "outputs": [],
   "source": []
  }
 ],
 "metadata": {
  "kernelspec": {
   "display_name": "Python 3",
   "language": "python",
   "name": "python3"
  },
  "language_info": {
   "codemirror_mode": {
    "name": "ipython",
    "version": 3
   },
   "file_extension": ".py",
   "mimetype": "text/x-python",
   "name": "python",
   "nbconvert_exporter": "python",
   "pygments_lexer": "ipython3",
   "version": "3.6.3"
  }
 },
 "nbformat": 4,
 "nbformat_minor": 2
}
