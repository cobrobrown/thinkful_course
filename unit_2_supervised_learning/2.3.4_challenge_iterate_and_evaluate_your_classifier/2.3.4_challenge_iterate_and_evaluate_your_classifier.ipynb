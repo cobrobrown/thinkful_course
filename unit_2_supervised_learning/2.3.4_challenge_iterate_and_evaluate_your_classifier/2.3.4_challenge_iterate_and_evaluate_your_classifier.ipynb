{
 "cells": [
  {
   "cell_type": "markdown",
   "metadata": {},
   "source": [
    "### Problem Statement\n",
    "It's time to revisit your classifier from the previous assignment. Using the evaluation techniques we've covered here, look at your classifier's performance in more detail. Then go back and iterate by engineering new features, removing poor features, or tuning parameters. Repeat this process until you have five different versions of your classifier. Once you've iterated, answer these questions to compare the performance of each:\n",
    "<br>Do any of your classifiers seem to overfit?\n",
    "<br>Which seem to perform the best? Why?\n",
    "<br>Which features seemed to be most impactful to performance?\n",
    "### Outline\n",
    "Version 1: Original\n",
    "<br>Version 2: Positive word value count\n",
    "<br>Version 3: Negative word value count\n",
    "<br>Version 4: Combine correlated features: negative sentiment\n",
    "<br>Version 5: Combine correlated features: positive sentiment\n",
    "<br>Write Up"
   ]
  },
  {
   "cell_type": "code",
   "execution_count": 1,
   "metadata": {},
   "outputs": [],
   "source": [
    "% matplotlib inline\n",
    "import matplotlib.pyplot as plt\n",
    "import numpy as np\n",
    "import pandas as pd\n",
    "from sklearn.naive_bayes import BernoulliNB\n",
    "from sklearn.metrics import confusion_matrix\n",
    "import random\n",
    "from collections import Counter\n",
    "import operator\n",
    "import seaborn as sns\n",
    "import re\n",
    "data_path = \"data/imdb_labelled.txt\"\n",
    "reviews_raw = pd.read_csv(data_path, delimiter= '\\t', header=None)\n",
    "reviews_raw.columns = ['review', 'positive']\n",
    "# clean up the review strings\n",
    "reviews_raw['review'] = reviews_raw['review']\\\n",
    "    .str.lower()\\\n",
    "    .str.replace('.','')\\\n",
    "    .str.replace(',','')\\\n",
    "    .str.replace('!','')\\\n",
    "    .str.replace('?','')\\\n",
    "    .str.replace(\"'\",'')\\\n",
    "    .str.replace('\\t','')\\\n",
    "    .str.replace('\\n','')\\\n",
    "    .str.replace('\\d','')"
   ]
  },
  {
   "cell_type": "code",
   "execution_count": 2,
   "metadata": {},
   "outputs": [],
   "source": [
    "def keyword_features(df, keywords):\n",
    "    df_keywords = df.copy()\n",
    "    for key in keywords:\n",
    "    # Note that we add spaces around the key so that we're getting the word,\n",
    "    # not just pattern matching.\n",
    "        df_keywords[str(key)] = df_keywords.review.str.contains(\n",
    "            ' ' + str(key) + ' ',\n",
    "            case=False\n",
    "        )\n",
    "    return df_keywords\n",
    "\n",
    "def evaluate_version(df, keywords, target):\n",
    "    random.seed(120)\n",
    "    bnb = BernoulliNB()\n",
    "    data = df[keywords]\n",
    "    total_points = data.shape[0]\n",
    "    # baseline\n",
    "    baseline = (target == True).sum()\n",
    "    train_test_score = bnb.fit(data, target).score(data, target)\n",
    "    print (\"Baseline positive: {}\".format(round(1 - baseline / total_points, 3) ))\n",
    "    print (\"Train = Test Score: {}\".format(round(train_test_score, 3)))\n",
    "    # folds\n",
    "    random_array = list(range(total_points))\n",
    "    random.shuffle(random_array)\n",
    "    random_series = pd.Series(random_array)\n",
    "    folds = 10\n",
    "    fold_scores = np.zeros(folds)\n",
    "    fold_sens = np.zeros(folds)\n",
    "    fold_spec = np.zeros(folds)\n",
    "    fold_size = int(total_points / folds)\n",
    "    \n",
    "    # cross validation\n",
    "    for fold in range(folds):\n",
    "        test_vals = list(random_series[fold * fold_size:(fold + 1) * fold_size])\n",
    "        train_vals = list(random_series)\n",
    "        train_vals = list(set(train_vals) - set(test_vals))\n",
    "        fold_X_train = data.iloc[train_vals]\n",
    "        fold_X_test = data.iloc[test_vals]\n",
    "        fold_Y_train = target.iloc[train_vals]\n",
    "        fold_Y_test = target.iloc[test_vals]\n",
    "        fold_fit = bnb.fit(fold_X_train, fold_Y_train)\n",
    "        fold_pred = bnb.predict(fold_X_test)\n",
    "        fold_scores[fold] = fold_fit.score(fold_X_test, fold_Y_test)\n",
    "        # confusion matrix\n",
    "        spam_confusion_matrix = confusion_matrix(fold_Y_test, fold_pred)\n",
    "        # sensitivity / specificity\n",
    "        fold_sens[fold] = round(spam_confusion_matrix[0][0] / (spam_confusion_matrix[0][0] + spam_confusion_matrix[0][1]), 3)\n",
    "        fold_spec[fold] = round(spam_confusion_matrix[1][0] / (spam_confusion_matrix[1][0] + spam_confusion_matrix[1][1]), 3)\n",
    "    fold_df = pd.DataFrame(data = np.transpose([fold_scores, fold_sens, fold_spec]), columns = ['Score', 'Sensitivity', 'Specificity'])\n",
    "    print (fold_df)\n",
    "    print (\"Means\\n{}\".format(fold_df.mean()))\n",
    "    print (\"Standard Deviations\\n{}\".format(fold_df.std()))"
   ]
  },
  {
   "cell_type": "markdown",
   "metadata": {},
   "source": [
    "### Version 1: Original"
   ]
  },
  {
   "cell_type": "code",
   "execution_count": 3,
   "metadata": {},
   "outputs": [
    {
     "name": "stdout",
     "output_type": "stream",
     "text": [
      "Baseline positive: 0.484\n",
      "Train = Test Score: 0.632\n",
      "      Score  Sensitivity  Specificity\n",
      "0  0.608108        0.933        0.614\n",
      "1  0.621622        0.941        0.650\n",
      "2  0.540541        1.000        0.791\n",
      "3  0.689189        0.884        0.581\n",
      "4  0.662162        0.919        0.595\n",
      "5  0.689189        1.000        0.590\n",
      "6  0.608108        0.897        0.714\n",
      "7  0.702703        1.000        0.564\n",
      "8  0.621622        0.838        0.595\n",
      "9  0.554054        0.917        0.789\n",
      "Means\n",
      "Score          0.62973\n",
      "Sensitivity    0.93290\n",
      "Specificity    0.64830\n",
      "dtype: float64\n",
      "Standard Deviations\n",
      "Score          0.055972\n",
      "Sensitivity    0.054472\n",
      "Specificity    0.085876\n",
      "dtype: float64\n"
     ]
    }
   ],
   "source": [
    "keywords_v1 = ['superb', 'amazing', 'interesting', 'good', 'great', 'best', 'love', 'perfect', 'masterpiece', 'beautiful', 'excellent', 'wonderful', 'art', 'like', 'liked', 'enjoy', 'enjoyed']\n",
    "target_v1 = reviews_raw['positive']\n",
    "\n",
    "reviews_v1 = keyword_features(reviews_raw, keywords_v1)\n",
    "\n",
    "evaluate_version(reviews_v1, keywords_v1, target_v1)"
   ]
  },
  {
   "cell_type": "markdown",
   "metadata": {},
   "source": [
    "### Only-positive and only-negative words"
   ]
  },
  {
   "cell_type": "code",
   "execution_count": 4,
   "metadata": {},
   "outputs": [
    {
     "name": "stdout",
     "output_type": "stream",
     "text": [
      "['song', 'hilarious', 'tale', 'true', 'interesting', 'terrific', 'occasionally', 'joy', 'brilliant', 'silent', 'entertaining', 'become', 'roles', 'parts', 'role', 'superb', 'fine', 'fans', 'beginning', 'appreciate', 'sucks']\n",
      "['poor', 'wasted', 'hours', 'low', 'money', 'idea', 'mediocre', 'away', 'worst', 'whatever', 'glad', 'hard', 'annoying', 'theyre', 'wouldnt', 'pretentious', 'extremely', 'couldnt', 'awful', 'unfortunately', 'depth', 'imagination', 'sucked', 'storyline', 'mean', 'torture', 'else', 'pathetic', 'cheap', 'trash', 'three', 'intelligence', 'involved', 'place', 'unbelievable']\n"
     ]
    }
   ],
   "source": [
    "# value counts of negative sentiment reviews\n",
    "pos_reviews = reviews_raw[reviews_raw['positive'] == 1]\n",
    "pos_string = ' '.join(pos_reviews['review'])\n",
    "pos_words_count = dict(Counter(pos_string.split(\" \")))\n",
    "pos_words = list(pos_words_count.keys())\n",
    "\n",
    "neg_reviews = reviews_raw[reviews_raw['positive'] == 0]\n",
    "neg_string = ' '.join(neg_reviews['review'])\n",
    "neg_words_count = dict(Counter(neg_string.split(\" \")))\n",
    "neg_words = list(neg_words_count.keys())\n",
    "\n",
    "# only positive words\n",
    "only_pos_words = [x for x in pos_words if x not in neg_words]\n",
    "only_pos_words_dict = { key: pos_words_count[key] for key in only_pos_words }\n",
    "top_pos_words = [x for x in only_pos_words_dict if only_pos_words_dict[x] > 3]\n",
    "print (top_pos_words)\n",
    "# only negative words\n",
    "only_neg_words = [x for x in neg_words if x not in pos_words]\n",
    "only_neg_words_dict = { key: neg_words_count[key] for key in only_neg_words }\n",
    "top_neg_words = [x for x in only_neg_words_dict if only_neg_words_dict[x] > 3]\n",
    "print (top_neg_words)"
   ]
  },
  {
   "cell_type": "markdown",
   "metadata": {},
   "source": [
    "### Version 2: Positive word value count"
   ]
  },
  {
   "cell_type": "code",
   "execution_count": 5,
   "metadata": {},
   "outputs": [
    {
     "name": "stdout",
     "output_type": "stream",
     "text": [
      "Baseline positive: 0.484\n",
      "Train = Test Score: 0.591\n",
      "      Score  Sensitivity  Specificity\n",
      "0  0.486486          1.0        0.864\n",
      "1  0.594595          1.0        0.750\n",
      "2  0.527027          1.0        0.814\n",
      "3  0.702703          1.0        0.710\n",
      "4  0.581081          1.0        0.838\n",
      "5  0.554054          1.0        0.846\n",
      "6  0.662162          1.0        0.714\n",
      "7  0.608108          1.0        0.744\n",
      "8  0.594595          1.0        0.811\n",
      "9  0.594595          1.0        0.789\n",
      "Means\n",
      "Score          0.590541\n",
      "Sensitivity    1.000000\n",
      "Specificity    0.788000\n",
      "dtype: float64\n",
      "Standard Deviations\n",
      "Score          0.061779\n",
      "Sensitivity    0.000000\n",
      "Specificity    0.055564\n",
      "dtype: float64\n"
     ]
    }
   ],
   "source": [
    "keywords_v2 = top_pos_words\n",
    "\n",
    "target_v2 = reviews_raw['positive'].astype(bool) # evaluate positive keywords on positive sentiments\n",
    "\n",
    "reviews_v2 = keyword_features(reviews_raw, keywords_v2)\n",
    "\n",
    "evaluate_version(reviews_v2, keywords_v2, target_v2)"
   ]
  },
  {
   "cell_type": "markdown",
   "metadata": {},
   "source": [
    "### Version 3: Negative word value count "
   ]
  },
  {
   "cell_type": "code",
   "execution_count": 6,
   "metadata": {},
   "outputs": [
    {
     "name": "stdout",
     "output_type": "stream",
     "text": [
      "Baseline positive: 0.516\n",
      "Train = Test Score: 0.643\n",
      "      Score  Sensitivity  Specificity\n",
      "0  0.675676          1.0        0.800\n",
      "1  0.675676          1.0        0.706\n",
      "2  0.743243          1.0        0.613\n",
      "3  0.621622          1.0        0.651\n",
      "4  0.621622          1.0        0.757\n",
      "5  0.608108          1.0        0.829\n",
      "6  0.621622          1.0        0.718\n",
      "7  0.621622          1.0        0.800\n",
      "8  0.675676          1.0        0.649\n",
      "9  0.581081          1.0        0.861\n",
      "Means\n",
      "Score          0.644595\n",
      "Sensitivity    1.000000\n",
      "Specificity    0.738400\n",
      "dtype: float64\n",
      "Standard Deviations\n",
      "Score          0.047265\n",
      "Sensitivity    0.000000\n",
      "Specificity    0.084325\n",
      "dtype: float64\n"
     ]
    }
   ],
   "source": [
    "keywords_v3 = top_neg_words\n",
    "\n",
    "target_v3 = ~(reviews_raw['positive'].astype(bool)) # negate positive scores to evaluate negative keywords on negative sentiments\n",
    "\n",
    "reviews_v3 = keyword_features(reviews_raw, keywords_v3)\n",
    "\n",
    "evaluate_version(reviews_v3, keywords_v3, target_v3)"
   ]
  },
  {
   "cell_type": "markdown",
   "metadata": {},
   "source": [
    "### Version 4: Combine correlated features: positive sentiment"
   ]
  },
  {
   "cell_type": "code",
   "execution_count": 7,
   "metadata": {},
   "outputs": [
    {
     "data": {
      "image/png": "[encoded data removed]",
      "text/plain": [
       "<Figure size 720x720 with 2 Axes>"
      ]
     },
     "metadata": {},
     "output_type": "display_data"
    }
   ],
   "source": [
    "# get autocorrelation of positive sentiment words from v3\n",
    "v2_corr = reviews_v2.corr()\n",
    "plt.figure(figsize = (10,10))\n",
    "sns.heatmap(v2_corr)\n",
    "plt.show()"
   ]
  },
  {
   "cell_type": "code",
   "execution_count": 8,
   "metadata": {},
   "outputs": [],
   "source": [
    "def combine_correlated_keywords(df, v_corr, correlation_cutoff = 0.5):\n",
    "    df_temp = df.copy()\n",
    "    combined_keywords = set()\n",
    "    combined_columns = set()\n",
    "    for column in v_corr.columns:\n",
    "        rows = v_corr[column][v_corr[column] > correlation_cutoff].index.values # select indices with correlations above correlation_cutoff\n",
    "        rows = rows[rows != column] # get rid of autocorrelation\n",
    "        combined_words = [tuple(sorted([row, column])) for row in rows] # get list of correlated keywords for this column\n",
    "        combined_keywords.update(combined_words) # add to list of correlated keywords for dataframe\n",
    "        if rows.size:\n",
    "            combined_columns.update([column]) # add columns which had any correlation above correlation_cutoff\n",
    "    for combined_keyword in combined_keywords:\n",
    "        df_temp[combined_keyword[0] + \"/\" + combined_keyword[1]] = df_temp[combined_keyword[0]] | df_temp[combined_keyword[1]]\n",
    "\n",
    "    df_temp.drop(labels = list(combined_columns), axis = 1, inplace = True)\n",
    "\n",
    "    keywords = df_temp.drop(labels = ['review', 'positive'], axis = 1).columns\n",
    "    return df_temp, keywords"
   ]
  },
  {
   "cell_type": "code",
   "execution_count": 9,
   "metadata": {},
   "outputs": [
    {
     "name": "stdout",
     "output_type": "stream",
     "text": [
      "Baseline positive: 0.484\n",
      "Train = Test Score: 0.591\n",
      "      Score  Sensitivity  Specificity\n",
      "0  0.486486          1.0        0.864\n",
      "1  0.594595          1.0        0.750\n",
      "2  0.527027          1.0        0.814\n",
      "3  0.702703          1.0        0.710\n",
      "4  0.581081          1.0        0.838\n",
      "5  0.554054          1.0        0.846\n",
      "6  0.662162          1.0        0.714\n",
      "7  0.608108          1.0        0.744\n",
      "8  0.594595          1.0        0.811\n",
      "9  0.594595          1.0        0.789\n",
      "Means\n",
      "Score          0.590541\n",
      "Sensitivity    1.000000\n",
      "Specificity    0.788000\n",
      "dtype: float64\n",
      "Standard Deviations\n",
      "Score          0.061779\n",
      "Sensitivity    0.000000\n",
      "Specificity    0.055564\n",
      "dtype: float64\n"
     ]
    }
   ],
   "source": [
    "reviews_v4, keywords_v4 = combine_correlated_keywords(reviews_v2, reviews_v2.corr(), correlation_cutoff = 0.3)\n",
    "\n",
    "target_v4 = target_v2.copy() # positive sentiments\n",
    "\n",
    "evaluate_version(reviews_v4, keywords_v4, target_v4)"
   ]
  },
  {
   "cell_type": "markdown",
   "metadata": {},
   "source": [
    "### Version 5: Combine correlated features: negative sentiment"
   ]
  },
  {
   "cell_type": "code",
   "execution_count": 12,
   "metadata": {},
   "outputs": [
    {
     "name": "stdout",
     "output_type": "stream",
     "text": [
      "Baseline positive: 0.516\n",
      "Train = Test Score: 0.643\n",
      "      Score  Sensitivity  Specificity\n",
      "0  0.675676          1.0        0.800\n",
      "1  0.675676          1.0        0.706\n",
      "2  0.743243          1.0        0.613\n",
      "3  0.621622          1.0        0.651\n",
      "4  0.621622          1.0        0.757\n",
      "5  0.608108          1.0        0.829\n",
      "6  0.621622          1.0        0.718\n",
      "7  0.621622          1.0        0.800\n",
      "8  0.689189          1.0        0.622\n",
      "9  0.581081          1.0        0.861\n",
      "Means\n",
      "Score          0.645946\n",
      "Sensitivity    1.000000\n",
      "Specificity    0.735700\n",
      "dtype: float64\n",
      "Standard Deviations\n",
      "Score          0.048431\n",
      "Sensitivity    0.000000\n",
      "Specificity    0.087864\n",
      "dtype: float64\n"
     ]
    }
   ],
   "source": [
    "reviews_v5, keywords_v5 = combine_correlated_keywords(reviews_v3, reviews_v3.corr())\n",
    "\n",
    "target_v5 = target_v3.copy() # negative sentiments\n",
    "\n",
    "evaluate_version(reviews_v5, keywords_v5, target_v5)"
   ]
  },
  {
   "cell_type": "markdown",
   "metadata": {},
   "source": [
    "### Write-up\n",
    "Version 1 represent a biased sampling of words from positive sentiment indices. I chose words that I thought sounded positive in the review. The average score from cross-validation was 62.9%. This method performed much better than the baseline positive score, however, would not work for other production level models. \n",
    "<br>The first attempt to improve the features (in version 2) was to find the most popular words in  the positive sentiment reviews (all similar words in negative sentiment reviews were omitted). Feeding those keywords into the Naive Bayes model provided a score of 59.1%.\n",
    "<br>For version 3, a similar method was used, but with negative sentiment keywords. This model scored 64.5% accuracy. \n",
    "<br>The last two models use a correlation matrix to determine which features to combine. Both positive and negative sentiment keywords were used for versions 4 and 5 respectively. These models performed slightly better than their single-word feature counterparts. Version 4 scored the exact same as the single-word feature version. However, version 5 scored 64.6%, a 0.1% increase over its counterpart. "
   ]
  },
  {
   "cell_type": "code",
   "execution_count": null,
   "metadata": {},
   "outputs": [],
   "source": []
  }
 ],
 "metadata": {
  "kernelspec": {
   "display_name": "Python 3",
   "language": "python",
   "name": "python3"
  },
  "language_info": {
   "codemirror_mode": {
    "name": "ipython",
    "version": 3
   },
   "file_extension": ".py",
   "mimetype": "text/x-python",
   "name": "python",
   "nbconvert_exporter": "python",
   "pygments_lexer": "ipython3",
   "version": "3.6.3"
  }
 },
 "nbformat": 4,
 "nbformat_minor": 2
}
