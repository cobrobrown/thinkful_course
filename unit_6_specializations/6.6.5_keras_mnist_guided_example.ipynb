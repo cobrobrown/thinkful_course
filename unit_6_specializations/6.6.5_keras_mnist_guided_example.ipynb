{
 "cells": [
  {
   "cell_type": "markdown",
   "metadata": {},
   "source": [
    "# Problem Statement\n",
    "We have the MLP above, which runs reasonably quickly. Copy that code down here and see if you can tune it to achieve 99% accuracy with a Multi-Layer Perceptron. Does it run faster than the recurrent or convolutional neural nets?"
   ]
  },
  {
   "cell_type": "code",
   "execution_count": 1,
   "metadata": {},
   "outputs": [
    {
     "name": "stderr",
     "output_type": "stream",
     "text": [
      "Using TensorFlow backend.\n"
     ]
    }
   ],
   "source": [
    "import tensorflow as tf\n",
    "import keras\n",
    "import time\n",
    "# Import the dataset\n",
    "from keras.datasets import mnist\n",
    "\n",
    "# Import various componenets for model building\n",
    "from keras.models import Sequential\n",
    "from keras.layers import Dense, Dropout, Flatten, Conv2D, MaxPooling2D\n",
    "from keras.layers import LSTM, Input, TimeDistributed\n",
    "from keras.models import Model\n",
    "from keras.optimizers import RMSprop, Adam\n",
    "\n",
    "# Import the backend\n",
    "from keras import backend as K"
   ]
  },
  {
   "cell_type": "code",
   "execution_count": 2,
   "metadata": {},
   "outputs": [],
   "source": [
    "(x_train, y_train), (x_test, y_test) = mnist.load_data()"
   ]
  },
  {
   "cell_type": "code",
   "execution_count": 3,
   "metadata": {},
   "outputs": [
    {
     "name": "stdout",
     "output_type": "stream",
     "text": [
      "60000 train samples\n",
      "10000 test samples\n"
     ]
    }
   ],
   "source": [
    "x_train = x_train.reshape(60000, 784)\n",
    "x_test = x_test.reshape(10000, 784)\n",
    "\n",
    "# Convert to float32 for type consistency\n",
    "x_train = x_train.astype('float32')\n",
    "x_test = x_test.astype('float32')\n",
    "\n",
    "# Normalize values to 1 from 0 to 255 (256 values of pixels)\n",
    "x_train /= 255\n",
    "x_test /= 255\n",
    "\n",
    "# Print sample sizes\n",
    "print(x_train.shape[0], 'train samples')\n",
    "print(x_test.shape[0], 'test samples')\n",
    "\n",
    "# Convert class vectors to binary class matrices\n",
    "# So instead of one column with 10 values, create 10 binary columns\n",
    "y_train = keras.utils.to_categorical(y_train, 10)\n",
    "y_test = keras.utils.to_categorical(y_test, 10)"
   ]
  },
  {
   "cell_type": "code",
   "execution_count": 4,
   "metadata": {},
   "outputs": [
    {
     "name": "stdout",
     "output_type": "stream",
     "text": [
      "_________________________________________________________________\n",
      "Layer (type)                 Output Shape              Param #   \n",
      "=================================================================\n",
      "dense_1 (Dense)              (None, 64)                50240     \n",
      "_________________________________________________________________\n",
      "dropout_1 (Dropout)          (None, 64)                0         \n",
      "_________________________________________________________________\n",
      "dense_2 (Dense)              (None, 64)                4160      \n",
      "_________________________________________________________________\n",
      "dropout_2 (Dropout)          (None, 64)                0         \n",
      "_________________________________________________________________\n",
      "dense_3 (Dense)              (None, 10)                650       \n",
      "=================================================================\n",
      "Total params: 55,050\n",
      "Trainable params: 55,050\n",
      "Non-trainable params: 0\n",
      "_________________________________________________________________\n"
     ]
    }
   ],
   "source": [
    "model = Sequential()\n",
    "\n",
    "# Add dense layers to create a fully connected MLP\n",
    "# Note that we specify an input shape for the first layer, but only the first layer.\n",
    "# Relu is the activation function used\n",
    "model.add(Dense(64, activation='relu', input_shape=(784,)))\n",
    "# Dropout layers remove features and fight overfitting\n",
    "model.add(Dropout(0.1))\n",
    "model.add(Dense(64, activation='relu'))\n",
    "model.add(Dropout(0.1))\n",
    "# End with a number of units equal to the number of classes we have for our outcome\n",
    "model.add(Dense(10, activation='softmax'))\n",
    "\n",
    "model.summary()\n",
    "\n",
    "# Compile the model to put it all together.\n",
    "model.compile(loss='categorical_crossentropy',\n",
    "              optimizer=RMSprop(),\n",
    "              metrics=['accuracy'])"
   ]
  },
  {
   "cell_type": "code",
   "execution_count": 5,
   "metadata": {
    "scrolled": true
   },
   "outputs": [
    {
     "name": "stdout",
     "output_type": "stream",
     "text": [
      "Train on 60000 samples, validate on 10000 samples\n",
      "Epoch 1/10\n",
      "60000/60000 [==============================] - 4s 68us/step - loss: 0.4482 - acc: 0.8682 - val_loss: 0.1890 - val_acc: 0.9422\n",
      "Epoch 2/10\n",
      "60000/60000 [==============================] - 2s 37us/step - loss: 0.2035 - acc: 0.9407 - val_loss: 0.1373 - val_acc: 0.9569\n",
      "Epoch 3/10\n",
      "60000/60000 [==============================] - 2s 36us/step - loss: 0.1573 - acc: 0.9523 - val_loss: 0.1081 - val_acc: 0.9664\n",
      "Epoch 4/10\n",
      "60000/60000 [==============================] - 3s 46us/step - loss: 0.1336 - acc: 0.9596 - val_loss: 0.1004 - val_acc: 0.9682\n",
      "Epoch 5/10\n",
      "60000/60000 [==============================] - 3s 45us/step - loss: 0.1173 - acc: 0.9643 - val_loss: 0.0957 - val_acc: 0.9723\n",
      "Epoch 6/10\n",
      "60000/60000 [==============================] - 2s 37us/step - loss: 0.1049 - acc: 0.9685 - val_loss: 0.0902 - val_acc: 0.9728\n",
      "Epoch 7/10\n",
      "60000/60000 [==============================] - 3s 45us/step - loss: 0.0977 - acc: 0.9698 - val_loss: 0.0863 - val_acc: 0.9727\n",
      "Epoch 8/10\n",
      "60000/60000 [==============================] - 3s 47us/step - loss: 0.0915 - acc: 0.9722 - val_loss: 0.0901 - val_acc: 0.9732\n",
      "Epoch 9/10\n",
      "60000/60000 [==============================] - 2s 39us/step - loss: 0.0860 - acc: 0.9728 - val_loss: 0.0863 - val_acc: 0.9741\n",
      "Epoch 10/10\n",
      "60000/60000 [==============================] - 3s 45us/step - loss: 0.0800 - acc: 0.9746 - val_loss: 0.0807 - val_acc: 0.9769\n",
      "Test loss: 0.08069366362721193\n",
      "Test accuracy: 0.9769\n"
     ]
    }
   ],
   "source": [
    "history = model.fit(x_train, y_train,\n",
    "                    batch_size=128,\n",
    "                    epochs=10,\n",
    "                    verbose=1,\n",
    "                    validation_data=(x_test, y_test))\n",
    "score = model.evaluate(x_test, y_test, verbose=0)\n",
    "print('Test loss:', score[0])\n",
    "print('Test accuracy:', score[1])"
   ]
  },
  {
   "cell_type": "markdown",
   "metadata": {},
   "source": [
    "# Improved"
   ]
  },
  {
   "cell_type": "code",
   "execution_count": 25,
   "metadata": {},
   "outputs": [],
   "source": [
    "x_small = x_train[:40000]\n",
    "y_small = y_train[:40000]"
   ]
  },
  {
   "cell_type": "code",
   "execution_count": 32,
   "metadata": {},
   "outputs": [
    {
     "name": "stdout",
     "output_type": "stream",
     "text": [
      "_________________________________________________________________\n",
      "Layer (type)                 Output Shape              Param #   \n",
      "=================================================================\n",
      "dense_35 (Dense)             (None, 64)                50240     \n",
      "_________________________________________________________________\n",
      "dropout_25 (Dropout)         (None, 64)                0         \n",
      "_________________________________________________________________\n",
      "dense_36 (Dense)             (None, 64)                4160      \n",
      "_________________________________________________________________\n",
      "dropout_26 (Dropout)         (None, 64)                0         \n",
      "_________________________________________________________________\n",
      "dense_37 (Dense)             (None, 64)                4160      \n",
      "_________________________________________________________________\n",
      "dropout_27 (Dropout)         (None, 64)                0         \n",
      "_________________________________________________________________\n",
      "dense_38 (Dense)             (None, 64)                4160      \n",
      "_________________________________________________________________\n",
      "dropout_28 (Dropout)         (None, 64)                0         \n",
      "_________________________________________________________________\n",
      "dense_39 (Dense)             (None, 64)                4160      \n",
      "_________________________________________________________________\n",
      "dropout_29 (Dropout)         (None, 64)                0         \n",
      "_________________________________________________________________\n",
      "dense_40 (Dense)             (None, 64)                4160      \n",
      "_________________________________________________________________\n",
      "dropout_30 (Dropout)         (None, 64)                0         \n",
      "_________________________________________________________________\n",
      "dense_41 (Dense)             (None, 10)                650       \n",
      "=================================================================\n",
      "Total params: 71,690\n",
      "Trainable params: 71,690\n",
      "Non-trainable params: 0\n",
      "_________________________________________________________________\n"
     ]
    }
   ],
   "source": [
    "model = Sequential()\n",
    "\n",
    "# Add dense layers to create a fully connected MLP\n",
    "# Note that we specify an input shape for the first layer, but only the first layer.\n",
    "# Relu is the activation function used\n",
    "model.add(Dense(64, activation='relu', input_shape=(784,)))\n",
    "# Dropout layers remove features and fight overfitting\n",
    "model.add(Dropout(0.1))\n",
    "model.add(Dense(64, activation='relu'))\n",
    "model.add(Dropout(0.1))\n",
    "model.add(Dense(64, activation='relu'))\n",
    "model.add(Dropout(0.1))\n",
    "model.add(Dense(64, activation='relu'))\n",
    "model.add(Dropout(0.1))\n",
    "model.add(Dense(64, activation='relu'))\n",
    "model.add(Dropout(0.1))\n",
    "model.add(Dense(64, activation='relu'))\n",
    "model.add(Dropout(0.1))\n",
    "# End with a number of units equal to the number of classes we have for our outcome\n",
    "model.add(Dense(10, activation='softmax'))\n",
    "\n",
    "model.summary()\n",
    "\n",
    "# Compile the model to put it all together.\n",
    "model.compile(loss='categorical_crossentropy',\n",
    "              optimizer=RMSprop(),\n",
    "              metrics=['accuracy'])"
   ]
  },
  {
   "cell_type": "code",
   "execution_count": 33,
   "metadata": {
    "scrolled": false
   },
   "outputs": [
    {
     "name": "stdout",
     "output_type": "stream",
     "text": [
      "Train on 40000 samples, validate on 10000 samples\n",
      "Epoch 1/30\n",
      "40000/40000 [==============================] - 3s 64us/step - loss: 0.7523 - acc: 0.7580 - val_loss: 0.2714 - val_acc: 0.9198\n",
      "Epoch 2/30\n",
      "40000/40000 [==============================] - 2s 45us/step - loss: 0.3145 - acc: 0.9147 - val_loss: 0.2335 - val_acc: 0.9348\n",
      "Epoch 3/30\n",
      "40000/40000 [==============================] - 2s 48us/step - loss: 0.2441 - acc: 0.9341 - val_loss: 0.1642 - val_acc: 0.9538\n",
      "Epoch 4/30\n",
      "40000/40000 [==============================] - 2s 47us/step - loss: 0.2068 - acc: 0.9437 - val_loss: 0.1375 - val_acc: 0.9621\n",
      "Epoch 5/30\n",
      "40000/40000 [==============================] - 2s 54us/step - loss: 0.1767 - acc: 0.9516 - val_loss: 0.1425 - val_acc: 0.9602\n",
      "Epoch 6/30\n",
      "40000/40000 [==============================] - 2s 53us/step - loss: 0.1568 - acc: 0.9566 - val_loss: 0.1285 - val_acc: 0.9648\n",
      "Epoch 7/30\n",
      "40000/40000 [==============================] - 2s 54us/step - loss: 0.1479 - acc: 0.9604 - val_loss: 0.1344 - val_acc: 0.9653\n",
      "Epoch 8/30\n",
      "40000/40000 [==============================] - 2s 53us/step - loss: 0.1358 - acc: 0.9626 - val_loss: 0.1307 - val_acc: 0.9661\n",
      "Epoch 9/30\n",
      "40000/40000 [==============================] - 2s 53us/step - loss: 0.1268 - acc: 0.9654 - val_loss: 0.1358 - val_acc: 0.9668\n",
      "Epoch 10/30\n",
      "40000/40000 [==============================] - 2s 53us/step - loss: 0.1192 - acc: 0.9670 - val_loss: 0.1157 - val_acc: 0.9705\n",
      "Epoch 11/30\n",
      "40000/40000 [==============================] - 2s 53us/step - loss: 0.1112 - acc: 0.9692 - val_loss: 0.1262 - val_acc: 0.9677\n",
      "Epoch 12/30\n",
      "40000/40000 [==============================] - 2s 53us/step - loss: 0.1107 - acc: 0.9697 - val_loss: 0.1199 - val_acc: 0.9699\n",
      "Epoch 13/30\n",
      "40000/40000 [==============================] - 2s 53us/step - loss: 0.1039 - acc: 0.9718 - val_loss: 0.1180 - val_acc: 0.9701\n",
      "Epoch 14/30\n",
      "40000/40000 [==============================] - 2s 53us/step - loss: 0.0985 - acc: 0.9733 - val_loss: 0.1181 - val_acc: 0.9682\n",
      "Epoch 15/30\n",
      "40000/40000 [==============================] - 2s 54us/step - loss: 0.0975 - acc: 0.9733 - val_loss: 0.1252 - val_acc: 0.9712\n",
      "Epoch 16/30\n",
      "40000/40000 [==============================] - 2s 53us/step - loss: 0.0916 - acc: 0.9759 - val_loss: 0.1208 - val_acc: 0.9733\n",
      "Epoch 17/30\n",
      "40000/40000 [==============================] - 2s 55us/step - loss: 0.0892 - acc: 0.9760 - val_loss: 0.1136 - val_acc: 0.9729\n",
      "Epoch 18/30\n",
      "40000/40000 [==============================] - 2s 54us/step - loss: 0.0853 - acc: 0.9768 - val_loss: 0.1258 - val_acc: 0.9709\n",
      "Epoch 19/30\n",
      "40000/40000 [==============================] - 2s 56us/step - loss: 0.0815 - acc: 0.9776 - val_loss: 0.1129 - val_acc: 0.9735\n",
      "Epoch 20/30\n",
      "40000/40000 [==============================] - 2s 53us/step - loss: 0.0824 - acc: 0.9787 - val_loss: 0.1173 - val_acc: 0.9741\n",
      "Epoch 21/30\n",
      "40000/40000 [==============================] - 2s 54us/step - loss: 0.0818 - acc: 0.9790 - val_loss: 0.1152 - val_acc: 0.9755\n",
      "Epoch 22/30\n",
      "40000/40000 [==============================] - 2s 53us/step - loss: 0.0788 - acc: 0.9792 - val_loss: 0.1308 - val_acc: 0.9721\n",
      "Epoch 23/30\n",
      "40000/40000 [==============================] - 2s 53us/step - loss: 0.0765 - acc: 0.9805 - val_loss: 0.1201 - val_acc: 0.9729\n",
      "Epoch 24/30\n",
      "40000/40000 [==============================] - 2s 54us/step - loss: 0.0730 - acc: 0.9812 - val_loss: 0.1259 - val_acc: 0.9735\n",
      "Epoch 25/30\n",
      "40000/40000 [==============================] - 2s 53us/step - loss: 0.0725 - acc: 0.9805 - val_loss: 0.1269 - val_acc: 0.9714\n",
      "Epoch 26/30\n",
      "40000/40000 [==============================] - 2s 53us/step - loss: 0.0732 - acc: 0.9802 - val_loss: 0.1201 - val_acc: 0.9735\n",
      "Epoch 27/30\n",
      "40000/40000 [==============================] - 2s 53us/step - loss: 0.0700 - acc: 0.9816 - val_loss: 0.1188 - val_acc: 0.9746\n",
      "Epoch 28/30\n",
      "40000/40000 [==============================] - 2s 53us/step - loss: 0.0699 - acc: 0.9813 - val_loss: 0.1549 - val_acc: 0.9723\n",
      "Epoch 29/30\n",
      "40000/40000 [==============================] - 2s 54us/step - loss: 0.0712 - acc: 0.9823 - val_loss: 0.1373 - val_acc: 0.9737\n",
      "Epoch 30/30\n",
      "40000/40000 [==============================] - 2s 54us/step - loss: 0.0669 - acc: 0.9826 - val_loss: 0.1458 - val_acc: 0.9736\n",
      "Test loss: 0.1457506554755906\n",
      "Test accuracy: 0.9736\n"
     ]
    }
   ],
   "source": [
    "history = model.fit(x_small, y_small,\n",
    "                    batch_size=128,\n",
    "                    epochs=30,\n",
    "                    verbose=1,\n",
    "                    validation_data=(x_test, y_test))\n",
    "score = model.evaluate(x_test, y_test, verbose=0)\n",
    "print('Test loss:', score[0])\n",
    "print('Test accuracy:', score[1])"
   ]
  },
  {
   "cell_type": "markdown",
   "metadata": {},
   "source": [
    "# Results"
   ]
  },
  {
   "cell_type": "code",
   "execution_count": null,
   "metadata": {},
   "outputs": [],
   "source": []
  }
 ],
 "metadata": {
  "kernelspec": {
   "display_name": "Python 3",
   "language": "python",
   "name": "python3"
  },
  "language_info": {
   "codemirror_mode": {
    "name": "ipython",
    "version": 3
   },
   "file_extension": ".py",
   "mimetype": "text/x-python",
   "name": "python",
   "nbconvert_exporter": "python",
   "pygments_lexer": "ipython3",
   "version": "3.6.5"
  }
 },
 "nbformat": 4,
 "nbformat_minor": 2
}
