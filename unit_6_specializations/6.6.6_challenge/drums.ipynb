{
 "cells": [
  {
   "cell_type": "code",
   "execution_count": 32,
   "metadata": {},
   "outputs": [],
   "source": [
    "import numpy as np\n",
    "import pandas as pd\n",
    "import os\n",
    "import time\n",
    "import librosa\n",
    "import matplotlib.pyplot as plt\n",
    "# supervised learning\n",
    "from sklearn.model_selection import cross_val_score\n",
    "from sklearn.linear_model import LogisticRegression\n",
    "from sklearn.svm import SVC"
   ]
  },
  {
   "cell_type": "code",
   "execution_count": 26,
   "metadata": {},
   "outputs": [
    {
     "name": "stdout",
     "output_type": "stream",
     "text": [
      "Processed 2642 files in 67.38 seconds\n"
     ]
    }
   ],
   "source": [
    "sounds = {\"kick\":\"kick\",\n",
    "          \"kik\":\"kick\",\n",
    "          \"snare\":\"snare\",\n",
    "          \"snr\":\"snare\",\n",
    "          \"bongo\":\"bongo\",\n",
    "          \"tom\":\"tom\",\n",
    "          \"hat\":\"hihat\",\n",
    "          \"hh\":\"hihat\",\n",
    "          \"ride\":\"ride\",\n",
    "          \"clap\":\"clap\",\n",
    "          \"cow\":\"cowbell\",\n",
    "          \"bell\":\"cowbell\",\n",
    "          \"conga\":\"conga\"\n",
    "         }\n",
    "kits,sound_profiles,files,lengths,mfccs = [],[],[],[],[]\n",
    "data_path = \"data/drums/\"\n",
    "start_time=time.time()\n",
    "for kit_path in os.listdir(data_path):\n",
    "    kit = os.listdir(data_path + \"/\" + kit_path)\n",
    "    sound_list = [[x,[sounds[sound] for sound in sounds if sound in x.lower()]] for x in kit]\n",
    "    sound_list = np.array([[x[0],x[1][0]] for x in sound_list if x[1]])\n",
    "    #print(kit_path,\"------------------\",sound_list)\n",
    "    if len(sound_list)>0:\n",
    "        for sound_path,sound_profile in sound_list:\n",
    "            # add files, kits, sound_profiles\n",
    "            files.append(sound_path)\n",
    "            kits.append(kit_path)\n",
    "            sound_profiles.append(sound_profile)\n",
    "            # load data\n",
    "            data,Fs = librosa.load(data_path + kit_path + \"/\" + sound_path,sr=None)\n",
    "            # find longest file: 131811 S\n",
    "            lengths.append(len(data))\n",
    "            # zero pad or cut to 2 seconds\n",
    "            if len(data) > Fs*2: \n",
    "                data = data[:Fs*2]\n",
    "            elif len(data) < Fs*2: \n",
    "                data = np.append(data,[0]*(Fs*2-len(data)))\n",
    "            # process wav\n",
    "            mfcc_temp = librosa.feature.mfcc(np.array(data),sr=Fs,n_mfcc=40, n_fft=2048, hop_length=512)\n",
    "            mfcc_slice = mfcc_temp[1:13,:]\n",
    "            mfccs.append(mfcc_slice.ravel())\n",
    "print(\"Processed\",len(lengths),\"files in {:0.2f}\".format(time.time()-start_time),\"seconds\")"
   ]
  },
  {
   "cell_type": "code",
   "execution_count": 28,
   "metadata": {},
   "outputs": [],
   "source": [
    "df = pd.DataFrame(mfccs)\n",
    "X = df.values\n",
    "df['file']=files\n",
    "df['kit']=kits\n",
    "df['sound_profile']=sound_profiles\n",
    "Y = pd.factorize(sound_profiles)"
   ]
  },
  {
   "cell_type": "code",
   "execution_count": 44,
   "metadata": {
    "scrolled": true
   },
   "outputs": [
    {
     "data": {
      "image/png": "[encoded data removed]",
      "text/plain": [
       "<Figure size 432x288 with 1 Axes>"
      ]
     },
     "metadata": {},
     "output_type": "display_data"
    }
   ],
   "source": [
    "# target distribution\n",
    "sound_count = df['sound_profile'].value_counts()\n",
    "plt.bar(range(len(sound_count)),sound_count,tick_label=sound_count.index)\n",
    "plt.show()"
   ]
  },
  {
   "cell_type": "code",
   "execution_count": 43,
   "metadata": {
    "scrolled": true
   },
   "outputs": [
    {
     "name": "stdout",
     "output_type": "stream",
     "text": [
      "SVC Accuracy 0.6998 +/- 0.0241 in 525.14 seconds\n"
     ]
    }
   ],
   "source": [
    "svc = SVC(C=100,kernel='linear')\n",
    "lg = LogisticRegression(C=1,penalty='l2')\n",
    "def evaluate(model):\n",
    "    score = cross_val_score(model,X,Y[0])\n",
    "    print(\"SVC Accuracy {:0.4f} +/- {:0.4f} in {:0.2f} seconds\".format(score.mean(),score.std(),time.time()-start_time))\n",
    "evaluate(svc)\n",
    "#evaluate(lg)"
   ]
  },
  {
   "cell_type": "code",
   "execution_count": null,
   "metadata": {},
   "outputs": [],
   "source": [
    "# Neural Networks\n"
   ]
  }
 ],
 "metadata": {
  "kernelspec": {
   "display_name": "Python 3",
   "language": "python",
   "name": "python3"
  },
  "language_info": {
   "codemirror_mode": {
    "name": "ipython",
    "version": 3
   },
   "file_extension": ".py",
   "mimetype": "text/x-python",
   "name": "python",
   "nbconvert_exporter": "python",
   "pygments_lexer": "ipython3",
   "version": "3.6.5"
  }
 },
 "nbformat": 4,
 "nbformat_minor": 2
}
