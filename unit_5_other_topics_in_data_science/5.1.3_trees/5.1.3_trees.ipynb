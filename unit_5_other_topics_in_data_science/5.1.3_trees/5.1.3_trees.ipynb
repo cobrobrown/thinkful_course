{
 "cells": [
  {
   "cell_type": "markdown",
   "metadata": {},
   "source": [
    "# DRILL:\n",
    "\n",
    "Implement a binary tree, which is filled with 15 pieces of random data. Your job is to then write a program to traverse the tree using a breadth first traversal. If you want additional practice, try other forms of traversal."
   ]
  },
  {
   "cell_type": "code",
   "execution_count": 2,
   "metadata": {},
   "outputs": [],
   "source": [
    "import random"
   ]
  },
  {
   "cell_type": "code",
   "execution_count": 3,
   "metadata": {},
   "outputs": [],
   "source": [
    "class Node:\n",
    "    def __init__(self, value=0):\n",
    "        self.left = None\n",
    "        self.right = None\n",
    "        self.value = value"
   ]
  },
  {
   "cell_type": "code",
   "execution_count": 21,
   "metadata": {},
   "outputs": [
    {
     "name": "stdout",
     "output_type": "stream",
     "text": [
      "1\n",
      "1\n",
      "2\n",
      "3\n",
      "4\n",
      "5\n",
      "6\n",
      "7\n",
      "8\n",
      "9\n",
      "10\n",
      "11\n",
      "12\n",
      "13\n",
      "14\n"
     ]
    }
   ],
   "source": [
    "# fill the tree with 15 random samples\n",
    "random.seed(a=100)\n",
    "root = Node(int(random.random() * 10))\n",
    "print(root.value)\n",
    "root.left = Node(1)\n",
    "print(root.left.value)\n",
    "root.right = Node(2)\n",
    "print(root.right.value)\n",
    "root.left.left = Node(3)\n",
    "print(root.left.left.value)\n",
    "root.left.right = Node(4)\n",
    "print(root.left.right.value)\n",
    "root.right.left = Node(5)\n",
    "print(root.right.left.value)\n",
    "root.right.right = Node(6)\n",
    "print(root.right.right.value)\n",
    "root.left.left.left = Node(7)\n",
    "print(root.left.left.left.value)\n",
    "root.left.left.right = Node(8)\n",
    "print(root.left.left.right.value)\n",
    "root.left.right.left = Node(9)\n",
    "print(root.left.right.left.value)\n",
    "root.left.right.right = Node(10)\n",
    "print(root.left.right.right.value)\n",
    "root.right.left.left = Node(11)\n",
    "print(root.right.left.left.value)\n",
    "root.right.left.right = Node(12)\n",
    "print(root.right.left.right.value)\n",
    "root.right.right.left = Node(13)\n",
    "print(root.right.right.left.value)\n",
    "root.right.right.right = Node(14)\n",
    "print(root.right.right.right.value)"
   ]
  },
  {
   "cell_type": "code",
   "execution_count": 22,
   "metadata": {},
   "outputs": [
    {
     "name": "stdout",
     "output_type": "stream",
     "text": [
      "1\n",
      "1\n",
      "2\n",
      "3\n",
      "4\n",
      "5\n",
      "6\n",
      "7\n",
      "8\n",
      "9\n",
      "10\n",
      "11\n",
      "12\n",
      "13\n",
      "14\n"
     ]
    }
   ],
   "source": [
    "queue = [root]\n",
    "while queue:\n",
    "    curr = queue.pop(0)\n",
    "    print(curr.value)\n",
    "    if curr.left: queue.append(curr.left)\n",
    "    if curr.right: queue.append(curr.right)"
   ]
  },
  {
   "cell_type": "code",
   "execution_count": null,
   "metadata": {},
   "outputs": [],
   "source": []
  }
 ],
 "metadata": {
  "kernelspec": {
   "display_name": "Python 3",
   "language": "python",
   "name": "python3"
  },
  "language_info": {
   "codemirror_mode": {
    "name": "ipython",
    "version": 3
   },
   "file_extension": ".py",
   "mimetype": "text/x-python",
   "name": "python",
   "nbconvert_exporter": "python",
   "pygments_lexer": "ipython3",
   "version": "3.6.5"
  }
 },
 "nbformat": 4,
 "nbformat_minor": 2
}
