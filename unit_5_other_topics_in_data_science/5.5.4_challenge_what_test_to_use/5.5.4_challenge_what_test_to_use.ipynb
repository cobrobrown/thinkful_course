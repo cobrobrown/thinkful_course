{
 "cells": [
  {
   "cell_type": "markdown",
   "metadata": {},
   "source": [
    "# Problem Statement\n",
    "Using selected questions from the 2012 and 2014 editions of the European Social Survey, address the following questions. Keep track of your code and results in a Jupyter notebook or other source that you can share with your mentor. For each question, explain why you chose the approach you did.\n",
    "\n",
    "Here is the data file. And here is the codebook, with information about the variable coding and content.\n",
    "\n",
    "In this dataset, the same participants answered questions in 2012 and again 2014.\n",
    "\n",
    "1. Did people become less trusting from 2012 to 2014? Compute results for each country in the sample.\n",
    "2. Did people become happier from 2012 to 2014? Compute results for each country in the sample.\n",
    "3. Who reported watching more TV in 2012, men or women?\n",
    "4. Who was more likely to believe people were fair in 2012, people living with a partner or people living alone?\n",
    "5. Pick three or four of the countries in the sample and compare how often people met socially in 2014. Are there differences, and if so, which countries stand out?\n",
    "6. Pick three or four of the countries in the sample and compare how often people took part in social activities, relative to others their age, in 2014. Are there differences, and if so, which countries stand out?"
   ]
  },
  {
   "cell_type": "code",
   "execution_count": 1,
   "metadata": {},
   "outputs": [],
   "source": [
    "import numpy as np\n",
    "import pandas as pd\n",
    "import matplotlib.pyplot as plt\n",
    "from scipy import stats"
   ]
  },
  {
   "cell_type": "code",
   "execution_count": 2,
   "metadata": {},
   "outputs": [
    {
     "data": {
      "text/html": [
       "<div>\n",
       "<style scoped>\n",
       "    .dataframe tbody tr th:only-of-type {\n",
       "        vertical-align: middle;\n",
       "    }\n",
       "\n",
       "    .dataframe tbody tr th {\n",
       "        vertical-align: top;\n",
       "    }\n",
       "\n",
       "    .dataframe thead th {\n",
       "        text-align: right;\n",
       "    }\n",
       "</style>\n",
       "<table border=\"1\" class=\"dataframe\">\n",
       "  <thead>\n",
       "    <tr style=\"text-align: right;\">\n",
       "      <th></th>\n",
       "      <th>cntry</th>\n",
       "      <th>idno</th>\n",
       "      <th>year</th>\n",
       "      <th>tvtot</th>\n",
       "      <th>ppltrst</th>\n",
       "      <th>pplfair</th>\n",
       "      <th>pplhlp</th>\n",
       "      <th>happy</th>\n",
       "      <th>sclmeet</th>\n",
       "      <th>sclact</th>\n",
       "      <th>gndr</th>\n",
       "      <th>agea</th>\n",
       "      <th>partner</th>\n",
       "    </tr>\n",
       "  </thead>\n",
       "  <tbody>\n",
       "    <tr>\n",
       "      <th>0</th>\n",
       "      <td>CH</td>\n",
       "      <td>5.0</td>\n",
       "      <td>6</td>\n",
       "      <td>3.0</td>\n",
       "      <td>3.0</td>\n",
       "      <td>10.0</td>\n",
       "      <td>5.0</td>\n",
       "      <td>8.0</td>\n",
       "      <td>5.0</td>\n",
       "      <td>4.0</td>\n",
       "      <td>2.0</td>\n",
       "      <td>60.0</td>\n",
       "      <td>1.0</td>\n",
       "    </tr>\n",
       "    <tr>\n",
       "      <th>1</th>\n",
       "      <td>CH</td>\n",
       "      <td>25.0</td>\n",
       "      <td>6</td>\n",
       "      <td>6.0</td>\n",
       "      <td>5.0</td>\n",
       "      <td>7.0</td>\n",
       "      <td>5.0</td>\n",
       "      <td>9.0</td>\n",
       "      <td>3.0</td>\n",
       "      <td>2.0</td>\n",
       "      <td>2.0</td>\n",
       "      <td>59.0</td>\n",
       "      <td>1.0</td>\n",
       "    </tr>\n",
       "    <tr>\n",
       "      <th>2</th>\n",
       "      <td>CH</td>\n",
       "      <td>26.0</td>\n",
       "      <td>6</td>\n",
       "      <td>1.0</td>\n",
       "      <td>8.0</td>\n",
       "      <td>8.0</td>\n",
       "      <td>8.0</td>\n",
       "      <td>7.0</td>\n",
       "      <td>6.0</td>\n",
       "      <td>3.0</td>\n",
       "      <td>1.0</td>\n",
       "      <td>24.0</td>\n",
       "      <td>2.0</td>\n",
       "    </tr>\n",
       "    <tr>\n",
       "      <th>3</th>\n",
       "      <td>CH</td>\n",
       "      <td>28.0</td>\n",
       "      <td>6</td>\n",
       "      <td>4.0</td>\n",
       "      <td>6.0</td>\n",
       "      <td>6.0</td>\n",
       "      <td>7.0</td>\n",
       "      <td>10.0</td>\n",
       "      <td>6.0</td>\n",
       "      <td>2.0</td>\n",
       "      <td>2.0</td>\n",
       "      <td>64.0</td>\n",
       "      <td>1.0</td>\n",
       "    </tr>\n",
       "    <tr>\n",
       "      <th>4</th>\n",
       "      <td>CH</td>\n",
       "      <td>29.0</td>\n",
       "      <td>6</td>\n",
       "      <td>5.0</td>\n",
       "      <td>6.0</td>\n",
       "      <td>7.0</td>\n",
       "      <td>5.0</td>\n",
       "      <td>8.0</td>\n",
       "      <td>7.0</td>\n",
       "      <td>2.0</td>\n",
       "      <td>2.0</td>\n",
       "      <td>55.0</td>\n",
       "      <td>1.0</td>\n",
       "    </tr>\n",
       "  </tbody>\n",
       "</table>\n",
       "</div>"
      ],
      "text/plain": [
       "  cntry  idno  year  tvtot  ppltrst  pplfair  pplhlp  happy  sclmeet  sclact  \\\n",
       "0    CH   5.0     6    3.0      3.0     10.0     5.0    8.0      5.0     4.0   \n",
       "1    CH  25.0     6    6.0      5.0      7.0     5.0    9.0      3.0     2.0   \n",
       "2    CH  26.0     6    1.0      8.0      8.0     8.0    7.0      6.0     3.0   \n",
       "3    CH  28.0     6    4.0      6.0      6.0     7.0   10.0      6.0     2.0   \n",
       "4    CH  29.0     6    5.0      6.0      7.0     5.0    8.0      7.0     2.0   \n",
       "\n",
       "   gndr  agea  partner  \n",
       "0   2.0  60.0      1.0  \n",
       "1   2.0  59.0      1.0  \n",
       "2   1.0  24.0      2.0  \n",
       "3   2.0  64.0      1.0  \n",
       "4   2.0  55.0      1.0  "
      ]
     },
     "execution_count": 2,
     "metadata": {},
     "output_type": "execute_result"
    }
   ],
   "source": [
    "df = pd.read_csv(\"ESSdata_Thinkful.csv\")\n",
    "df = df.fillna(df.median())\n",
    "df.head()"
   ]
  },
  {
   "cell_type": "code",
   "execution_count": 3,
   "metadata": {},
   "outputs": [
    {
     "name": "stdout",
     "output_type": "stream",
     "text": [
      "Shape of data (8594, 13)\n",
      "Number of unique countries\n",
      "ES    2426\n",
      "SE    1816\n",
      "CH    1546\n",
      "NO    1462\n",
      "CZ    1316\n",
      "DE      28\n",
      "Name: cntry, dtype: int64\n"
     ]
    }
   ],
   "source": [
    "print(\"Shape of data\",df.shape)\n",
    "print(\"Number of unique countries\")\n",
    "print(df['cntry'].value_counts())"
   ]
  },
  {
   "cell_type": "markdown",
   "metadata": {},
   "source": [
    "From the codebook:\n",
    "<br>year(6) = 2012\n",
    "<br>gndr(1) = Male\n",
    "<br>partner(1) = Lives with husband/wife/partner\n",
    "<br>cntry: ES = Spain, SE = Sweden, CH = Switzerland, NO = Norway, CZ = Czech Republic, DE = Germany"
   ]
  },
  {
   "cell_type": "markdown",
   "metadata": {},
   "source": [
    "# 1. Did people become less trusting from 2012 to 2014? Compute results for each country in the sample"
   ]
  },
  {
   "cell_type": "code",
   "execution_count": 4,
   "metadata": {},
   "outputs": [
    {
     "data": {
      "image/png": "[encoded data removed]",
      "text/plain": [
       "<Figure size 432x288 with 2 Axes>"
      ]
     },
     "metadata": {},
     "output_type": "display_data"
    }
   ],
   "source": [
    "df_2012 = df[df['year'] == 6]\n",
    "fig, ax = plt.subplots(1,2)\n",
    "df_2012['ppltrst'].hist(ax=ax[0])\n",
    "ax[0].set_title('ppltrst: 2012')\n",
    "df_2014 = df[df['year'] == 7]\n",
    "df_2014['ppltrst'].hist(ax=ax[1])\n",
    "ax[1].set_title('ppltrst: 2014')\n",
    "plt.show()"
   ]
  },
  {
   "cell_type": "code",
   "execution_count": 5,
   "metadata": {},
   "outputs": [
    {
     "data": {
      "text/plain": [
       "Ttest_relResult(statistic=0.1513281783069418, pvalue=0.8797239474781275)"
      ]
     },
     "execution_count": 5,
     "metadata": {},
     "output_type": "execute_result"
    }
   ],
   "source": [
    "# is there a difference in trust from 2012 to 2014\n",
    "stats.ttest_rel(df_2012['ppltrst'],df_2014['ppltrst'])"
   ]
  },
  {
   "cell_type": "code",
   "execution_count": 6,
   "metadata": {},
   "outputs": [
    {
     "name": "stdout",
     "output_type": "stream",
     "text": [
      "ES\n",
      "Ttest_relResult(statistic=2.4654605168309875, pvalue=0.013821475296285565) \n",
      "\n",
      "SE\n",
      "Ttest_relResult(statistic=-2.077952635366614, pvalue=0.037994493452976834) \n",
      "\n",
      "CH\n",
      "Ttest_relResult(statistic=-0.6586851756725737, pvalue=0.5102943511301135) \n",
      "\n",
      "NO\n",
      "Ttest_relResult(statistic=0.536083058309722, pvalue=0.5920644526109955) \n",
      "\n",
      "CZ\n",
      "Ttest_relResult(statistic=-0.3505247744198508, pvalue=0.7260572552300646) \n",
      "\n",
      "DE\n",
      "Ttest_relResult(statistic=-0.18399501804849683, pvalue=0.8568563797095805) \n",
      "\n"
     ]
    }
   ],
   "source": [
    "# for each country?\n",
    "countries = list(df['cntry'].value_counts().index)\n",
    "for country in countries:\n",
    "    df_c_2012 = df_2012[df_2012['cntry'] == country]\n",
    "    df_c_2014 = df_2014[df_2014['cntry'] == country]\n",
    "    print(country)\n",
    "    print(stats.ttest_rel(df_c_2012['ppltrst'],df_c_2014['ppltrst']),\"\\n\")"
   ]
  },
  {
   "cell_type": "markdown",
   "metadata": {},
   "source": [
    "### Results\n",
    "Although the distributions between 2012 and 2014 look very similar, the groups show varying results from the t-test. Here we see that there is a statistically significant difference between the trust of people in Spain (ES) and Sweden (SE). However, the rest of the countries did not show the same trend."
   ]
  },
  {
   "cell_type": "markdown",
   "metadata": {},
   "source": [
    "# 2. Did people become happier from 2012 to 2014? Compute results for each country in the sample."
   ]
  },
  {
   "cell_type": "code",
   "execution_count": 7,
   "metadata": {},
   "outputs": [
    {
     "data": {
      "image/png": "[encoded data removed]",
      "text/plain": [
       "<Figure size 432x288 with 1 Axes>"
      ]
     },
     "metadata": {},
     "output_type": "display_data"
    }
   ],
   "source": [
    "df['happy'].hist()\n",
    "plt.show()"
   ]
  },
  {
   "cell_type": "code",
   "execution_count": 8,
   "metadata": {},
   "outputs": [
    {
     "data": {
      "image/png": "[encoded data removed]",
      "text/plain": [
       "<Figure size 432x288 with 2 Axes>"
      ]
     },
     "metadata": {},
     "output_type": "display_data"
    }
   ],
   "source": [
    "fig, ax = plt.subplots(1,2)\n",
    "df_2012['happy'].hist(ax=ax[0])\n",
    "ax[0].set_title('happy: 2012')\n",
    "df_2014['happy'].hist(ax=ax[1])\n",
    "ax[1].set_title('happy: 2014')\n",
    "plt.show()"
   ]
  },
  {
   "cell_type": "code",
   "execution_count": 9,
   "metadata": {},
   "outputs": [
    {
     "data": {
      "text/plain": [
       "WilcoxonResult(statistic=2936643.0, pvalue=0.034305851328279506)"
      ]
     },
     "execution_count": 9,
     "metadata": {},
     "output_type": "execute_result"
    }
   ],
   "source": [
    "# is there a difference in trust from 2012 to 2014\n",
    "stats.wilcoxon(df_2012['happy'],df_2014['happy'])"
   ]
  },
  {
   "cell_type": "code",
   "execution_count": 10,
   "metadata": {},
   "outputs": [
    {
     "name": "stdout",
     "output_type": "stream",
     "text": [
      "ES\n",
      "WilcoxonResult(statistic=232720.5, pvalue=0.059772872562481524) \n",
      "\n",
      "SE\n",
      "WilcoxonResult(statistic=126465.0, pvalue=0.682451144037987) \n",
      "\n",
      "CH\n",
      "WilcoxonResult(statistic=93384.0, pvalue=0.9248463130390704) \n",
      "\n",
      "NO\n",
      "WilcoxonResult(statistic=68546.0, pvalue=1.1346429849504098e-05) \n",
      "\n",
      "CZ\n",
      "WilcoxonResult(statistic=78000.5, pvalue=0.2829630838149413) \n",
      "\n",
      "DE\n",
      "WilcoxonResult(statistic=23.5, pvalue=0.393351316918508) \n",
      "\n"
     ]
    }
   ],
   "source": [
    "# for each country\n",
    "countries = list(df['cntry'].value_counts().index)\n",
    "for country in countries:\n",
    "    df_c_2012 = df_2012[df_2012['cntry'] == country]\n",
    "    df_c_2014 = df_2014[df_2014['cntry'] == country]\n",
    "    print(country)\n",
    "    print(stats.wilcoxon(df_c_2012['happy'],df_c_2014['happy']),\"\\n\")"
   ]
  },
  {
   "cell_type": "markdown",
   "metadata": {},
   "source": [
    "### Results\n",
    "Given all of the data, no significant change in happiness occurs between 2012 and 2014.\n",
    "Only Norway (NO) exhibits a statistically significant Wilcoxon value, meaning there is a difference in happiness between 2012 and 2014 for Norway alone."
   ]
  },
  {
   "cell_type": "markdown",
   "metadata": {},
   "source": [
    "# 3. Who reported watching more TV in 2012, men or women?"
   ]
  },
  {
   "cell_type": "code",
   "execution_count": 11,
   "metadata": {},
   "outputs": [
    {
     "data": {
      "image/png": "[encoded data removed]",
      "text/plain": [
       "<Figure size 432x288 with 1 Axes>"
      ]
     },
     "metadata": {},
     "output_type": "display_data"
    }
   ],
   "source": [
    "df_2012['tvtot'].hist()\n",
    "plt.show()"
   ]
  },
  {
   "cell_type": "code",
   "execution_count": 37,
   "metadata": {},
   "outputs": [
    {
     "data": {
      "image/png": "[encoded data removed]",
      "text/plain": [
       "<Figure size 432x288 with 1 Axes>"
      ]
     },
     "metadata": {},
     "output_type": "display_data"
    }
   ],
   "source": [
    "df_2012[df_2012['gndr'] == 1]['tvtot'].hist(alpha=.5,label=\"Men\",color='b')\n",
    "df_2012[df_2012['gndr'] == 2]['tvtot'].hist(alpha=.5,label=\"Women\",color='k')\n",
    "plt.legend()\n",
    "plt.show()"
   ]
  },
  {
   "cell_type": "code",
   "execution_count": 38,
   "metadata": {},
   "outputs": [
    {
     "data": {
      "text/plain": [
       "Ttest_indResult(statistic=-0.6900012172591534, pvalue=0.49023070220255527)"
      ]
     },
     "execution_count": 38,
     "metadata": {},
     "output_type": "execute_result"
    }
   ],
   "source": [
    "stats.ttest_ind(df_2012[df_2012['gndr'] == 1]['tvtot'],df_2012[df_2012['gndr'] == 2]['tvtot'])"
   ]
  },
  {
   "cell_type": "markdown",
   "metadata": {},
   "source": [
    "### Results\n",
    "When split into two groups, the amount of tv watched between men and women is almost indistinguishable. However, on average women watch more tv."
   ]
  },
  {
   "cell_type": "markdown",
   "metadata": {},
   "source": [
    "# 4. Who was more likely to believe people were fair in 2012, people living with a partner or people living alone?"
   ]
  },
  {
   "cell_type": "code",
   "execution_count": 14,
   "metadata": {},
   "outputs": [
    {
     "data": {
      "image/png": "[encoded data removed]",
      "text/plain": [
       "<Figure size 432x288 with 1 Axes>"
      ]
     },
     "metadata": {},
     "output_type": "display_data"
    }
   ],
   "source": [
    "df_2012['pplfair'].hist()\n",
    "plt.show()"
   ]
  },
  {
   "cell_type": "code",
   "execution_count": 40,
   "metadata": {},
   "outputs": [
    {
     "data": {
      "image/png": "[encoded data removed]",
      "text/plain": [
       "<Figure size 432x288 with 1 Axes>"
      ]
     },
     "metadata": {},
     "output_type": "display_data"
    }
   ],
   "source": [
    "df_2012[df_2012['partner']==1]['pplfair'].hist(alpha=.5,label=\"partner\",color='b')\n",
    "df_2012[df_2012['partner']==2]['pplfair'].hist(alpha=.5,label=\"alone\",color='k')\n",
    "plt.legend()\n",
    "plt.show()"
   ]
  },
  {
   "cell_type": "code",
   "execution_count": 16,
   "metadata": {},
   "outputs": [
    {
     "data": {
      "text/plain": [
       "Ttest_indResult(statistic=3.3526650393131754, pvalue=0.0008073002028865902)"
      ]
     },
     "execution_count": 16,
     "metadata": {},
     "output_type": "execute_result"
    }
   ],
   "source": [
    "stats.ttest_ind(df_2012[df_2012['partner']==1]['pplfair'],df_2012[df_2012['partner']==2]['pplfair'])"
   ]
  },
  {
   "cell_type": "markdown",
   "metadata": {},
   "source": [
    "### Results\n",
    "Although the distributions of those living alone and with a partner appear similar in shape, the t-test indicates that people who live with a partner are more likely to think people are fair."
   ]
  },
  {
   "cell_type": "markdown",
   "metadata": {},
   "source": [
    "# 5. Pick three or four of the countries in the sample and compare how often people met socially in 2014. Are there differences, and if so, which countries stand out?"
   ]
  },
  {
   "cell_type": "code",
   "execution_count": 32,
   "metadata": {},
   "outputs": [
    {
     "data": {
      "image/png": "[encoded data removed]",
      "text/plain": [
       "<Figure size 432x288 with 1 Axes>"
      ]
     },
     "metadata": {},
     "output_type": "display_data"
    },
    {
     "data": {
      "image/png": "[encoded data removed]",
      "text/plain": [
       "<Figure size 1080x360 with 3 Axes>"
      ]
     },
     "metadata": {},
     "output_type": "display_data"
    }
   ],
   "source": [
    "df_2014['sclmeet'].hist()\n",
    "plt.title(\"2014 social meeting\")\n",
    "plt.show()\n",
    "df_es_2014 = df_2014[df_2014['cntry']=='ES']\n",
    "df_se_2014 = df_2014[df_2014['cntry']=='SE']\n",
    "df_ch_2014 = df_2014[df_2014['cntry']=='CH']\n",
    "fig,ax = plt.subplots(1,3,sharey=True,figsize=(15,5))\n",
    "df_es_2014['sclmeet'].hist(ax=ax[0])\n",
    "ax[0].set_title(\"Spain (ES) 2014 social meeting\")\n",
    "df_se_2014['sclmeet'].hist(ax=ax[1])\n",
    "ax[1].set_title(\"Sweden (SE) 2014 social meeting\")\n",
    "df_ch_2014['sclmeet'].hist(ax=ax[2])\n",
    "ax[2].set_title(\"Switzerland (CH) 2014 social meeting\")\n",
    "plt.show()\n"
   ]
  },
  {
   "cell_type": "code",
   "execution_count": 35,
   "metadata": {},
   "outputs": [
    {
     "name": "stdout",
     "output_type": "stream",
     "text": [
      "test statistic 46.74125433519566\n",
      "p-value 7.08378844244659e-11\n"
     ]
    }
   ],
   "source": [
    "#test for differences\n",
    "stat, p, med, tbl = stats.median_test(df_es_2014['sclmeet'],df_se_2014['sclmeet'],df_ch_2014['sclmeet'])\n",
    "print(\"test statistic\",stat)\n",
    "print(\"p-value\",p)"
   ]
  },
  {
   "cell_type": "markdown",
   "metadata": {},
   "source": [
    "### Results\n",
    "Between our 3 countries there is at least one which differs from the rest given the low p-value for the median test. "
   ]
  },
  {
   "cell_type": "markdown",
   "metadata": {},
   "source": [
    "# 6. Pick three or four of the countries in the sample and compare how often people took part in social activities, relative to others their age, in 2014. Are there differences, and if so, which countries stand out?"
   ]
  },
  {
   "cell_type": "code",
   "execution_count": 33,
   "metadata": {},
   "outputs": [
    {
     "data": {
      "image/png": "[encoded data removed]",
      "text/plain": [
       "<Figure size 432x288 with 1 Axes>"
      ]
     },
     "metadata": {},
     "output_type": "display_data"
    },
    {
     "data": {
      "image/png": "[encoded data removed]",
      "text/plain": [
       "<Figure size 1080x360 with 3 Axes>"
      ]
     },
     "metadata": {},
     "output_type": "display_data"
    }
   ],
   "source": [
    "df_2014['sclact'].hist()\n",
    "plt.title(\"2014 social activites\")\n",
    "plt.show()\n",
    "fig,ax = plt.subplots(1,3,sharey=True,figsize=(15,5))\n",
    "df_es_2014['sclact'].hist(ax=ax[0])\n",
    "ax[0].set_title(\"Spain (ES) 2014 social activites\")\n",
    "df_se_2014['sclact'].hist(ax=ax[1])\n",
    "ax[1].set_title(\"Sweden (SE) 2014 social activites\")\n",
    "df_ch_2014['sclact'].hist(ax=ax[2])\n",
    "ax[2].set_title(\"Switzerland (CH) 2014 social activites\")\n",
    "plt.show()"
   ]
  },
  {
   "cell_type": "code",
   "execution_count": 36,
   "metadata": {},
   "outputs": [
    {
     "data": {
      "text/plain": [
       "F_onewayResult(statistic=21.163454957801243, pvalue=7.506929083444684e-10)"
      ]
     },
     "execution_count": 36,
     "metadata": {},
     "output_type": "execute_result"
    }
   ],
   "source": [
    "# test for difference\n",
    "stats.f_oneway(df_es_2014['sclact'],df_se_2014['sclact'],df_ch_2014['sclact'])"
   ]
  },
  {
   "cell_type": "markdown",
   "metadata": {},
   "source": [
    "### Results\n",
    "The results of the One way ANOVA show that one group is not like the others."
   ]
  },
  {
   "cell_type": "code",
   "execution_count": null,
   "metadata": {},
   "outputs": [],
   "source": []
  }
 ],
 "metadata": {
  "kernelspec": {
   "display_name": "Python 3",
   "language": "python",
   "name": "python3"
  },
  "language_info": {
   "codemirror_mode": {
    "name": "ipython",
    "version": 3
   },
   "file_extension": ".py",
   "mimetype": "text/x-python",
   "name": "python",
   "nbconvert_exporter": "python",
   "pygments_lexer": "ipython3",
   "version": "3.6.5"
  }
 },
 "nbformat": 4,
 "nbformat_minor": 2
}
