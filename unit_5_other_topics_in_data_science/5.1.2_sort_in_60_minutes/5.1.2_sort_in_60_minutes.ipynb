{
 "cells": [
  {
   "cell_type": "markdown",
   "metadata": {},
   "source": [
    "# DRILL\n",
    "Return to the sorting wiki page and pick an algorithm we haven't covered here (you probably want to pick one of the simpler ones, but it's up to you. Implement it in Python below and see how it compares in sorting our short and long lists. You should be able to easily find guides on how to implement any of the algorithms. Can you figure out why it runs faster or slower than our other sorting algorithms?"
   ]
  },
  {
   "cell_type": "code",
   "execution_count": 3,
   "metadata": {},
   "outputs": [],
   "source": [
    "import time\n",
    "import random\n",
    "\n",
    "# Set seed.\n",
    "random.seed(a=100)\n",
    "\n",
    "# Create our default list.\n",
    "short_list = list(random.sample(range(1000000), 10))\n",
    "long_list = list(random.sample(range(1000000), 10000))"
   ]
  },
  {
   "cell_type": "code",
   "execution_count": 17,
   "metadata": {},
   "outputs": [],
   "source": [
    "# selection sort\n",
    "def selection(array):\n",
    "    for i in range(len(array)):\n",
    "        min_val = array[i]\n",
    "        min_index = i\n",
    "        # find minimum in remaining array\n",
    "        for j in range(i+1,len(array)):\n",
    "            if array[j] < min_val: min_val,min_index = array[j],j\n",
    "        # put min at the index\n",
    "        array[i],array[min_index] = array[min_index], array[i]\n",
    "    return array"
   ]
  },
  {
   "cell_type": "code",
   "execution_count": 18,
   "metadata": {},
   "outputs": [
    {
     "name": "stdout",
     "output_type": "stream",
     "text": [
      "Short Selection sort time: 0.0000631809 seconds\n",
      "[152745, 183236, 366725, 412125, 477025, 481850, 739784, 767514, 808225, 997948]\n",
      "\n",
      "Long Selection sort time: 2.8712539673 seconds\n",
      "[29, 174, 316, 373, 424, 430, 705, 762, 786, 830]\n"
     ]
    }
   ],
   "source": [
    "start_time = time.time()\n",
    "ss = selection(short_list)\n",
    "print(\"Short Selection sort time: {:0.10f} seconds\".format(time.time() - start_time))\n",
    "print(ss)\n",
    "start_time = time.time()\n",
    "sl = selection(long_list)\n",
    "print(\"\\nLong Selection sort time: {:0.10f} seconds\".format(time.time() - start_time))\n",
    "print(sl[:10])"
   ]
  },
  {
   "cell_type": "markdown",
   "metadata": {},
   "source": [
    "# Write-up\n",
    "The short list performs comparably to other methods. However, the long list takes considerably longer, about 1/50th slower! This is due to the complexity of the algorithm. Since Selection Sort has a nested 'for' loop which iterates through the remaining list, its Big O complexity is n^2 whereas Merge sorts complexity is n*log(n)"
   ]
  },
  {
   "cell_type": "code",
   "execution_count": null,
   "metadata": {},
   "outputs": [],
   "source": []
  }
 ],
 "metadata": {
  "kernelspec": {
   "display_name": "Python 3",
   "language": "python",
   "name": "python3"
  },
  "language_info": {
   "codemirror_mode": {
    "name": "ipython",
    "version": 3
   },
   "file_extension": ".py",
   "mimetype": "text/x-python",
   "name": "python",
   "nbconvert_exporter": "python",
   "pygments_lexer": "ipython3",
   "version": "3.6.5"
  }
 },
 "nbformat": 4,
 "nbformat_minor": 2
}
